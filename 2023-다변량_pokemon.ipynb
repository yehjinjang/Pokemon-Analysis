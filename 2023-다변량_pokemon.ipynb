{
 "cells": [
  {
   "cell_type": "code",
   "execution_count": 398,
   "id": "a9997638",
   "metadata": {},
   "outputs": [],
   "source": [
    "%matplotlib inline\n",
    "\n",
    "import pandas as pd\n",
    "import numpy as np\n",
    "import matplotlib.pyplot as plt\n",
    "import seaborn as sns\n",
    "\n",
    "import warnings\n",
    "warnings.filterwarnings(\"ignore\")\n",
    "\n",
    "plt.rcParams['font.family'] = 'Malgun Gothic'  # 한글 깨짐 방지\n",
    "plt.rcParams['figure.figsize'] = (10, 8)  # figsize 설정\n",
    "\n",
    "\n",
    "from sklearn.cluster import KMeans\n",
    "from kneed import KneeLocator\n",
    "from sklearn.metrics import silhouette_score"
   ]
  },
  {
   "cell_type": "code",
   "execution_count": 399,
   "id": "51af03e4",
   "metadata": {},
   "outputs": [],
   "source": [
    "df = pd.read_csv(\"C:\\\\Users\\\\shj06\\\\OneDrive\\\\바탕 화면\\\\archive\\\\pokemon.csv\")"
   ]
  },
  {
   "cell_type": "code",
   "execution_count": 400,
   "id": "cebfd03e",
   "metadata": {},
   "outputs": [
    {
     "name": "stdout",
     "output_type": "stream",
     "text": [
      "<class 'pandas.core.frame.DataFrame'>\n",
      "RangeIndex: 801 entries, 0 to 800\n",
      "Data columns (total 41 columns):\n",
      " #   Column             Non-Null Count  Dtype  \n",
      "---  ------             --------------  -----  \n",
      " 0   abilities          801 non-null    object \n",
      " 1   against_bug        801 non-null    float64\n",
      " 2   against_dark       801 non-null    float64\n",
      " 3   against_dragon     801 non-null    float64\n",
      " 4   against_electric   801 non-null    float64\n",
      " 5   against_fairy      801 non-null    float64\n",
      " 6   against_fight      801 non-null    float64\n",
      " 7   against_fire       801 non-null    float64\n",
      " 8   against_flying     801 non-null    float64\n",
      " 9   against_ghost      801 non-null    float64\n",
      " 10  against_grass      801 non-null    float64\n",
      " 11  against_ground     801 non-null    float64\n",
      " 12  against_ice        801 non-null    float64\n",
      " 13  against_normal     801 non-null    float64\n",
      " 14  against_poison     801 non-null    float64\n",
      " 15  against_psychic    801 non-null    float64\n",
      " 16  against_rock       801 non-null    float64\n",
      " 17  against_steel      801 non-null    float64\n",
      " 18  against_water      801 non-null    float64\n",
      " 19  attack             801 non-null    int64  \n",
      " 20  base_egg_steps     801 non-null    int64  \n",
      " 21  base_happiness     801 non-null    int64  \n",
      " 22  base_total         801 non-null    int64  \n",
      " 23  capture_rate       801 non-null    object \n",
      " 24  classfication      801 non-null    object \n",
      " 25  defense            801 non-null    int64  \n",
      " 26  experience_growth  801 non-null    int64  \n",
      " 27  height_m           781 non-null    float64\n",
      " 28  hp                 801 non-null    int64  \n",
      " 29  japanese_name      801 non-null    object \n",
      " 30  name               801 non-null    object \n",
      " 31  percentage_male    703 non-null    float64\n",
      " 32  pokedex_number     801 non-null    int64  \n",
      " 33  sp_attack          801 non-null    int64  \n",
      " 34  sp_defense         801 non-null    int64  \n",
      " 35  speed              801 non-null    int64  \n",
      " 36  type1              801 non-null    object \n",
      " 37  type2              417 non-null    object \n",
      " 38  weight_kg          781 non-null    float64\n",
      " 39  generation         801 non-null    int64  \n",
      " 40  is_legendary       801 non-null    int64  \n",
      "dtypes: float64(21), int64(13), object(7)\n",
      "memory usage: 256.7+ KB\n"
     ]
    }
   ],
   "source": [
    "df.info()"
   ]
  },
  {
   "cell_type": "code",
   "execution_count": 401,
   "id": "9ffd81a7",
   "metadata": {},
   "outputs": [
    {
     "data": {
      "text/html": [
       "<div>\n",
       "<style scoped>\n",
       "    .dataframe tbody tr th:only-of-type {\n",
       "        vertical-align: middle;\n",
       "    }\n",
       "\n",
       "    .dataframe tbody tr th {\n",
       "        vertical-align: top;\n",
       "    }\n",
       "\n",
       "    .dataframe thead th {\n",
       "        text-align: right;\n",
       "    }\n",
       "</style>\n",
       "<table border=\"1\" class=\"dataframe\">\n",
       "  <thead>\n",
       "    <tr style=\"text-align: right;\">\n",
       "      <th></th>\n",
       "      <th>abilities</th>\n",
       "      <th>against_bug</th>\n",
       "      <th>against_dark</th>\n",
       "      <th>against_dragon</th>\n",
       "      <th>against_electric</th>\n",
       "      <th>against_fairy</th>\n",
       "      <th>against_fight</th>\n",
       "      <th>against_fire</th>\n",
       "      <th>against_flying</th>\n",
       "      <th>against_ghost</th>\n",
       "      <th>...</th>\n",
       "      <th>hp</th>\n",
       "      <th>name</th>\n",
       "      <th>percentage_male</th>\n",
       "      <th>sp_attack</th>\n",
       "      <th>sp_defense</th>\n",
       "      <th>speed</th>\n",
       "      <th>type1</th>\n",
       "      <th>type2</th>\n",
       "      <th>generation</th>\n",
       "      <th>is_legendary</th>\n",
       "    </tr>\n",
       "  </thead>\n",
       "  <tbody>\n",
       "    <tr>\n",
       "      <th>0</th>\n",
       "      <td>['Overgrow', 'Chlorophyll']</td>\n",
       "      <td>1.0</td>\n",
       "      <td>1.0</td>\n",
       "      <td>1.0</td>\n",
       "      <td>0.5</td>\n",
       "      <td>0.5</td>\n",
       "      <td>0.5</td>\n",
       "      <td>2.0</td>\n",
       "      <td>2.0</td>\n",
       "      <td>1.0</td>\n",
       "      <td>...</td>\n",
       "      <td>45</td>\n",
       "      <td>Bulbasaur</td>\n",
       "      <td>88.1</td>\n",
       "      <td>65</td>\n",
       "      <td>65</td>\n",
       "      <td>45</td>\n",
       "      <td>grass</td>\n",
       "      <td>poison</td>\n",
       "      <td>1</td>\n",
       "      <td>0</td>\n",
       "    </tr>\n",
       "    <tr>\n",
       "      <th>1</th>\n",
       "      <td>['Overgrow', 'Chlorophyll']</td>\n",
       "      <td>1.0</td>\n",
       "      <td>1.0</td>\n",
       "      <td>1.0</td>\n",
       "      <td>0.5</td>\n",
       "      <td>0.5</td>\n",
       "      <td>0.5</td>\n",
       "      <td>2.0</td>\n",
       "      <td>2.0</td>\n",
       "      <td>1.0</td>\n",
       "      <td>...</td>\n",
       "      <td>60</td>\n",
       "      <td>Ivysaur</td>\n",
       "      <td>88.1</td>\n",
       "      <td>80</td>\n",
       "      <td>80</td>\n",
       "      <td>60</td>\n",
       "      <td>grass</td>\n",
       "      <td>poison</td>\n",
       "      <td>1</td>\n",
       "      <td>0</td>\n",
       "    </tr>\n",
       "    <tr>\n",
       "      <th>2</th>\n",
       "      <td>['Overgrow', 'Chlorophyll']</td>\n",
       "      <td>1.0</td>\n",
       "      <td>1.0</td>\n",
       "      <td>1.0</td>\n",
       "      <td>0.5</td>\n",
       "      <td>0.5</td>\n",
       "      <td>0.5</td>\n",
       "      <td>2.0</td>\n",
       "      <td>2.0</td>\n",
       "      <td>1.0</td>\n",
       "      <td>...</td>\n",
       "      <td>80</td>\n",
       "      <td>Venusaur</td>\n",
       "      <td>88.1</td>\n",
       "      <td>122</td>\n",
       "      <td>120</td>\n",
       "      <td>80</td>\n",
       "      <td>grass</td>\n",
       "      <td>poison</td>\n",
       "      <td>1</td>\n",
       "      <td>0</td>\n",
       "    </tr>\n",
       "    <tr>\n",
       "      <th>3</th>\n",
       "      <td>['Blaze', 'Solar Power']</td>\n",
       "      <td>0.5</td>\n",
       "      <td>1.0</td>\n",
       "      <td>1.0</td>\n",
       "      <td>1.0</td>\n",
       "      <td>0.5</td>\n",
       "      <td>1.0</td>\n",
       "      <td>0.5</td>\n",
       "      <td>1.0</td>\n",
       "      <td>1.0</td>\n",
       "      <td>...</td>\n",
       "      <td>39</td>\n",
       "      <td>Charmander</td>\n",
       "      <td>88.1</td>\n",
       "      <td>60</td>\n",
       "      <td>50</td>\n",
       "      <td>65</td>\n",
       "      <td>fire</td>\n",
       "      <td>NaN</td>\n",
       "      <td>1</td>\n",
       "      <td>0</td>\n",
       "    </tr>\n",
       "    <tr>\n",
       "      <th>4</th>\n",
       "      <td>['Blaze', 'Solar Power']</td>\n",
       "      <td>0.5</td>\n",
       "      <td>1.0</td>\n",
       "      <td>1.0</td>\n",
       "      <td>1.0</td>\n",
       "      <td>0.5</td>\n",
       "      <td>1.0</td>\n",
       "      <td>0.5</td>\n",
       "      <td>1.0</td>\n",
       "      <td>1.0</td>\n",
       "      <td>...</td>\n",
       "      <td>58</td>\n",
       "      <td>Charmeleon</td>\n",
       "      <td>88.1</td>\n",
       "      <td>80</td>\n",
       "      <td>65</td>\n",
       "      <td>80</td>\n",
       "      <td>fire</td>\n",
       "      <td>NaN</td>\n",
       "      <td>1</td>\n",
       "      <td>0</td>\n",
       "    </tr>\n",
       "  </tbody>\n",
       "</table>\n",
       "<p>5 rows × 32 columns</p>\n",
       "</div>"
      ],
      "text/plain": [
       "                     abilities  against_bug  against_dark  against_dragon  \\\n",
       "0  ['Overgrow', 'Chlorophyll']          1.0           1.0             1.0   \n",
       "1  ['Overgrow', 'Chlorophyll']          1.0           1.0             1.0   \n",
       "2  ['Overgrow', 'Chlorophyll']          1.0           1.0             1.0   \n",
       "3     ['Blaze', 'Solar Power']          0.5           1.0             1.0   \n",
       "4     ['Blaze', 'Solar Power']          0.5           1.0             1.0   \n",
       "\n",
       "   against_electric  against_fairy  against_fight  against_fire  \\\n",
       "0               0.5            0.5            0.5           2.0   \n",
       "1               0.5            0.5            0.5           2.0   \n",
       "2               0.5            0.5            0.5           2.0   \n",
       "3               1.0            0.5            1.0           0.5   \n",
       "4               1.0            0.5            1.0           0.5   \n",
       "\n",
       "   against_flying  against_ghost  ...  hp        name  percentage_male  \\\n",
       "0             2.0            1.0  ...  45   Bulbasaur             88.1   \n",
       "1             2.0            1.0  ...  60     Ivysaur             88.1   \n",
       "2             2.0            1.0  ...  80    Venusaur             88.1   \n",
       "3             1.0            1.0  ...  39  Charmander             88.1   \n",
       "4             1.0            1.0  ...  58  Charmeleon             88.1   \n",
       "\n",
       "   sp_attack  sp_defense  speed  type1   type2  generation  is_legendary  \n",
       "0         65          65     45  grass  poison           1             0  \n",
       "1         80          80     60  grass  poison           1             0  \n",
       "2        122         120     80  grass  poison           1             0  \n",
       "3         60          50     65   fire     NaN           1             0  \n",
       "4         80          65     80   fire     NaN           1             0  \n",
       "\n",
       "[5 rows x 32 columns]"
      ]
     },
     "execution_count": 401,
     "metadata": {},
     "output_type": "execute_result"
    }
   ],
   "source": [
    "# Assuming there is an existing DataFrame 'df', we will drop the specified columns\n",
    "# The columns to be dropped are: 'base_egg_steps', 'base_happiness', 'experience_growth', 'japanese_name', \n",
    "# 'pokedex_number', 'weight_kg', 'height_m'\n",
    "\n",
    "columns_to_drop = ['base_egg_steps', 'base_happiness', 'experience_growth', \n",
    "                   'japanese_name', 'pokedex_number', 'weight_kg', 'height_m','capture_rate','classfication']\n",
    "\n",
    "# Dropping the specified columns from the DataFrame\n",
    "df1 = df.drop(columns=columns_to_drop)\n",
    "\n",
    "# Displaying the resulting DataFrame\n",
    "df1.head()"
   ]
  },
  {
   "cell_type": "code",
   "execution_count": 402,
   "id": "891ccfe5",
   "metadata": {},
   "outputs": [
    {
     "name": "stdout",
     "output_type": "stream",
     "text": [
      "<class 'pandas.core.frame.DataFrame'>\n",
      "RangeIndex: 801 entries, 0 to 800\n",
      "Data columns (total 32 columns):\n",
      " #   Column            Non-Null Count  Dtype  \n",
      "---  ------            --------------  -----  \n",
      " 0   abilities         801 non-null    object \n",
      " 1   against_bug       801 non-null    float64\n",
      " 2   against_dark      801 non-null    float64\n",
      " 3   against_dragon    801 non-null    float64\n",
      " 4   against_electric  801 non-null    float64\n",
      " 5   against_fairy     801 non-null    float64\n",
      " 6   against_fight     801 non-null    float64\n",
      " 7   against_fire      801 non-null    float64\n",
      " 8   against_flying    801 non-null    float64\n",
      " 9   against_ghost     801 non-null    float64\n",
      " 10  against_grass     801 non-null    float64\n",
      " 11  against_ground    801 non-null    float64\n",
      " 12  against_ice       801 non-null    float64\n",
      " 13  against_normal    801 non-null    float64\n",
      " 14  against_poison    801 non-null    float64\n",
      " 15  against_psychic   801 non-null    float64\n",
      " 16  against_rock      801 non-null    float64\n",
      " 17  against_steel     801 non-null    float64\n",
      " 18  against_water     801 non-null    float64\n",
      " 19  attack            801 non-null    int64  \n",
      " 20  base_total        801 non-null    int64  \n",
      " 21  defense           801 non-null    int64  \n",
      " 22  hp                801 non-null    int64  \n",
      " 23  name              801 non-null    object \n",
      " 24  percentage_male   703 non-null    float64\n",
      " 25  sp_attack         801 non-null    int64  \n",
      " 26  sp_defense        801 non-null    int64  \n",
      " 27  speed             801 non-null    int64  \n",
      " 28  type1             801 non-null    object \n",
      " 29  type2             417 non-null    object \n",
      " 30  generation        801 non-null    int64  \n",
      " 31  is_legendary      801 non-null    int64  \n",
      "dtypes: float64(19), int64(9), object(4)\n",
      "memory usage: 200.4+ KB\n"
     ]
    }
   ],
   "source": [
    "df1.info()"
   ]
  },
  {
   "cell_type": "code",
   "execution_count": 403,
   "id": "69d4b4e5",
   "metadata": {},
   "outputs": [],
   "source": [
    "# 컬럼 명 변경\n",
    "df1.columns = [\n",
    "    '능력',\n",
    "    '상성_벌레',\n",
    "    '상성_악',\n",
    "    '상성_드래곤',\n",
    "    '상성_전기',\n",
    "    '상성_페어리',\n",
    "    '상성_격투',\n",
    "    '상성_불',\n",
    "    '상성_비행',\n",
    "    '상성_고스트',\n",
    "    '상성_풀',\n",
    "    '상성_땅',\n",
    "    '상성_얼음',\n",
    "    '상성_노멀',\n",
    "    '상성_독',\n",
    "    '상성_에스퍼',\n",
    "    '상성_바위',\n",
    "    '상성_강철',\n",
    "    '상성_물',\n",
    "    '공격',\n",
    "    '스탯_총합',\n",
    "    '방어',\n",
    "    '체력',\n",
    "    '이름',\n",
    "    '수컷_비율',\n",
    "    '특수_공격',\n",
    "    '특수_방어',\n",
    "    '스피드',\n",
    "    '타입1',\n",
    "    '타입2',\n",
    "    '세대',\n",
    "    '전설의_포켓몬_여부'\n",
    "]"
   ]
  },
  {
   "cell_type": "code",
   "execution_count": 404,
   "id": "36b6ce22",
   "metadata": {
    "scrolled": false
   },
   "outputs": [
    {
     "name": "stdout",
     "output_type": "stream",
     "text": [
      "<class 'pandas.core.frame.DataFrame'>\n",
      "RangeIndex: 801 entries, 0 to 800\n",
      "Data columns (total 32 columns):\n",
      " #   Column      Non-Null Count  Dtype  \n",
      "---  ------      --------------  -----  \n",
      " 0   능력          801 non-null    object \n",
      " 1   상성_벌레       801 non-null    float64\n",
      " 2   상성_악        801 non-null    float64\n",
      " 3   상성_드래곤      801 non-null    float64\n",
      " 4   상성_전기       801 non-null    float64\n",
      " 5   상성_페어리      801 non-null    float64\n",
      " 6   상성_격투       801 non-null    float64\n",
      " 7   상성_불        801 non-null    float64\n",
      " 8   상성_비행       801 non-null    float64\n",
      " 9   상성_고스트      801 non-null    float64\n",
      " 10  상성_풀        801 non-null    float64\n",
      " 11  상성_땅        801 non-null    float64\n",
      " 12  상성_얼음       801 non-null    float64\n",
      " 13  상성_노멀       801 non-null    float64\n",
      " 14  상성_독        801 non-null    float64\n",
      " 15  상성_에스퍼      801 non-null    float64\n",
      " 16  상성_바위       801 non-null    float64\n",
      " 17  상성_강철       801 non-null    float64\n",
      " 18  상성_물        801 non-null    float64\n",
      " 19  공격          801 non-null    int64  \n",
      " 20  스탯_총합       801 non-null    int64  \n",
      " 21  방어          801 non-null    int64  \n",
      " 22  체력          801 non-null    int64  \n",
      " 23  이름          801 non-null    object \n",
      " 24  수컷_비율       703 non-null    float64\n",
      " 25  특수_공격       801 non-null    int64  \n",
      " 26  특수_방어       801 non-null    int64  \n",
      " 27  스피드         801 non-null    int64  \n",
      " 28  타입1         801 non-null    object \n",
      " 29  타입2         417 non-null    object \n",
      " 30  세대          801 non-null    int64  \n",
      " 31  전설의_포켓몬_여부  801 non-null    int64  \n",
      "dtypes: float64(19), int64(9), object(4)\n",
      "memory usage: 200.4+ KB\n"
     ]
    }
   ],
   "source": [
    "df1.info()"
   ]
  },
  {
   "cell_type": "code",
   "execution_count": 405,
   "id": "c289f2d8",
   "metadata": {},
   "outputs": [],
   "source": [
    "type_mapping = {\n",
    "    'bug': '벌레',\n",
    "    'dark': '악',\n",
    "    'dragon': '드래곤',\n",
    "    'electric': '전기',\n",
    "    'fairy': '페어리',\n",
    "    'fighting': '격투',\n",
    "    'fire': '불',\n",
    "    'flying': '비행',\n",
    "    'ghost': '고스트',\n",
    "    'grass': '풀',\n",
    "    'ground': '땅',\n",
    "    'ice': '얼음',\n",
    "    'normal': '노말',\n",
    "    'poison': '독',\n",
    "    'psychic': '에스퍼',\n",
    "    'rock': '바위',\n",
    "    'steel': '강철',\n",
    "    'water': '물'\n",
    "}\n",
    "\n",
    "df1['타입1'] = df1['타입1'].map(type_mapping)\n",
    "df1['타입2'] = df1['타입2'].map(type_mapping)\n"
   ]
  },
  {
   "cell_type": "code",
   "execution_count": 406,
   "id": "4540cc2f",
   "metadata": {},
   "outputs": [
    {
     "data": {
      "text/plain": [
       "0        풀\n",
       "1        풀\n",
       "2        풀\n",
       "3        불\n",
       "4        불\n",
       "      ... \n",
       "796     강철\n",
       "797      풀\n",
       "798      악\n",
       "799    에스퍼\n",
       "800     강철\n",
       "Name: 타입1, Length: 801, dtype: object"
      ]
     },
     "execution_count": 406,
     "metadata": {},
     "output_type": "execute_result"
    }
   ],
   "source": [
    "df1['타입1']"
   ]
  },
  {
   "cell_type": "code",
   "execution_count": 407,
   "id": "6f8634c9",
   "metadata": {},
   "outputs": [],
   "source": [
    "df1['타입2'] = df1['타입2'].fillna('없음')"
   ]
  },
  {
   "cell_type": "code",
   "execution_count": 408,
   "id": "4a5ff86a",
   "metadata": {},
   "outputs": [
    {
     "data": {
      "text/plain": [
       "0        독\n",
       "1        독\n",
       "2        독\n",
       "3       없음\n",
       "4       없음\n",
       "      ... \n",
       "796     비행\n",
       "797     강철\n",
       "798    드래곤\n",
       "799     없음\n",
       "800    페어리\n",
       "Name: 타입2, Length: 801, dtype: object"
      ]
     },
     "execution_count": 408,
     "metadata": {},
     "output_type": "execute_result"
    }
   ],
   "source": [
    "df1['타입2']"
   ]
  },
  {
   "cell_type": "code",
   "execution_count": 409,
   "id": "02c9fa74",
   "metadata": {},
   "outputs": [
    {
     "name": "stdout",
     "output_type": "stream",
     "text": [
      "<class 'pandas.core.frame.DataFrame'>\n",
      "RangeIndex: 801 entries, 0 to 800\n",
      "Data columns (total 32 columns):\n",
      " #   Column      Non-Null Count  Dtype  \n",
      "---  ------      --------------  -----  \n",
      " 0   능력          801 non-null    object \n",
      " 1   상성_벌레       801 non-null    float64\n",
      " 2   상성_악        801 non-null    float64\n",
      " 3   상성_드래곤      801 non-null    float64\n",
      " 4   상성_전기       801 non-null    float64\n",
      " 5   상성_페어리      801 non-null    float64\n",
      " 6   상성_격투       801 non-null    float64\n",
      " 7   상성_불        801 non-null    float64\n",
      " 8   상성_비행       801 non-null    float64\n",
      " 9   상성_고스트      801 non-null    float64\n",
      " 10  상성_풀        801 non-null    float64\n",
      " 11  상성_땅        801 non-null    float64\n",
      " 12  상성_얼음       801 non-null    float64\n",
      " 13  상성_노멀       801 non-null    float64\n",
      " 14  상성_독        801 non-null    float64\n",
      " 15  상성_에스퍼      801 non-null    float64\n",
      " 16  상성_바위       801 non-null    float64\n",
      " 17  상성_강철       801 non-null    float64\n",
      " 18  상성_물        801 non-null    float64\n",
      " 19  공격          801 non-null    int64  \n",
      " 20  스탯_총합       801 non-null    int64  \n",
      " 21  방어          801 non-null    int64  \n",
      " 22  체력          801 non-null    int64  \n",
      " 23  이름          801 non-null    object \n",
      " 24  수컷_비율       703 non-null    float64\n",
      " 25  특수_공격       801 non-null    int64  \n",
      " 26  특수_방어       801 non-null    int64  \n",
      " 27  스피드         801 non-null    int64  \n",
      " 28  타입1         801 non-null    object \n",
      " 29  타입2         801 non-null    object \n",
      " 30  세대          801 non-null    int64  \n",
      " 31  전설의_포켓몬_여부  801 non-null    int64  \n",
      "dtypes: float64(19), int64(9), object(4)\n",
      "memory usage: 200.4+ KB\n"
     ]
    }
   ],
   "source": [
    "df1.info()"
   ]
  },
  {
   "cell_type": "code",
   "execution_count": 410,
   "id": "2305d894",
   "metadata": {},
   "outputs": [
    {
     "data": {
      "text/plain": [
       "(801, 32)"
      ]
     },
     "execution_count": 410,
     "metadata": {},
     "output_type": "execute_result"
    }
   ],
   "source": [
    "df1.shape"
   ]
  },
  {
   "cell_type": "code",
   "execution_count": 411,
   "id": "8f0a62bc",
   "metadata": {
    "scrolled": false
   },
   "outputs": [
    {
     "data": {
      "text/plain": [
       "능력             0\n",
       "상성_벌레          0\n",
       "상성_악           0\n",
       "상성_드래곤         0\n",
       "상성_전기          0\n",
       "상성_페어리         0\n",
       "상성_격투          0\n",
       "상성_불           0\n",
       "상성_비행          0\n",
       "상성_고스트         0\n",
       "상성_풀           0\n",
       "상성_땅           0\n",
       "상성_얼음          0\n",
       "상성_노멀          0\n",
       "상성_독           0\n",
       "상성_에스퍼         0\n",
       "상성_바위          0\n",
       "상성_강철          0\n",
       "상성_물           0\n",
       "공격             0\n",
       "스탯_총합          0\n",
       "방어             0\n",
       "체력             0\n",
       "이름             0\n",
       "수컷_비율         98\n",
       "특수_공격          0\n",
       "특수_방어          0\n",
       "스피드            0\n",
       "타입1            0\n",
       "타입2            0\n",
       "세대             0\n",
       "전설의_포켓몬_여부     0\n",
       "dtype: int64"
      ]
     },
     "execution_count": 411,
     "metadata": {},
     "output_type": "execute_result"
    }
   ],
   "source": [
    "# 결측치\n",
    "df1.isnull().sum()"
   ]
  },
  {
   "cell_type": "code",
   "execution_count": 412,
   "id": "f2610d03",
   "metadata": {},
   "outputs": [
    {
     "data": {
      "text/html": [
       "<div>\n",
       "<style scoped>\n",
       "    .dataframe tbody tr th:only-of-type {\n",
       "        vertical-align: middle;\n",
       "    }\n",
       "\n",
       "    .dataframe tbody tr th {\n",
       "        vertical-align: top;\n",
       "    }\n",
       "\n",
       "    .dataframe thead th {\n",
       "        text-align: right;\n",
       "    }\n",
       "</style>\n",
       "<table border=\"1\" class=\"dataframe\">\n",
       "  <thead>\n",
       "    <tr style=\"text-align: right;\">\n",
       "      <th></th>\n",
       "      <th>능력</th>\n",
       "      <th>상성_벌레</th>\n",
       "      <th>상성_악</th>\n",
       "      <th>상성_드래곤</th>\n",
       "      <th>상성_전기</th>\n",
       "      <th>상성_페어리</th>\n",
       "      <th>상성_격투</th>\n",
       "      <th>상성_불</th>\n",
       "      <th>상성_비행</th>\n",
       "      <th>상성_고스트</th>\n",
       "      <th>...</th>\n",
       "      <th>체력</th>\n",
       "      <th>이름</th>\n",
       "      <th>수컷_비율</th>\n",
       "      <th>특수_공격</th>\n",
       "      <th>특수_방어</th>\n",
       "      <th>스피드</th>\n",
       "      <th>타입1</th>\n",
       "      <th>타입2</th>\n",
       "      <th>세대</th>\n",
       "      <th>전설의_포켓몬_여부</th>\n",
       "    </tr>\n",
       "  </thead>\n",
       "  <tbody>\n",
       "    <tr>\n",
       "      <th>0</th>\n",
       "      <td>['Overgrow', 'Chlorophyll']</td>\n",
       "      <td>1.0</td>\n",
       "      <td>1.0</td>\n",
       "      <td>1.0</td>\n",
       "      <td>0.5</td>\n",
       "      <td>0.5</td>\n",
       "      <td>0.5</td>\n",
       "      <td>2.0</td>\n",
       "      <td>2.0</td>\n",
       "      <td>1.0</td>\n",
       "      <td>...</td>\n",
       "      <td>45</td>\n",
       "      <td>Bulbasaur</td>\n",
       "      <td>88.1</td>\n",
       "      <td>65</td>\n",
       "      <td>65</td>\n",
       "      <td>45</td>\n",
       "      <td>풀</td>\n",
       "      <td>독</td>\n",
       "      <td>1</td>\n",
       "      <td>0</td>\n",
       "    </tr>\n",
       "    <tr>\n",
       "      <th>1</th>\n",
       "      <td>['Overgrow', 'Chlorophyll']</td>\n",
       "      <td>1.0</td>\n",
       "      <td>1.0</td>\n",
       "      <td>1.0</td>\n",
       "      <td>0.5</td>\n",
       "      <td>0.5</td>\n",
       "      <td>0.5</td>\n",
       "      <td>2.0</td>\n",
       "      <td>2.0</td>\n",
       "      <td>1.0</td>\n",
       "      <td>...</td>\n",
       "      <td>60</td>\n",
       "      <td>Ivysaur</td>\n",
       "      <td>88.1</td>\n",
       "      <td>80</td>\n",
       "      <td>80</td>\n",
       "      <td>60</td>\n",
       "      <td>풀</td>\n",
       "      <td>독</td>\n",
       "      <td>1</td>\n",
       "      <td>0</td>\n",
       "    </tr>\n",
       "    <tr>\n",
       "      <th>2</th>\n",
       "      <td>['Overgrow', 'Chlorophyll']</td>\n",
       "      <td>1.0</td>\n",
       "      <td>1.0</td>\n",
       "      <td>1.0</td>\n",
       "      <td>0.5</td>\n",
       "      <td>0.5</td>\n",
       "      <td>0.5</td>\n",
       "      <td>2.0</td>\n",
       "      <td>2.0</td>\n",
       "      <td>1.0</td>\n",
       "      <td>...</td>\n",
       "      <td>80</td>\n",
       "      <td>Venusaur</td>\n",
       "      <td>88.1</td>\n",
       "      <td>122</td>\n",
       "      <td>120</td>\n",
       "      <td>80</td>\n",
       "      <td>풀</td>\n",
       "      <td>독</td>\n",
       "      <td>1</td>\n",
       "      <td>0</td>\n",
       "    </tr>\n",
       "    <tr>\n",
       "      <th>3</th>\n",
       "      <td>['Blaze', 'Solar Power']</td>\n",
       "      <td>0.5</td>\n",
       "      <td>1.0</td>\n",
       "      <td>1.0</td>\n",
       "      <td>1.0</td>\n",
       "      <td>0.5</td>\n",
       "      <td>1.0</td>\n",
       "      <td>0.5</td>\n",
       "      <td>1.0</td>\n",
       "      <td>1.0</td>\n",
       "      <td>...</td>\n",
       "      <td>39</td>\n",
       "      <td>Charmander</td>\n",
       "      <td>88.1</td>\n",
       "      <td>60</td>\n",
       "      <td>50</td>\n",
       "      <td>65</td>\n",
       "      <td>불</td>\n",
       "      <td>없음</td>\n",
       "      <td>1</td>\n",
       "      <td>0</td>\n",
       "    </tr>\n",
       "    <tr>\n",
       "      <th>4</th>\n",
       "      <td>['Blaze', 'Solar Power']</td>\n",
       "      <td>0.5</td>\n",
       "      <td>1.0</td>\n",
       "      <td>1.0</td>\n",
       "      <td>1.0</td>\n",
       "      <td>0.5</td>\n",
       "      <td>1.0</td>\n",
       "      <td>0.5</td>\n",
       "      <td>1.0</td>\n",
       "      <td>1.0</td>\n",
       "      <td>...</td>\n",
       "      <td>58</td>\n",
       "      <td>Charmeleon</td>\n",
       "      <td>88.1</td>\n",
       "      <td>80</td>\n",
       "      <td>65</td>\n",
       "      <td>80</td>\n",
       "      <td>불</td>\n",
       "      <td>없음</td>\n",
       "      <td>1</td>\n",
       "      <td>0</td>\n",
       "    </tr>\n",
       "  </tbody>\n",
       "</table>\n",
       "<p>5 rows × 32 columns</p>\n",
       "</div>"
      ],
      "text/plain": [
       "                            능력  상성_벌레  상성_악  상성_드래곤  상성_전기  상성_페어리  상성_격투  \\\n",
       "0  ['Overgrow', 'Chlorophyll']    1.0   1.0     1.0    0.5     0.5    0.5   \n",
       "1  ['Overgrow', 'Chlorophyll']    1.0   1.0     1.0    0.5     0.5    0.5   \n",
       "2  ['Overgrow', 'Chlorophyll']    1.0   1.0     1.0    0.5     0.5    0.5   \n",
       "3     ['Blaze', 'Solar Power']    0.5   1.0     1.0    1.0     0.5    1.0   \n",
       "4     ['Blaze', 'Solar Power']    0.5   1.0     1.0    1.0     0.5    1.0   \n",
       "\n",
       "   상성_불  상성_비행  상성_고스트  ...  체력          이름  수컷_비율  특수_공격  특수_방어  스피드  타입1  \\\n",
       "0   2.0    2.0     1.0  ...  45   Bulbasaur   88.1     65     65   45    풀   \n",
       "1   2.0    2.0     1.0  ...  60     Ivysaur   88.1     80     80   60    풀   \n",
       "2   2.0    2.0     1.0  ...  80    Venusaur   88.1    122    120   80    풀   \n",
       "3   0.5    1.0     1.0  ...  39  Charmander   88.1     60     50   65    불   \n",
       "4   0.5    1.0     1.0  ...  58  Charmeleon   88.1     80     65   80    불   \n",
       "\n",
       "   타입2  세대  전설의_포켓몬_여부  \n",
       "0    독   1           0  \n",
       "1    독   1           0  \n",
       "2    독   1           0  \n",
       "3   없음   1           0  \n",
       "4   없음   1           0  \n",
       "\n",
       "[5 rows x 32 columns]"
      ]
     },
     "execution_count": 412,
     "metadata": {},
     "output_type": "execute_result"
    }
   ],
   "source": [
    "df1.head()"
   ]
  },
  {
   "cell_type": "code",
   "execution_count": 413,
   "id": "835ff874",
   "metadata": {
    "scrolled": false
   },
   "outputs": [
    {
     "data": {
      "text/html": [
       "<div>\n",
       "<style scoped>\n",
       "    .dataframe tbody tr th:only-of-type {\n",
       "        vertical-align: middle;\n",
       "    }\n",
       "\n",
       "    .dataframe tbody tr th {\n",
       "        vertical-align: top;\n",
       "    }\n",
       "\n",
       "    .dataframe thead th {\n",
       "        text-align: right;\n",
       "    }\n",
       "</style>\n",
       "<table border=\"1\" class=\"dataframe\">\n",
       "  <thead>\n",
       "    <tr style=\"text-align: right;\">\n",
       "      <th></th>\n",
       "      <th>이름</th>\n",
       "      <th>weakness_score</th>\n",
       "    </tr>\n",
       "  </thead>\n",
       "  <tbody>\n",
       "    <tr>\n",
       "      <th>0</th>\n",
       "      <td>Bulbasaur</td>\n",
       "      <td>20.25</td>\n",
       "    </tr>\n",
       "    <tr>\n",
       "      <th>1</th>\n",
       "      <td>Ivysaur</td>\n",
       "      <td>20.25</td>\n",
       "    </tr>\n",
       "    <tr>\n",
       "      <th>2</th>\n",
       "      <td>Venusaur</td>\n",
       "      <td>20.25</td>\n",
       "    </tr>\n",
       "    <tr>\n",
       "      <th>3</th>\n",
       "      <td>Charmander</td>\n",
       "      <td>19.00</td>\n",
       "    </tr>\n",
       "    <tr>\n",
       "      <th>4</th>\n",
       "      <td>Charmeleon</td>\n",
       "      <td>19.00</td>\n",
       "    </tr>\n",
       "    <tr>\n",
       "      <th>...</th>\n",
       "      <td>...</td>\n",
       "      <td>...</td>\n",
       "    </tr>\n",
       "    <tr>\n",
       "      <th>796</th>\n",
       "      <td>Celesteela</td>\n",
       "      <td>14.50</td>\n",
       "    </tr>\n",
       "    <tr>\n",
       "      <th>797</th>\n",
       "      <td>Kartana</td>\n",
       "      <td>17.25</td>\n",
       "    </tr>\n",
       "    <tr>\n",
       "      <th>798</th>\n",
       "      <td>Guzzlord</td>\n",
       "      <td>22.00</td>\n",
       "    </tr>\n",
       "    <tr>\n",
       "      <th>799</th>\n",
       "      <td>Necrozma</td>\n",
       "      <td>21.00</td>\n",
       "    </tr>\n",
       "    <tr>\n",
       "      <th>800</th>\n",
       "      <td>Magearna</td>\n",
       "      <td>14.25</td>\n",
       "    </tr>\n",
       "  </tbody>\n",
       "</table>\n",
       "<p>801 rows × 2 columns</p>\n",
       "</div>"
      ],
      "text/plain": [
       "             이름  weakness_score\n",
       "0     Bulbasaur           20.25\n",
       "1       Ivysaur           20.25\n",
       "2      Venusaur           20.25\n",
       "3    Charmander           19.00\n",
       "4    Charmeleon           19.00\n",
       "..          ...             ...\n",
       "796  Celesteela           14.50\n",
       "797     Kartana           17.25\n",
       "798    Guzzlord           22.00\n",
       "799    Necrozma           21.00\n",
       "800    Magearna           14.25\n",
       "\n",
       "[801 rows x 2 columns]"
      ]
     },
     "execution_count": 413,
     "metadata": {},
     "output_type": "execute_result"
    }
   ],
   "source": [
    "# Filtering the columns that start with \"상성_\"\n",
    "type_effectiveness_cols = [col for col in df1.columns if col.startswith(\"상성_\")]\n",
    "\n",
    "\n",
    "\n",
    "df1['weakness_score'] = 1+df1[type_effectiveness_cols].sum(axis=1)\n",
    "# Extracting the 'score' and '이름' (name) columns\n",
    "score_name_df = df1[[\"이름\", \"weakness_score\"]]\n",
    "\n",
    "score_name_df"
   ]
  },
  {
   "cell_type": "code",
   "execution_count": 414,
   "id": "e61ff005",
   "metadata": {},
   "outputs": [],
   "source": [
    "df = score_name_df.sort_values(by=\"weakness_score\", ascending=True)"
   ]
  },
  {
   "cell_type": "code",
   "execution_count": 415,
   "id": "ffb41181",
   "metadata": {},
   "outputs": [
    {
     "data": {
      "text/html": [
       "<div>\n",
       "<style scoped>\n",
       "    .dataframe tbody tr th:only-of-type {\n",
       "        vertical-align: middle;\n",
       "    }\n",
       "\n",
       "    .dataframe tbody tr th {\n",
       "        vertical-align: top;\n",
       "    }\n",
       "\n",
       "    .dataframe thead th {\n",
       "        text-align: right;\n",
       "    }\n",
       "</style>\n",
       "<table border=\"1\" class=\"dataframe\">\n",
       "  <thead>\n",
       "    <tr style=\"text-align: right;\">\n",
       "      <th></th>\n",
       "      <th>이름</th>\n",
       "      <th>weakness_score</th>\n",
       "    </tr>\n",
       "  </thead>\n",
       "  <tbody>\n",
       "    <tr>\n",
       "      <th>800</th>\n",
       "      <td>Magearna</td>\n",
       "      <td>14.25</td>\n",
       "    </tr>\n",
       "    <tr>\n",
       "      <th>706</th>\n",
       "      <td>Klefki</td>\n",
       "      <td>14.25</td>\n",
       "    </tr>\n",
       "    <tr>\n",
       "      <th>302</th>\n",
       "      <td>Mawile</td>\n",
       "      <td>14.25</td>\n",
       "    </tr>\n",
       "    <tr>\n",
       "      <th>796</th>\n",
       "      <td>Celesteela</td>\n",
       "      <td>14.50</td>\n",
       "    </tr>\n",
       "    <tr>\n",
       "      <th>226</th>\n",
       "      <td>Skarmory</td>\n",
       "      <td>14.50</td>\n",
       "    </tr>\n",
       "    <tr>\n",
       "      <th>680</th>\n",
       "      <td>Aegislash</td>\n",
       "      <td>15.25</td>\n",
       "    </tr>\n",
       "    <tr>\n",
       "      <th>679</th>\n",
       "      <td>Doublade</td>\n",
       "      <td>15.25</td>\n",
       "    </tr>\n",
       "    <tr>\n",
       "      <th>678</th>\n",
       "      <td>Honedge</td>\n",
       "      <td>15.25</td>\n",
       "    </tr>\n",
       "    <tr>\n",
       "      <th>482</th>\n",
       "      <td>Dialga</td>\n",
       "      <td>15.25</td>\n",
       "    </tr>\n",
       "    <tr>\n",
       "      <th>394</th>\n",
       "      <td>Empoleon</td>\n",
       "      <td>15.50</td>\n",
       "    </tr>\n",
       "    <tr>\n",
       "      <th>600</th>\n",
       "      <td>Klinklang</td>\n",
       "      <td>16.00</td>\n",
       "    </tr>\n",
       "    <tr>\n",
       "      <th>599</th>\n",
       "      <td>Klang</td>\n",
       "      <td>16.00</td>\n",
       "    </tr>\n",
       "    <tr>\n",
       "      <th>378</th>\n",
       "      <td>Registeel</td>\n",
       "      <td>16.00</td>\n",
       "    </tr>\n",
       "    <tr>\n",
       "      <th>598</th>\n",
       "      <td>Klink</td>\n",
       "      <td>16.00</td>\n",
       "    </tr>\n",
       "    <tr>\n",
       "      <th>447</th>\n",
       "      <td>Lucario</td>\n",
       "      <td>16.50</td>\n",
       "    </tr>\n",
       "    <tr>\n",
       "      <th>441</th>\n",
       "      <td>Spiritomb</td>\n",
       "      <td>16.50</td>\n",
       "    </tr>\n",
       "    <tr>\n",
       "      <th>637</th>\n",
       "      <td>Cobalion</td>\n",
       "      <td>16.50</td>\n",
       "    </tr>\n",
       "    <tr>\n",
       "      <th>301</th>\n",
       "      <td>Sableye</td>\n",
       "      <td>16.50</td>\n",
       "    </tr>\n",
       "    <tr>\n",
       "      <th>631</th>\n",
       "      <td>Durant</td>\n",
       "      <td>16.75</td>\n",
       "    </tr>\n",
       "    <tr>\n",
       "      <th>204</th>\n",
       "      <td>Forretress</td>\n",
       "      <td>16.75</td>\n",
       "    </tr>\n",
       "  </tbody>\n",
       "</table>\n",
       "</div>"
      ],
      "text/plain": [
       "             이름  weakness_score\n",
       "800    Magearna           14.25\n",
       "706      Klefki           14.25\n",
       "302      Mawile           14.25\n",
       "796  Celesteela           14.50\n",
       "226    Skarmory           14.50\n",
       "680   Aegislash           15.25\n",
       "679    Doublade           15.25\n",
       "678     Honedge           15.25\n",
       "482      Dialga           15.25\n",
       "394    Empoleon           15.50\n",
       "600   Klinklang           16.00\n",
       "599       Klang           16.00\n",
       "378   Registeel           16.00\n",
       "598       Klink           16.00\n",
       "447     Lucario           16.50\n",
       "441   Spiritomb           16.50\n",
       "637    Cobalion           16.50\n",
       "301     Sableye           16.50\n",
       "631      Durant           16.75\n",
       "204  Forretress           16.75"
      ]
     },
     "execution_count": 415,
     "metadata": {},
     "output_type": "execute_result"
    }
   ],
   "source": [
    "df.head(20)"
   ]
  },
  {
   "cell_type": "code",
   "execution_count": 416,
   "id": "ce43578d",
   "metadata": {},
   "outputs": [
    {
     "data": {
      "text/html": [
       "<div>\n",
       "<style scoped>\n",
       "    .dataframe tbody tr th:only-of-type {\n",
       "        vertical-align: middle;\n",
       "    }\n",
       "\n",
       "    .dataframe tbody tr th {\n",
       "        vertical-align: top;\n",
       "    }\n",
       "\n",
       "    .dataframe thead th {\n",
       "        text-align: right;\n",
       "    }\n",
       "</style>\n",
       "<table border=\"1\" class=\"dataframe\">\n",
       "  <thead>\n",
       "    <tr style=\"text-align: right;\">\n",
       "      <th></th>\n",
       "      <th>이름</th>\n",
       "      <th>weakness_score</th>\n",
       "    </tr>\n",
       "  </thead>\n",
       "  <tbody>\n",
       "    <tr>\n",
       "      <th>102</th>\n",
       "      <td>Exeggutor</td>\n",
       "      <td>25.00</td>\n",
       "    </tr>\n",
       "    <tr>\n",
       "      <th>73</th>\n",
       "      <td>Geodude</td>\n",
       "      <td>25.25</td>\n",
       "    </tr>\n",
       "    <tr>\n",
       "      <th>245</th>\n",
       "      <td>Larvitar</td>\n",
       "      <td>25.25</td>\n",
       "    </tr>\n",
       "    <tr>\n",
       "      <th>463</th>\n",
       "      <td>Rhyperior</td>\n",
       "      <td>25.25</td>\n",
       "    </tr>\n",
       "    <tr>\n",
       "      <th>111</th>\n",
       "      <td>Rhydon</td>\n",
       "      <td>25.25</td>\n",
       "    </tr>\n",
       "    <tr>\n",
       "      <th>74</th>\n",
       "      <td>Graveler</td>\n",
       "      <td>25.25</td>\n",
       "    </tr>\n",
       "    <tr>\n",
       "      <th>75</th>\n",
       "      <td>Golem</td>\n",
       "      <td>25.25</td>\n",
       "    </tr>\n",
       "    <tr>\n",
       "      <th>246</th>\n",
       "      <td>Pupitar</td>\n",
       "      <td>25.25</td>\n",
       "    </tr>\n",
       "    <tr>\n",
       "      <th>110</th>\n",
       "      <td>Rhyhorn</td>\n",
       "      <td>25.25</td>\n",
       "    </tr>\n",
       "    <tr>\n",
       "      <th>94</th>\n",
       "      <td>Onix</td>\n",
       "      <td>25.25</td>\n",
       "    </tr>\n",
       "    <tr>\n",
       "      <th>540</th>\n",
       "      <td>Swadloon</td>\n",
       "      <td>26.00</td>\n",
       "    </tr>\n",
       "    <tr>\n",
       "      <th>541</th>\n",
       "      <td>Leavanny</td>\n",
       "      <td>26.00</td>\n",
       "    </tr>\n",
       "    <tr>\n",
       "      <th>46</th>\n",
       "      <td>Parasect</td>\n",
       "      <td>26.00</td>\n",
       "    </tr>\n",
       "    <tr>\n",
       "      <th>45</th>\n",
       "      <td>Paras</td>\n",
       "      <td>26.00</td>\n",
       "    </tr>\n",
       "    <tr>\n",
       "      <th>458</th>\n",
       "      <td>Snover</td>\n",
       "      <td>26.00</td>\n",
       "    </tr>\n",
       "    <tr>\n",
       "      <th>459</th>\n",
       "      <td>Abomasnow</td>\n",
       "      <td>26.00</td>\n",
       "    </tr>\n",
       "    <tr>\n",
       "      <th>412</th>\n",
       "      <td>Wormadam</td>\n",
       "      <td>26.00</td>\n",
       "    </tr>\n",
       "    <tr>\n",
       "      <th>539</th>\n",
       "      <td>Sewaddle</td>\n",
       "      <td>26.00</td>\n",
       "    </tr>\n",
       "    <tr>\n",
       "      <th>698</th>\n",
       "      <td>Aurorus</td>\n",
       "      <td>27.00</td>\n",
       "    </tr>\n",
       "    <tr>\n",
       "      <th>697</th>\n",
       "      <td>Amaura</td>\n",
       "      <td>27.00</td>\n",
       "    </tr>\n",
       "  </tbody>\n",
       "</table>\n",
       "</div>"
      ],
      "text/plain": [
       "            이름  weakness_score\n",
       "102  Exeggutor           25.00\n",
       "73     Geodude           25.25\n",
       "245   Larvitar           25.25\n",
       "463  Rhyperior           25.25\n",
       "111     Rhydon           25.25\n",
       "74    Graveler           25.25\n",
       "75       Golem           25.25\n",
       "246    Pupitar           25.25\n",
       "110    Rhyhorn           25.25\n",
       "94        Onix           25.25\n",
       "540   Swadloon           26.00\n",
       "541   Leavanny           26.00\n",
       "46    Parasect           26.00\n",
       "45       Paras           26.00\n",
       "458     Snover           26.00\n",
       "459  Abomasnow           26.00\n",
       "412   Wormadam           26.00\n",
       "539   Sewaddle           26.00\n",
       "698    Aurorus           27.00\n",
       "697     Amaura           27.00"
      ]
     },
     "execution_count": 416,
     "metadata": {},
     "output_type": "execute_result"
    }
   ],
   "source": [
    "df.tail(20)"
   ]
  },
  {
   "cell_type": "code",
   "execution_count": 417,
   "id": "2520df16",
   "metadata": {},
   "outputs": [
    {
     "data": {
      "text/html": [
       "<div>\n",
       "<style scoped>\n",
       "    .dataframe tbody tr th:only-of-type {\n",
       "        vertical-align: middle;\n",
       "    }\n",
       "\n",
       "    .dataframe tbody tr th {\n",
       "        vertical-align: top;\n",
       "    }\n",
       "\n",
       "    .dataframe thead th {\n",
       "        text-align: right;\n",
       "    }\n",
       "</style>\n",
       "<table border=\"1\" class=\"dataframe\">\n",
       "  <thead>\n",
       "    <tr style=\"text-align: right;\">\n",
       "      <th></th>\n",
       "      <th>이름</th>\n",
       "      <th>weakness_score</th>\n",
       "    </tr>\n",
       "  </thead>\n",
       "  <tbody>\n",
       "    <tr>\n",
       "      <th>0</th>\n",
       "      <td>Bulbasaur</td>\n",
       "      <td>20.25</td>\n",
       "    </tr>\n",
       "    <tr>\n",
       "      <th>1</th>\n",
       "      <td>Ivysaur</td>\n",
       "      <td>20.25</td>\n",
       "    </tr>\n",
       "    <tr>\n",
       "      <th>2</th>\n",
       "      <td>Venusaur</td>\n",
       "      <td>20.25</td>\n",
       "    </tr>\n",
       "    <tr>\n",
       "      <th>3</th>\n",
       "      <td>Charmander</td>\n",
       "      <td>19.00</td>\n",
       "    </tr>\n",
       "    <tr>\n",
       "      <th>4</th>\n",
       "      <td>Charmeleon</td>\n",
       "      <td>19.00</td>\n",
       "    </tr>\n",
       "    <tr>\n",
       "      <th>...</th>\n",
       "      <td>...</td>\n",
       "      <td>...</td>\n",
       "    </tr>\n",
       "    <tr>\n",
       "      <th>796</th>\n",
       "      <td>Celesteela</td>\n",
       "      <td>14.50</td>\n",
       "    </tr>\n",
       "    <tr>\n",
       "      <th>797</th>\n",
       "      <td>Kartana</td>\n",
       "      <td>17.25</td>\n",
       "    </tr>\n",
       "    <tr>\n",
       "      <th>798</th>\n",
       "      <td>Guzzlord</td>\n",
       "      <td>22.00</td>\n",
       "    </tr>\n",
       "    <tr>\n",
       "      <th>799</th>\n",
       "      <td>Necrozma</td>\n",
       "      <td>21.00</td>\n",
       "    </tr>\n",
       "    <tr>\n",
       "      <th>800</th>\n",
       "      <td>Magearna</td>\n",
       "      <td>14.25</td>\n",
       "    </tr>\n",
       "  </tbody>\n",
       "</table>\n",
       "<p>801 rows × 2 columns</p>\n",
       "</div>"
      ],
      "text/plain": [
       "             이름  weakness_score\n",
       "0     Bulbasaur           20.25\n",
       "1       Ivysaur           20.25\n",
       "2      Venusaur           20.25\n",
       "3    Charmander           19.00\n",
       "4    Charmeleon           19.00\n",
       "..          ...             ...\n",
       "796  Celesteela           14.50\n",
       "797     Kartana           17.25\n",
       "798    Guzzlord           22.00\n",
       "799    Necrozma           21.00\n",
       "800    Magearna           14.25\n",
       "\n",
       "[801 rows x 2 columns]"
      ]
     },
     "execution_count": 417,
     "metadata": {},
     "output_type": "execute_result"
    }
   ],
   "source": [
    "score_name_df"
   ]
  },
  {
   "cell_type": "code",
   "execution_count": 418,
   "id": "8c3e870a",
   "metadata": {},
   "outputs": [
    {
     "data": {
      "image/png": "[encoded data removed]",
      "text/plain": [
       "<Figure size 1000x800 with 1 Axes>"
      ]
     },
     "metadata": {},
     "output_type": "display_data"
    },
    {
     "name": "stdout",
     "output_type": "stream",
     "text": [
      "Overall our best score is 14.25  and our worst score is  27.0\n"
     ]
    }
   ],
   "source": [
    "import matplotlib.pyplot as plt\n",
    "\n",
    "# Extracting the 'score' column\n",
    "x = score_name_df[\"weakness_score\"]\n",
    "\n",
    "# Plotting the histogram\n",
    "plt.hist(x, bins=20, color='blue', edgecolor='black')\n",
    "plt.title('Distribution of Pokémon Scores')\n",
    "plt.xlabel('Weakness_score')\n",
    "plt.ylabel('Frequency')\n",
    "plt.show()\n",
    "\n",
    "# Printing the best and worst score\n",
    "best_score = min(x)\n",
    "worst_score = max(x)\n",
    "print(\"Overall our best score is\", str(best_score), \" and our worst score is \", str(worst_score))\n"
   ]
  },
  {
   "cell_type": "code",
   "execution_count": 419,
   "id": "9057ac2c",
   "metadata": {},
   "outputs": [
    {
     "name": "stdout",
     "output_type": "stream",
     "text": [
      "Series([], Name: 이름, dtype: object)\n"
     ]
    }
   ],
   "source": [
    "#list the pokemon with the highest score\n",
    "print(score_name_df[score_name_df[\"weakness_score\"] == 13.25][\"이름\"])"
   ]
  },
  {
   "cell_type": "code",
   "execution_count": 420,
   "id": "84f281d0",
   "metadata": {},
   "outputs": [
    {
     "data": {
      "text/html": [
       "<div>\n",
       "<style scoped>\n",
       "    .dataframe tbody tr th:only-of-type {\n",
       "        vertical-align: middle;\n",
       "    }\n",
       "\n",
       "    .dataframe tbody tr th {\n",
       "        vertical-align: top;\n",
       "    }\n",
       "\n",
       "    .dataframe thead th {\n",
       "        text-align: right;\n",
       "    }\n",
       "</style>\n",
       "<table border=\"1\" class=\"dataframe\">\n",
       "  <thead>\n",
       "    <tr style=\"text-align: right;\">\n",
       "      <th></th>\n",
       "      <th>이름</th>\n",
       "      <th>타입1</th>\n",
       "      <th>타입2</th>\n",
       "    </tr>\n",
       "  </thead>\n",
       "  <tbody>\n",
       "    <tr>\n",
       "      <th>302</th>\n",
       "      <td>Mawile</td>\n",
       "      <td>강철</td>\n",
       "      <td>페어리</td>\n",
       "    </tr>\n",
       "    <tr>\n",
       "      <th>706</th>\n",
       "      <td>Klefki</td>\n",
       "      <td>강철</td>\n",
       "      <td>페어리</td>\n",
       "    </tr>\n",
       "    <tr>\n",
       "      <th>800</th>\n",
       "      <td>Magearna</td>\n",
       "      <td>강철</td>\n",
       "      <td>페어리</td>\n",
       "    </tr>\n",
       "  </tbody>\n",
       "</table>\n",
       "</div>"
      ],
      "text/plain": [
       "           이름 타입1  타입2\n",
       "302    Mawile  강철  페어리\n",
       "706    Klefki  강철  페어리\n",
       "800  Magearna  강철  페어리"
      ]
     },
     "execution_count": 420,
     "metadata": {},
     "output_type": "execute_result"
    }
   ],
   "source": [
    "# Extracting Type 1 and Type 2 for Pokémon named 'Amaura' and 'Aurorus' from the original DataFrame\n",
    "selected_pokemon = df1[df1[\"이름\"].isin([\"Mawile\", \"Klefki\",\"Magearna\"])]\n",
    "\n",
    "# Extracting relevant information\n",
    "type_info = selected_pokemon[[\"이름\", \"타입1\", \"타입2\"]]\n",
    "\n",
    "type_info"
   ]
  },
  {
   "cell_type": "markdown",
   "id": "ad645304",
   "metadata": {},
   "source": [
    "위의 포켓몬은 모두 강철과 요정의 타입 조합을 가지고 있습니다. 강철은 보통, 풀, 얼음, 비행, 초능력, 벌레, 바위, 고스트, 드래곤, 암흑, 강철, 요정에 강하기 때문에 이 조합은 인상적인 조합입니다. 이 유형 조합에 요정을 추가하면 강철의 격투 약점이 무효화되고 벌레, 암흑, 용에 대한 강점이 증가합니다. 이렇게 하면 땅과 화염에 대한 위크니스만 남습니다."
   ]
  },
  {
   "cell_type": "code",
   "execution_count": 421,
   "id": "ba91ebe1",
   "metadata": {},
   "outputs": [
    {
     "name": "stdout",
     "output_type": "stream",
     "text": [
      "45         Paras\n",
      "46      Parasect\n",
      "412     Wormadam\n",
      "458       Snover\n",
      "459    Abomasnow\n",
      "539     Sewaddle\n",
      "540     Swadloon\n",
      "541     Leavanny\n",
      "Name: 이름, dtype: object\n"
     ]
    }
   ],
   "source": [
    "#list the pokemon with the lowest score\n",
    "print(score_name_df[score_name_df[\"weakness_score\"] == 26][\"이름\"])"
   ]
  },
  {
   "cell_type": "code",
   "execution_count": 422,
   "id": "d9346465",
   "metadata": {
    "scrolled": true
   },
   "outputs": [
    {
     "data": {
      "text/html": [
       "<div>\n",
       "<style scoped>\n",
       "    .dataframe tbody tr th:only-of-type {\n",
       "        vertical-align: middle;\n",
       "    }\n",
       "\n",
       "    .dataframe tbody tr th {\n",
       "        vertical-align: top;\n",
       "    }\n",
       "\n",
       "    .dataframe thead th {\n",
       "        text-align: right;\n",
       "    }\n",
       "</style>\n",
       "<table border=\"1\" class=\"dataframe\">\n",
       "  <thead>\n",
       "    <tr style=\"text-align: right;\">\n",
       "      <th></th>\n",
       "      <th>이름</th>\n",
       "      <th>타입1</th>\n",
       "      <th>타입2</th>\n",
       "    </tr>\n",
       "  </thead>\n",
       "  <tbody>\n",
       "    <tr>\n",
       "      <th>697</th>\n",
       "      <td>Amaura</td>\n",
       "      <td>바위</td>\n",
       "      <td>얼음</td>\n",
       "    </tr>\n",
       "    <tr>\n",
       "      <th>698</th>\n",
       "      <td>Aurorus</td>\n",
       "      <td>바위</td>\n",
       "      <td>얼음</td>\n",
       "    </tr>\n",
       "  </tbody>\n",
       "</table>\n",
       "</div>"
      ],
      "text/plain": [
       "          이름 타입1 타입2\n",
       "697   Amaura  바위  얼음\n",
       "698  Aurorus  바위  얼음"
      ]
     },
     "execution_count": 422,
     "metadata": {},
     "output_type": "execute_result"
    }
   ],
   "source": [
    "# Extracting Type 1 and Type 2 for Pokémon named 'Amaura' and 'Aurorus' from the original DataFrame\n",
    "selected_pokemon = df1[df1[\"이름\"].isin([\"Amaura\", \"Aurorus\"])]\n",
    "\n",
    "# Extracting relevant information\n",
    "type_info = selected_pokemon[[\"이름\", \"타입1\", \"타입2\"]]\n",
    "\n",
    "type_info"
   ]
  },
  {
   "cell_type": "markdown",
   "id": "d8c6df6c",
   "metadata": {},
   "source": [
    "위의 두포켓몬은 바위와 얼음 조합을 가지고있습니다. 바위는 물,풀, 격투, 땅 , 강철에 강하고\n",
    "노말, 불꽃, 비행 약합니다.또한 얼음이 추가되면 전투,바위,강철에대한 약점이 증가합니다. 또한 불에 두배로 약합니다. "
   ]
  },
  {
   "cell_type": "code",
   "execution_count": 423,
   "id": "f1bb2c58",
   "metadata": {},
   "outputs": [],
   "source": [
    "#cluster analysis "
   ]
  },
  {
   "cell_type": "markdown",
   "id": "4481fca9",
   "metadata": {},
   "source": [
    "위의 분석에서 우리는 어떤 포켓몬 유형이 가장 강하고 약한지를 알아냈습니다. 여기서 조금더 나아가 군집분석을 통해 어떤 유형조합이 서로 가장 유사한지 알아봅시다! \n",
    "이렇게 하면팀을 구성할때 어떤 포켓몬을 선택하여 할지 더 잘 이해할수있습니다. "
   ]
  },
  {
   "cell_type": "code",
   "execution_count": 424,
   "id": "40bf37ef",
   "metadata": {},
   "outputs": [],
   "source": [
    "#k-means clustering"
   ]
  },
  {
   "cell_type": "code",
   "execution_count": 425,
   "id": "ba944ebb",
   "metadata": {},
   "outputs": [
    {
     "data": {
      "text/html": [
       "<style>#sk-container-id-5 {color: black;}#sk-container-id-5 pre{padding: 0;}#sk-container-id-5 div.sk-toggleable {background-color: white;}#sk-container-id-5 label.sk-toggleable__label {cursor: pointer;display: block;width: 100%;margin-bottom: 0;padding: 0.3em;box-sizing: border-box;text-align: center;}#sk-container-id-5 label.sk-toggleable__label-arrow:before {content: \"▸\";float: left;margin-right: 0.25em;color: #696969;}#sk-container-id-5 label.sk-toggleable__label-arrow:hover:before {color: black;}#sk-container-id-5 div.sk-estimator:hover label.sk-toggleable__label-arrow:before {color: black;}#sk-container-id-5 div.sk-toggleable__content {max-height: 0;max-width: 0;overflow: hidden;text-align: left;background-color: #f0f8ff;}#sk-container-id-5 div.sk-toggleable__content pre {margin: 0.2em;color: black;border-radius: 0.25em;background-color: #f0f8ff;}#sk-container-id-5 input.sk-toggleable__control:checked~div.sk-toggleable__content {max-height: 200px;max-width: 100%;overflow: auto;}#sk-container-id-5 input.sk-toggleable__control:checked~label.sk-toggleable__label-arrow:before {content: \"▾\";}#sk-container-id-5 div.sk-estimator input.sk-toggleable__control:checked~label.sk-toggleable__label {background-color: #d4ebff;}#sk-container-id-5 div.sk-label input.sk-toggleable__control:checked~label.sk-toggleable__label {background-color: #d4ebff;}#sk-container-id-5 input.sk-hidden--visually {border: 0;clip: rect(1px 1px 1px 1px);clip: rect(1px, 1px, 1px, 1px);height: 1px;margin: -1px;overflow: hidden;padding: 0;position: absolute;width: 1px;}#sk-container-id-5 div.sk-estimator {font-family: monospace;background-color: #f0f8ff;border: 1px dotted black;border-radius: 0.25em;box-sizing: border-box;margin-bottom: 0.5em;}#sk-container-id-5 div.sk-estimator:hover {background-color: #d4ebff;}#sk-container-id-5 div.sk-parallel-item::after {content: \"\";width: 100%;border-bottom: 1px solid gray;flex-grow: 1;}#sk-container-id-5 div.sk-label:hover label.sk-toggleable__label {background-color: #d4ebff;}#sk-container-id-5 div.sk-serial::before {content: \"\";position: absolute;border-left: 1px solid gray;box-sizing: border-box;top: 0;bottom: 0;left: 50%;z-index: 0;}#sk-container-id-5 div.sk-serial {display: flex;flex-direction: column;align-items: center;background-color: white;padding-right: 0.2em;padding-left: 0.2em;position: relative;}#sk-container-id-5 div.sk-item {position: relative;z-index: 1;}#sk-container-id-5 div.sk-parallel {display: flex;align-items: stretch;justify-content: center;background-color: white;position: relative;}#sk-container-id-5 div.sk-item::before, #sk-container-id-5 div.sk-parallel-item::before {content: \"\";position: absolute;border-left: 1px solid gray;box-sizing: border-box;top: 0;bottom: 0;left: 50%;z-index: -1;}#sk-container-id-5 div.sk-parallel-item {display: flex;flex-direction: column;z-index: 1;position: relative;background-color: white;}#sk-container-id-5 div.sk-parallel-item:first-child::after {align-self: flex-end;width: 50%;}#sk-container-id-5 div.sk-parallel-item:last-child::after {align-self: flex-start;width: 50%;}#sk-container-id-5 div.sk-parallel-item:only-child::after {width: 0;}#sk-container-id-5 div.sk-dashed-wrapped {border: 1px dashed gray;margin: 0 0.4em 0.5em 0.4em;box-sizing: border-box;padding-bottom: 0.4em;background-color: white;}#sk-container-id-5 div.sk-label label {font-family: monospace;font-weight: bold;display: inline-block;line-height: 1.2em;}#sk-container-id-5 div.sk-label-container {text-align: center;}#sk-container-id-5 div.sk-container {/* jupyter's `normalize.less` sets `[hidden] { display: none; }` but bootstrap.min.css set `[hidden] { display: none !important; }` so we also need the `!important` here to be able to override the default hidden behavior on the sphinx rendered scikit-learn.org. See: https://github.com/scikit-learn/scikit-learn/issues/21755 */display: inline-block !important;position: relative;}#sk-container-id-5 div.sk-text-repr-fallback {display: none;}</style><div id=\"sk-container-id-5\" class=\"sk-top-container\"><div class=\"sk-text-repr-fallback\"><pre>KMeans(init=&#x27;random&#x27;, n_init=10, random_state=42)</pre><b>In a Jupyter environment, please rerun this cell to show the HTML representation or trust the notebook. <br />On GitHub, the HTML representation is unable to render, please try loading this page with nbviewer.org.</b></div><div class=\"sk-container\" hidden><div class=\"sk-item\"><div class=\"sk-estimator sk-toggleable\"><input class=\"sk-toggleable__control sk-hidden--visually\" id=\"sk-estimator-id-5\" type=\"checkbox\" checked><label for=\"sk-estimator-id-5\" class=\"sk-toggleable__label sk-toggleable__label-arrow\">KMeans</label><div class=\"sk-toggleable__content\"><pre>KMeans(init=&#x27;random&#x27;, n_init=10, random_state=42)</pre></div></div></div></div></div>"
      ],
      "text/plain": [
       "KMeans(init='random', n_init=10, random_state=42)"
      ]
     },
     "execution_count": 425,
     "metadata": {},
     "output_type": "execute_result"
    }
   ],
   "source": [
    "#let's do a cluster analysis on each pokemon\n",
    "\n",
    "kmeans = KMeans(\n",
    "    init=\"random\",\n",
    "    n_clusters=8,\n",
    "    n_init=10,\n",
    "    max_iter=300,\n",
    "    random_state=42\n",
    ")\n",
    "kmeans.fit(df1[type_effectiveness_cols])"
   ]
  },
  {
   "cell_type": "code",
   "execution_count": 426,
   "id": "8f8ab862",
   "metadata": {},
   "outputs": [
    {
     "name": "stdout",
     "output_type": "stream",
     "text": [
      "2660.1809767330606\n",
      "6\n",
      "[2 2 2 4 4]\n"
     ]
    }
   ],
   "source": [
    "#analyze the output\n",
    "# The lowest SSE value\n",
    "print(kmeans.inertia_)\n",
    "\n",
    "# Final locations of the centroid\n",
    "kmeans.cluster_centers_\n",
    "\n",
    "# The number of iterations required to converge\n",
    "print(kmeans.n_iter_)\n",
    "\n",
    "# first 5 predicted labels\n",
    "print(kmeans.labels_[:5])"
   ]
  },
  {
   "cell_type": "code",
   "execution_count": 427,
   "id": "ea846af7",
   "metadata": {},
   "outputs": [],
   "source": [
    "# here we can use the elbow method to find the optimal number of clusters\n",
    "kmeans_kwargs = {\n",
    "    \"init\": \"random\",\n",
    "    \"n_init\": 10,\n",
    "    \"max_iter\": 300,\n",
    "    \"random_state\": 42,\n",
    "}\n",
    "\n",
    "# A list holds the SSE values for each k\n",
    "# Python’s dictionary unpacking operator (**)\n",
    "sse = []\n",
    "for k in range(1, 20):\n",
    "    kmeans = KMeans(n_clusters=k, **kmeans_kwargs)\n",
    "    kmeans.fit(df1[type_effectiveness_cols])\n",
    "    sse.append(kmeans.inertia_)"
   ]
  },
  {
   "cell_type": "code",
   "execution_count": 428,
   "id": "dbfb2c46",
   "metadata": {},
   "outputs": [
    {
     "data": {
      "image/png": "[encoded data removed]",
      "text/plain": [
       "<Figure size 1000x800 with 1 Axes>"
      ]
     },
     "metadata": {},
     "output_type": "display_data"
    }
   ],
   "source": [
    "plt.style.use(\"fivethirtyeight\") \n",
    "plt.plot(range(1, 20), sse) \n",
    "plt.xticks(range(1, 20))\n",
    "plt.xlabel(\"Number of Clusters\")\n",
    "plt.ylabel(\"SSE\")\n",
    "plt.show()"
   ]
  },
  {
   "cell_type": "code",
   "execution_count": 429,
   "id": "c9d7b123",
   "metadata": {},
   "outputs": [],
   "source": [
    "# A list holds the silhouette coefficients for each k\n",
    "silhouette_coefficients = []\n",
    "scaled_features = df1[type_effectiveness_cols]\n",
    "\n",
    "# Notice you start at 2 clusters for silhouette coefficient\n",
    "for k in range(2, 11):\n",
    "    kmeans = KMeans(n_clusters=k, **kmeans_kwargs)\n",
    "    kmeans.fit(scaled_features)\n",
    "    score = silhouette_score(scaled_features, kmeans.labels_)\n",
    "    silhouette_coefficients.append(score)"
   ]
  },
  {
   "cell_type": "code",
   "execution_count": 430,
   "id": "d7ff5e6d",
   "metadata": {},
   "outputs": [
    {
     "data": {
      "image/png": "[encoded data removed]",
      "text/plain": [
       "<Figure size 1000x800 with 1 Axes>"
      ]
     },
     "metadata": {},
     "output_type": "display_data"
    }
   ],
   "source": [
    "plt.style.use(\"fivethirtyeight\")\n",
    "plt.plot(range(2, 11), silhouette_coefficients)\n",
    "plt.xticks(range(2, 11))\n",
    "plt.xlabel(\"Number of Clusters\")\n",
    "plt.ylabel(\"Silhouette Coefficient\")\n",
    "plt.show()"
   ]
  },
  {
   "cell_type": "code",
   "execution_count": 431,
   "id": "19493534",
   "metadata": {},
   "outputs": [],
   "source": [
    "#hierarchical clustering "
   ]
  },
  {
   "cell_type": "code",
   "execution_count": 432,
   "id": "269c9b3b",
   "metadata": {},
   "outputs": [],
   "source": [
    "import numpy as np\n",
    "import pandas as pd\n",
    "\n",
    "import scipy\n",
    "from scipy.cluster.hierarchy import dendrogram,linkage\n",
    "from scipy.cluster.hierarchy import fcluster\n",
    "from scipy.cluster.hierarchy import cophenet\n",
    "from scipy.spatial.distance import pdist\n",
    "\n",
    "import matplotlib.pyplot as plt\n",
    "from pylab import rcParams\n",
    "\n",
    "import sklearn\n",
    "from sklearn import datasets\n",
    "from sklearn.cluster import AgglomerativeClustering\n",
    "import sklearn.metrics as sm\n",
    "from sklearn.preprocessing import scale"
   ]
  },
  {
   "cell_type": "code",
   "execution_count": 436,
   "id": "973fcc85",
   "metadata": {},
   "outputs": [],
   "source": [
    "#Configure the output\n",
    "np.set_printoptions(precision=4,suppress=True)\n",
    "%matplotlib inline\n",
    "rcParams[\"figure.figsize\"] =20,10"
   ]
  },
  {
   "cell_type": "code",
   "execution_count": 437,
   "id": "c72b2160",
   "metadata": {},
   "outputs": [
    {
     "data": {
      "image/png": "[encoded data removed]",
      "text/plain": [
       "<Figure size 2000x1000 with 1 Axes>"
      ]
     },
     "metadata": {},
     "output_type": "display_data"
    }
   ],
   "source": [
    "z = linkage(scaled_features,\"ward\")\n",
    "\n",
    "#generate dendrogram\n",
    "dendrogram(z,truncate_mode= \"lastp\", p =10, leaf_rotation=45,leaf_font_size=15, show_contracted=True)\n",
    "plt.title(\"Truncated Hierachial Clustering Dendrogram\")\n",
    "plt.xlabel(\"Cluster Size\")\n",
    "plt.ylabel(\"Distance\")\n",
    "#divide the cluster\n",
    "plt.axhline(y=20)\n",
    "plt.show()"
   ]
  },
  {
   "cell_type": "markdown",
   "id": "2fcac488",
   "metadata": {},
   "source": [
    "# analyzing clusters "
   ]
  },
  {
   "cell_type": "markdown",
   "id": "77b931bd",
   "metadata": {},
   "source": [
    "더 나아가서 저희는 계층적 군집분석 결과와 함께 5개의 클러스터를 선택했습니다. 이렇게 한 이유는 트레이너가 자신의 팀에 7개의 포켓몬을 선택할수 있기때문입니다. 따라서 군집분석을 통해 이질적인 타입 조합을 가진 포켓몬 5마리와 트레이너가 추가로 선택할수 있는 포켓몬ㄴ한마리를 선택할수있습니다ㅣ "
   ]
  },
  {
   "cell_type": "code",
   "execution_count": 438,
   "id": "64310ff2",
   "metadata": {},
   "outputs": [],
   "source": [
    "#Plotly Libraris\n",
    "import plotly.express as px\n",
    "import plotly.graph_objects as go\n",
    "import plotly.figure_factory as ff\n",
    "from plotly.colors import n_colors\n",
    "from plotly.subplots import make_subplots"
   ]
  },
  {
   "cell_type": "code",
   "execution_count": 439,
   "id": "3f3874f8",
   "metadata": {},
   "outputs": [
    {
     "data": {
      "application/vnd.plotly.v1+json": {
       "config": {
        "plotlyServerURL": "https://plot.ly"
       },
       "data": [
        {
         "alignmentgroup": "True",
         "bingroup": "x",
         "hovertemplate": "clusters=%{x}<br>count=%{y}<extra></extra>",
         "legendgroup": "",
         "marker": {
          "color": "#636efa",
          "pattern": {
           "shape": ""
          }
         },
         "name": "",
         "offsetgroup": "",
         "orientation": "v",
         "showlegend": false,
         "type": "histogram",
         "x": [
          1,
          1,
          1,
          4,
          4,
          2,
          0,
          0,
          0,
          1,
          1,
          2,
          2,
          2,
          2,
          2,
          2,
          2,
          0,
          0,
          2,
          2,
          4,
          4,
          4,
          4,
          4,
          4,
          4,
          4,
          4,
          4,
          4,
          4,
          4,
          4,
          4,
          4,
          0,
          0,
          2,
          2,
          1,
          1,
          1,
          1,
          1,
          2,
          2,
          4,
          4,
          0,
          0,
          0,
          0,
          0,
          0,
          4,
          4,
          0,
          0,
          0,
          3,
          3,
          3,
          0,
          0,
          0,
          1,
          1,
          1,
          4,
          4,
          4,
          4,
          4,
          4,
          4,
          3,
          3,
          4,
          4,
          2,
          2,
          2,
          0,
          0,
          4,
          4,
          0,
          0,
          3,
          3,
          3,
          4,
          3,
          3,
          0,
          0,
          4,
          4,
          1,
          1,
          4,
          4,
          0,
          0,
          0,
          4,
          4,
          4,
          4,
          0,
          1,
          0,
          0,
          0,
          0,
          0,
          0,
          3,
          3,
          2,
          3,
          4,
          4,
          1,
          0,
          0,
          2,
          0,
          0,
          0,
          0,
          4,
          4,
          0,
          0,
          0,
          0,
          0,
          2,
          0,
          2,
          2,
          2,
          0,
          0,
          2,
          3,
          3,
          1,
          1,
          1,
          4,
          4,
          4,
          0,
          0,
          0,
          0,
          0,
          2,
          2,
          2,
          2,
          2,
          2,
          2,
          0,
          0,
          4,
          4,
          0,
          4,
          2,
          2,
          2,
          4,
          4,
          4,
          1,
          0,
          0,
          4,
          0,
          1,
          1,
          1,
          0,
          1,
          1,
          2,
          0,
          0,
          3,
          0,
          2,
          3,
          3,
          3,
          3,
          0,
          1,
          1,
          0,
          2,
          4,
          4,
          4,
          4,
          1,
          4,
          1,
          0,
          0,
          0,
          4,
          4,
          4,
          4,
          0,
          0,
          0,
          2,
          2,
          2,
          4,
          4,
          0,
          4,
          4,
          0,
          0,
          0,
          0,
          0,
          3,
          4,
          4,
          0,
          0,
          4,
          4,
          0,
          4,
          4,
          0,
          2,
          2,
          1,
          1,
          1,
          1,
          4,
          4,
          4,
          0,
          0,
          0,
          0,
          0,
          0,
          0,
          1,
          1,
          2,
          1,
          2,
          1,
          1,
          1,
          1,
          1,
          1,
          2,
          2,
          2,
          2,
          3,
          3,
          3,
          2,
          2,
          1,
          1,
          0,
          0,
          0,
          1,
          2,
          3,
          0,
          0,
          0,
          0,
          0,
          0,
          4,
          0,
          0,
          3,
          4,
          4,
          4,
          4,
          3,
          3,
          4,
          4,
          4,
          4,
          1,
          1,
          1,
          4,
          4,
          0,
          0,
          0,
          0,
          4,
          4,
          4,
          3,
          3,
          0,
          4,
          0,
          0,
          1,
          1,
          2,
          2,
          0,
          4,
          3,
          3,
          0,
          0,
          0,
          0,
          3,
          3,
          0,
          0,
          4,
          4,
          0,
          0,
          0,
          0,
          3,
          3,
          3,
          3,
          1,
          3,
          0,
          3,
          0,
          0,
          0,
          0,
          0,
          0,
          0,
          0,
          0,
          0,
          0,
          0,
          2,
          3,
          3,
          3,
          4,
          0,
          4,
          3,
          3,
          0,
          4,
          2,
          3,
          3,
          1,
          1,
          1,
          4,
          4,
          4,
          0,
          0,
          4,
          2,
          2,
          2,
          0,
          0,
          1,
          1,
          4,
          4,
          4,
          1,
          1,
          4,
          4,
          4,
          4,
          1,
          1,
          2,
          2,
          2,
          4,
          0,
          0,
          1,
          1,
          0,
          0,
          0,
          2,
          2,
          0,
          0,
          3,
          2,
          0,
          0,
          3,
          4,
          4,
          3,
          3,
          4,
          3,
          0,
          2,
          3,
          0,
          0,
          0,
          0,
          0,
          4,
          4,
          4,
          2,
          4,
          4,
          4,
          1,
          0,
          0,
          2,
          1,
          1,
          0,
          4,
          0,
          4,
          1,
          4,
          4,
          2,
          2,
          1,
          0,
          2,
          4,
          0,
          3,
          4,
          3,
          3,
          3,
          3,
          3,
          3,
          4,
          0,
          4,
          0,
          3,
          3,
          0,
          0,
          0,
          1,
          0,
          3,
          1,
          1,
          1,
          4,
          4,
          4,
          0,
          0,
          0,
          0,
          0,
          0,
          0,
          0,
          0,
          0,
          1,
          1,
          4,
          4,
          0,
          0,
          3,
          3,
          2,
          2,
          2,
          4,
          4,
          4,
          4,
          4,
          2,
          2,
          4,
          4,
          0,
          0,
          0,
          0,
          0,
          0,
          0,
          0,
          0,
          1,
          1,
          1,
          2,
          2,
          2,
          1,
          1,
          1,
          1,
          0,
          0,
          0,
          0,
          4,
          4,
          1,
          4,
          4,
          0,
          0,
          2,
          3,
          3,
          0,
          0,
          2,
          2,
          4,
          4,
          0,
          0,
          0,
          0,
          3,
          3,
          3,
          3,
          3,
          3,
          2,
          2,
          0,
          0,
          0,
          1,
          1,
          2,
          1,
          1,
          1,
          1,
          3,
          3,
          0,
          1,
          1,
          1,
          1,
          4,
          4,
          4,
          4,
          4,
          4,
          3,
          3,
          3,
          3,
          3,
          0,
          0,
          0,
          0,
          0,
          0,
          1,
          1,
          4,
          0,
          0,
          0,
          3,
          3,
          0,
          0,
          0,
          2,
          2,
          2,
          2,
          4,
          1,
          0,
          0,
          0,
          2,
          2,
          4,
          4,
          1,
          2,
          2,
          4,
          0,
          2,
          0,
          0,
          0,
          1,
          1,
          1,
          1,
          4,
          4,
          3,
          0,
          0,
          0,
          0,
          0,
          2,
          2,
          2,
          1,
          1,
          2,
          4,
          4,
          4,
          4,
          4,
          1,
          1,
          0,
          0,
          0,
          3,
          3,
          3,
          3,
          3,
          4,
          4,
          4,
          4,
          3,
          3,
          0,
          0,
          4,
          4,
          0,
          0,
          4,
          4,
          0,
          0,
          4,
          4,
          4,
          2,
          4,
          4,
          0,
          0,
          0,
          4,
          1,
          1,
          1,
          1,
          0,
          0,
          2,
          2,
          4,
          2,
          0,
          4,
          3,
          4,
          1,
          1,
          1,
          4,
          4,
          4,
          0,
          0,
          0,
          2,
          2,
          2,
          0,
          0,
          1,
          1,
          1,
          0,
          0,
          2,
          1,
          1,
          4,
          4,
          0,
          4,
          4,
          4,
          4,
          2,
          2,
          1,
          1,
          1,
          1,
          4,
          4,
          0,
          0,
          1,
          1,
          1,
          4,
          0,
          0,
          2,
          2,
          3,
          3,
          0,
          0,
          0,
          2,
          0,
          4,
          4,
          3,
          3,
          0,
          1,
          0,
          0,
          0,
          4,
          3,
          1,
          0,
          3,
          3,
          3,
          3,
          4,
          1,
          1,
          4,
          2,
          1,
          0,
          3,
          4
         ],
         "xaxis": "x",
         "yaxis": "y"
        }
       ],
       "layout": {
        "bargap": 0.2,
        "barmode": "relative",
        "legend": {
         "tracegroupgap": 0
        },
        "margin": {
         "t": 60
        },
        "template": {
         "data": {
          "bar": [
           {
            "error_x": {
             "color": "#2a3f5f"
            },
            "error_y": {
             "color": "#2a3f5f"
            },
            "marker": {
             "line": {
              "color": "#E5ECF6",
              "width": 0.5
             },
             "pattern": {
              "fillmode": "overlay",
              "size": 10,
              "solidity": 0.2
             }
            },
            "type": "bar"
           }
          ],
          "barpolar": [
           {
            "marker": {
             "line": {
              "color": "#E5ECF6",
              "width": 0.5
             },
             "pattern": {
              "fillmode": "overlay",
              "size": 10,
              "solidity": 0.2
             }
            },
            "type": "barpolar"
           }
          ],
          "carpet": [
           {
            "aaxis": {
             "endlinecolor": "#2a3f5f",
             "gridcolor": "white",
             "linecolor": "white",
             "minorgridcolor": "white",
             "startlinecolor": "#2a3f5f"
            },
            "baxis": {
             "endlinecolor": "#2a3f5f",
             "gridcolor": "white",
             "linecolor": "white",
             "minorgridcolor": "white",
             "startlinecolor": "#2a3f5f"
            },
            "type": "carpet"
           }
          ],
          "choropleth": [
           {
            "colorbar": {
             "outlinewidth": 0,
             "ticks": ""
            },
            "type": "choropleth"
           }
          ],
          "contour": [
           {
            "colorbar": {
             "outlinewidth": 0,
             "ticks": ""
            },
            "colorscale": [
             [
              0,
              "#0d0887"
             ],
             [
              0.1111111111111111,
              "#46039f"
             ],
             [
              0.2222222222222222,
              "#7201a8"
             ],
             [
              0.3333333333333333,
              "#9c179e"
             ],
             [
              0.4444444444444444,
              "#bd3786"
             ],
             [
              0.5555555555555556,
              "#d8576b"
             ],
             [
              0.6666666666666666,
              "#ed7953"
             ],
             [
              0.7777777777777778,
              "#fb9f3a"
             ],
             [
              0.8888888888888888,
              "#fdca26"
             ],
             [
              1,
              "#f0f921"
             ]
            ],
            "type": "contour"
           }
          ],
          "contourcarpet": [
           {
            "colorbar": {
             "outlinewidth": 0,
             "ticks": ""
            },
            "type": "contourcarpet"
           }
          ],
          "heatmap": [
           {
            "colorbar": {
             "outlinewidth": 0,
             "ticks": ""
            },
            "colorscale": [
             [
              0,
              "#0d0887"
             ],
             [
              0.1111111111111111,
              "#46039f"
             ],
             [
              0.2222222222222222,
              "#7201a8"
             ],
             [
              0.3333333333333333,
              "#9c179e"
             ],
             [
              0.4444444444444444,
              "#bd3786"
             ],
             [
              0.5555555555555556,
              "#d8576b"
             ],
             [
              0.6666666666666666,
              "#ed7953"
             ],
             [
              0.7777777777777778,
              "#fb9f3a"
             ],
             [
              0.8888888888888888,
              "#fdca26"
             ],
             [
              1,
              "#f0f921"
             ]
            ],
            "type": "heatmap"
           }
          ],
          "heatmapgl": [
           {
            "colorbar": {
             "outlinewidth": 0,
             "ticks": ""
            },
            "colorscale": [
             [
              0,
              "#0d0887"
             ],
             [
              0.1111111111111111,
              "#46039f"
             ],
             [
              0.2222222222222222,
              "#7201a8"
             ],
             [
              0.3333333333333333,
              "#9c179e"
             ],
             [
              0.4444444444444444,
              "#bd3786"
             ],
             [
              0.5555555555555556,
              "#d8576b"
             ],
             [
              0.6666666666666666,
              "#ed7953"
             ],
             [
              0.7777777777777778,
              "#fb9f3a"
             ],
             [
              0.8888888888888888,
              "#fdca26"
             ],
             [
              1,
              "#f0f921"
             ]
            ],
            "type": "heatmapgl"
           }
          ],
          "histogram": [
           {
            "marker": {
             "pattern": {
              "fillmode": "overlay",
              "size": 10,
              "solidity": 0.2
             }
            },
            "type": "histogram"
           }
          ],
          "histogram2d": [
           {
            "colorbar": {
             "outlinewidth": 0,
             "ticks": ""
            },
            "colorscale": [
             [
              0,
              "#0d0887"
             ],
             [
              0.1111111111111111,
              "#46039f"
             ],
             [
              0.2222222222222222,
              "#7201a8"
             ],
             [
              0.3333333333333333,
              "#9c179e"
             ],
             [
              0.4444444444444444,
              "#bd3786"
             ],
             [
              0.5555555555555556,
              "#d8576b"
             ],
             [
              0.6666666666666666,
              "#ed7953"
             ],
             [
              0.7777777777777778,
              "#fb9f3a"
             ],
             [
              0.8888888888888888,
              "#fdca26"
             ],
             [
              1,
              "#f0f921"
             ]
            ],
            "type": "histogram2d"
           }
          ],
          "histogram2dcontour": [
           {
            "colorbar": {
             "outlinewidth": 0,
             "ticks": ""
            },
            "colorscale": [
             [
              0,
              "#0d0887"
             ],
             [
              0.1111111111111111,
              "#46039f"
             ],
             [
              0.2222222222222222,
              "#7201a8"
             ],
             [
              0.3333333333333333,
              "#9c179e"
             ],
             [
              0.4444444444444444,
              "#bd3786"
             ],
             [
              0.5555555555555556,
              "#d8576b"
             ],
             [
              0.6666666666666666,
              "#ed7953"
             ],
             [
              0.7777777777777778,
              "#fb9f3a"
             ],
             [
              0.8888888888888888,
              "#fdca26"
             ],
             [
              1,
              "#f0f921"
             ]
            ],
            "type": "histogram2dcontour"
           }
          ],
          "mesh3d": [
           {
            "colorbar": {
             "outlinewidth": 0,
             "ticks": ""
            },
            "type": "mesh3d"
           }
          ],
          "parcoords": [
           {
            "line": {
             "colorbar": {
              "outlinewidth": 0,
              "ticks": ""
             }
            },
            "type": "parcoords"
           }
          ],
          "pie": [
           {
            "automargin": true,
            "type": "pie"
           }
          ],
          "scatter": [
           {
            "fillpattern": {
             "fillmode": "overlay",
             "size": 10,
             "solidity": 0.2
            },
            "type": "scatter"
           }
          ],
          "scatter3d": [
           {
            "line": {
             "colorbar": {
              "outlinewidth": 0,
              "ticks": ""
             }
            },
            "marker": {
             "colorbar": {
              "outlinewidth": 0,
              "ticks": ""
             }
            },
            "type": "scatter3d"
           }
          ],
          "scattercarpet": [
           {
            "marker": {
             "colorbar": {
              "outlinewidth": 0,
              "ticks": ""
             }
            },
            "type": "scattercarpet"
           }
          ],
          "scattergeo": [
           {
            "marker": {
             "colorbar": {
              "outlinewidth": 0,
              "ticks": ""
             }
            },
            "type": "scattergeo"
           }
          ],
          "scattergl": [
           {
            "marker": {
             "colorbar": {
              "outlinewidth": 0,
              "ticks": ""
             }
            },
            "type": "scattergl"
           }
          ],
          "scattermapbox": [
           {
            "marker": {
             "colorbar": {
              "outlinewidth": 0,
              "ticks": ""
             }
            },
            "type": "scattermapbox"
           }
          ],
          "scatterpolar": [
           {
            "marker": {
             "colorbar": {
              "outlinewidth": 0,
              "ticks": ""
             }
            },
            "type": "scatterpolar"
           }
          ],
          "scatterpolargl": [
           {
            "marker": {
             "colorbar": {
              "outlinewidth": 0,
              "ticks": ""
             }
            },
            "type": "scatterpolargl"
           }
          ],
          "scatterternary": [
           {
            "marker": {
             "colorbar": {
              "outlinewidth": 0,
              "ticks": ""
             }
            },
            "type": "scatterternary"
           }
          ],
          "surface": [
           {
            "colorbar": {
             "outlinewidth": 0,
             "ticks": ""
            },
            "colorscale": [
             [
              0,
              "#0d0887"
             ],
             [
              0.1111111111111111,
              "#46039f"
             ],
             [
              0.2222222222222222,
              "#7201a8"
             ],
             [
              0.3333333333333333,
              "#9c179e"
             ],
             [
              0.4444444444444444,
              "#bd3786"
             ],
             [
              0.5555555555555556,
              "#d8576b"
             ],
             [
              0.6666666666666666,
              "#ed7953"
             ],
             [
              0.7777777777777778,
              "#fb9f3a"
             ],
             [
              0.8888888888888888,
              "#fdca26"
             ],
             [
              1,
              "#f0f921"
             ]
            ],
            "type": "surface"
           }
          ],
          "table": [
           {
            "cells": {
             "fill": {
              "color": "#EBF0F8"
             },
             "line": {
              "color": "white"
             }
            },
            "header": {
             "fill": {
              "color": "#C8D4E3"
             },
             "line": {
              "color": "white"
             }
            },
            "type": "table"
           }
          ]
         },
         "layout": {
          "annotationdefaults": {
           "arrowcolor": "#2a3f5f",
           "arrowhead": 0,
           "arrowwidth": 1
          },
          "autotypenumbers": "strict",
          "coloraxis": {
           "colorbar": {
            "outlinewidth": 0,
            "ticks": ""
           }
          },
          "colorscale": {
           "diverging": [
            [
             0,
             "#8e0152"
            ],
            [
             0.1,
             "#c51b7d"
            ],
            [
             0.2,
             "#de77ae"
            ],
            [
             0.3,
             "#f1b6da"
            ],
            [
             0.4,
             "#fde0ef"
            ],
            [
             0.5,
             "#f7f7f7"
            ],
            [
             0.6,
             "#e6f5d0"
            ],
            [
             0.7,
             "#b8e186"
            ],
            [
             0.8,
             "#7fbc41"
            ],
            [
             0.9,
             "#4d9221"
            ],
            [
             1,
             "#276419"
            ]
           ],
           "sequential": [
            [
             0,
             "#0d0887"
            ],
            [
             0.1111111111111111,
             "#46039f"
            ],
            [
             0.2222222222222222,
             "#7201a8"
            ],
            [
             0.3333333333333333,
             "#9c179e"
            ],
            [
             0.4444444444444444,
             "#bd3786"
            ],
            [
             0.5555555555555556,
             "#d8576b"
            ],
            [
             0.6666666666666666,
             "#ed7953"
            ],
            [
             0.7777777777777778,
             "#fb9f3a"
            ],
            [
             0.8888888888888888,
             "#fdca26"
            ],
            [
             1,
             "#f0f921"
            ]
           ],
           "sequentialminus": [
            [
             0,
             "#0d0887"
            ],
            [
             0.1111111111111111,
             "#46039f"
            ],
            [
             0.2222222222222222,
             "#7201a8"
            ],
            [
             0.3333333333333333,
             "#9c179e"
            ],
            [
             0.4444444444444444,
             "#bd3786"
            ],
            [
             0.5555555555555556,
             "#d8576b"
            ],
            [
             0.6666666666666666,
             "#ed7953"
            ],
            [
             0.7777777777777778,
             "#fb9f3a"
            ],
            [
             0.8888888888888888,
             "#fdca26"
            ],
            [
             1,
             "#f0f921"
            ]
           ]
          },
          "colorway": [
           "#636efa",
           "#EF553B",
           "#00cc96",
           "#ab63fa",
           "#FFA15A",
           "#19d3f3",
           "#FF6692",
           "#B6E880",
           "#FF97FF",
           "#FECB52"
          ],
          "font": {
           "color": "#2a3f5f"
          },
          "geo": {
           "bgcolor": "white",
           "lakecolor": "white",
           "landcolor": "#E5ECF6",
           "showlakes": true,
           "showland": true,
           "subunitcolor": "white"
          },
          "hoverlabel": {
           "align": "left"
          },
          "hovermode": "closest",
          "mapbox": {
           "style": "light"
          },
          "paper_bgcolor": "white",
          "plot_bgcolor": "#E5ECF6",
          "polar": {
           "angularaxis": {
            "gridcolor": "white",
            "linecolor": "white",
            "ticks": ""
           },
           "bgcolor": "#E5ECF6",
           "radialaxis": {
            "gridcolor": "white",
            "linecolor": "white",
            "ticks": ""
           }
          },
          "scene": {
           "xaxis": {
            "backgroundcolor": "#E5ECF6",
            "gridcolor": "white",
            "gridwidth": 2,
            "linecolor": "white",
            "showbackground": true,
            "ticks": "",
            "zerolinecolor": "white"
           },
           "yaxis": {
            "backgroundcolor": "#E5ECF6",
            "gridcolor": "white",
            "gridwidth": 2,
            "linecolor": "white",
            "showbackground": true,
            "ticks": "",
            "zerolinecolor": "white"
           },
           "zaxis": {
            "backgroundcolor": "#E5ECF6",
            "gridcolor": "white",
            "gridwidth": 2,
            "linecolor": "white",
            "showbackground": true,
            "ticks": "",
            "zerolinecolor": "white"
           }
          },
          "shapedefaults": {
           "line": {
            "color": "#2a3f5f"
           }
          },
          "ternary": {
           "aaxis": {
            "gridcolor": "white",
            "linecolor": "white",
            "ticks": ""
           },
           "baxis": {
            "gridcolor": "white",
            "linecolor": "white",
            "ticks": ""
           },
           "bgcolor": "#E5ECF6",
           "caxis": {
            "gridcolor": "white",
            "linecolor": "white",
            "ticks": ""
           }
          },
          "title": {
           "x": 0.05
          },
          "xaxis": {
           "automargin": true,
           "gridcolor": "white",
           "linecolor": "white",
           "ticks": "",
           "title": {
            "standoff": 15
           },
           "zerolinecolor": "white",
           "zerolinewidth": 2
          },
          "yaxis": {
           "automargin": true,
           "gridcolor": "white",
           "linecolor": "white",
           "ticks": "",
           "title": {
            "standoff": 15
           },
           "zerolinecolor": "white",
           "zerolinewidth": 2
          }
         }
        },
        "title": {
         "text": "Number of Pokemon in Each Cluster"
        },
        "xaxis": {
         "anchor": "y",
         "domain": [
          0,
          1
         ],
         "title": {
          "text": "Cluster"
         }
        },
        "yaxis": {
         "anchor": "x",
         "domain": [
          0,
          1
         ],
         "title": {
          "text": "Number of Pokemon"
         }
        }
       }
      },
      "text/html": [
       "<div>                            <div id=\"f988d920-9d79-482f-a211-7385b246c5a5\" class=\"plotly-graph-div\" style=\"height:525px; width:100%;\"></div>            <script type=\"text/javascript\">                require([\"plotly\"], function(Plotly) {                    window.PLOTLYENV=window.PLOTLYENV || {};                                    if (document.getElementById(\"f988d920-9d79-482f-a211-7385b246c5a5\")) {                    Plotly.newPlot(                        \"f988d920-9d79-482f-a211-7385b246c5a5\",                        [{\"alignmentgroup\":\"True\",\"bingroup\":\"x\",\"hovertemplate\":\"clusters=%{x}<br>count=%{y}<extra></extra>\",\"legendgroup\":\"\",\"marker\":{\"color\":\"#636efa\",\"pattern\":{\"shape\":\"\"}},\"name\":\"\",\"offsetgroup\":\"\",\"orientation\":\"v\",\"showlegend\":false,\"x\":[1,1,1,4,4,2,0,0,0,1,1,2,2,2,2,2,2,2,0,0,2,2,4,4,4,4,4,4,4,4,4,4,4,4,4,4,4,4,0,0,2,2,1,1,1,1,1,2,2,4,4,0,0,0,0,0,0,4,4,0,0,0,3,3,3,0,0,0,1,1,1,4,4,4,4,4,4,4,3,3,4,4,2,2,2,0,0,4,4,0,0,3,3,3,4,3,3,0,0,4,4,1,1,4,4,0,0,0,4,4,4,4,0,1,0,0,0,0,0,0,3,3,2,3,4,4,1,0,0,2,0,0,0,0,4,4,0,0,0,0,0,2,0,2,2,2,0,0,2,3,3,1,1,1,4,4,4,0,0,0,0,0,2,2,2,2,2,2,2,0,0,4,4,0,4,2,2,2,4,4,4,1,0,0,4,0,1,1,1,0,1,1,2,0,0,3,0,2,3,3,3,3,0,1,1,0,2,4,4,4,4,1,4,1,0,0,0,4,4,4,4,0,0,0,2,2,2,4,4,0,4,4,0,0,0,0,0,3,4,4,0,0,4,4,0,4,4,0,2,2,1,1,1,1,4,4,4,0,0,0,0,0,0,0,1,1,2,1,2,1,1,1,1,1,1,2,2,2,2,3,3,3,2,2,1,1,0,0,0,1,2,3,0,0,0,0,0,0,4,0,0,3,4,4,4,4,3,3,4,4,4,4,1,1,1,4,4,0,0,0,0,4,4,4,3,3,0,4,0,0,1,1,2,2,0,4,3,3,0,0,0,0,3,3,0,0,4,4,0,0,0,0,3,3,3,3,1,3,0,3,0,0,0,0,0,0,0,0,0,0,0,0,2,3,3,3,4,0,4,3,3,0,4,2,3,3,1,1,1,4,4,4,0,0,4,2,2,2,0,0,1,1,4,4,4,1,1,4,4,4,4,1,1,2,2,2,4,0,0,1,1,0,0,0,2,2,0,0,3,2,0,0,3,4,4,3,3,4,3,0,2,3,0,0,0,0,0,4,4,4,2,4,4,4,1,0,0,2,1,1,0,4,0,4,1,4,4,2,2,1,0,2,4,0,3,4,3,3,3,3,3,3,4,0,4,0,3,3,0,0,0,1,0,3,1,1,1,4,4,4,0,0,0,0,0,0,0,0,0,0,1,1,4,4,0,0,3,3,2,2,2,4,4,4,4,4,2,2,4,4,0,0,0,0,0,0,0,0,0,1,1,1,2,2,2,1,1,1,1,0,0,0,0,4,4,1,4,4,0,0,2,3,3,0,0,2,2,4,4,0,0,0,0,3,3,3,3,3,3,2,2,0,0,0,1,1,2,1,1,1,1,3,3,0,1,1,1,1,4,4,4,4,4,4,3,3,3,3,3,0,0,0,0,0,0,1,1,4,0,0,0,3,3,0,0,0,2,2,2,2,4,1,0,0,0,2,2,4,4,1,2,2,4,0,2,0,0,0,1,1,1,1,4,4,3,0,0,0,0,0,2,2,2,1,1,2,4,4,4,4,4,1,1,0,0,0,3,3,3,3,3,4,4,4,4,3,3,0,0,4,4,0,0,4,4,0,0,4,4,4,2,4,4,0,0,0,4,1,1,1,1,0,0,2,2,4,2,0,4,3,4,1,1,1,4,4,4,0,0,0,2,2,2,0,0,1,1,1,0,0,2,1,1,4,4,0,4,4,4,4,2,2,1,1,1,1,4,4,0,0,1,1,1,4,0,0,2,2,3,3,0,0,0,2,0,4,4,3,3,0,1,0,0,0,4,3,1,0,3,3,3,3,4,1,1,4,2,1,0,3,4],\"xaxis\":\"x\",\"yaxis\":\"y\",\"type\":\"histogram\"}],                        {\"template\":{\"data\":{\"histogram2dcontour\":[{\"type\":\"histogram2dcontour\",\"colorbar\":{\"outlinewidth\":0,\"ticks\":\"\"},\"colorscale\":[[0.0,\"#0d0887\"],[0.1111111111111111,\"#46039f\"],[0.2222222222222222,\"#7201a8\"],[0.3333333333333333,\"#9c179e\"],[0.4444444444444444,\"#bd3786\"],[0.5555555555555556,\"#d8576b\"],[0.6666666666666666,\"#ed7953\"],[0.7777777777777778,\"#fb9f3a\"],[0.8888888888888888,\"#fdca26\"],[1.0,\"#f0f921\"]]}],\"choropleth\":[{\"type\":\"choropleth\",\"colorbar\":{\"outlinewidth\":0,\"ticks\":\"\"}}],\"histogram2d\":[{\"type\":\"histogram2d\",\"colorbar\":{\"outlinewidth\":0,\"ticks\":\"\"},\"colorscale\":[[0.0,\"#0d0887\"],[0.1111111111111111,\"#46039f\"],[0.2222222222222222,\"#7201a8\"],[0.3333333333333333,\"#9c179e\"],[0.4444444444444444,\"#bd3786\"],[0.5555555555555556,\"#d8576b\"],[0.6666666666666666,\"#ed7953\"],[0.7777777777777778,\"#fb9f3a\"],[0.8888888888888888,\"#fdca26\"],[1.0,\"#f0f921\"]]}],\"heatmap\":[{\"type\":\"heatmap\",\"colorbar\":{\"outlinewidth\":0,\"ticks\":\"\"},\"colorscale\":[[0.0,\"#0d0887\"],[0.1111111111111111,\"#46039f\"],[0.2222222222222222,\"#7201a8\"],[0.3333333333333333,\"#9c179e\"],[0.4444444444444444,\"#bd3786\"],[0.5555555555555556,\"#d8576b\"],[0.6666666666666666,\"#ed7953\"],[0.7777777777777778,\"#fb9f3a\"],[0.8888888888888888,\"#fdca26\"],[1.0,\"#f0f921\"]]}],\"heatmapgl\":[{\"type\":\"heatmapgl\",\"colorbar\":{\"outlinewidth\":0,\"ticks\":\"\"},\"colorscale\":[[0.0,\"#0d0887\"],[0.1111111111111111,\"#46039f\"],[0.2222222222222222,\"#7201a8\"],[0.3333333333333333,\"#9c179e\"],[0.4444444444444444,\"#bd3786\"],[0.5555555555555556,\"#d8576b\"],[0.6666666666666666,\"#ed7953\"],[0.7777777777777778,\"#fb9f3a\"],[0.8888888888888888,\"#fdca26\"],[1.0,\"#f0f921\"]]}],\"contourcarpet\":[{\"type\":\"contourcarpet\",\"colorbar\":{\"outlinewidth\":0,\"ticks\":\"\"}}],\"contour\":[{\"type\":\"contour\",\"colorbar\":{\"outlinewidth\":0,\"ticks\":\"\"},\"colorscale\":[[0.0,\"#0d0887\"],[0.1111111111111111,\"#46039f\"],[0.2222222222222222,\"#7201a8\"],[0.3333333333333333,\"#9c179e\"],[0.4444444444444444,\"#bd3786\"],[0.5555555555555556,\"#d8576b\"],[0.6666666666666666,\"#ed7953\"],[0.7777777777777778,\"#fb9f3a\"],[0.8888888888888888,\"#fdca26\"],[1.0,\"#f0f921\"]]}],\"surface\":[{\"type\":\"surface\",\"colorbar\":{\"outlinewidth\":0,\"ticks\":\"\"},\"colorscale\":[[0.0,\"#0d0887\"],[0.1111111111111111,\"#46039f\"],[0.2222222222222222,\"#7201a8\"],[0.3333333333333333,\"#9c179e\"],[0.4444444444444444,\"#bd3786\"],[0.5555555555555556,\"#d8576b\"],[0.6666666666666666,\"#ed7953\"],[0.7777777777777778,\"#fb9f3a\"],[0.8888888888888888,\"#fdca26\"],[1.0,\"#f0f921\"]]}],\"mesh3d\":[{\"type\":\"mesh3d\",\"colorbar\":{\"outlinewidth\":0,\"ticks\":\"\"}}],\"scatter\":[{\"fillpattern\":{\"fillmode\":\"overlay\",\"size\":10,\"solidity\":0.2},\"type\":\"scatter\"}],\"parcoords\":[{\"type\":\"parcoords\",\"line\":{\"colorbar\":{\"outlinewidth\":0,\"ticks\":\"\"}}}],\"scatterpolargl\":[{\"type\":\"scatterpolargl\",\"marker\":{\"colorbar\":{\"outlinewidth\":0,\"ticks\":\"\"}}}],\"bar\":[{\"error_x\":{\"color\":\"#2a3f5f\"},\"error_y\":{\"color\":\"#2a3f5f\"},\"marker\":{\"line\":{\"color\":\"#E5ECF6\",\"width\":0.5},\"pattern\":{\"fillmode\":\"overlay\",\"size\":10,\"solidity\":0.2}},\"type\":\"bar\"}],\"scattergeo\":[{\"type\":\"scattergeo\",\"marker\":{\"colorbar\":{\"outlinewidth\":0,\"ticks\":\"\"}}}],\"scatterpolar\":[{\"type\":\"scatterpolar\",\"marker\":{\"colorbar\":{\"outlinewidth\":0,\"ticks\":\"\"}}}],\"histogram\":[{\"marker\":{\"pattern\":{\"fillmode\":\"overlay\",\"size\":10,\"solidity\":0.2}},\"type\":\"histogram\"}],\"scattergl\":[{\"type\":\"scattergl\",\"marker\":{\"colorbar\":{\"outlinewidth\":0,\"ticks\":\"\"}}}],\"scatter3d\":[{\"type\":\"scatter3d\",\"line\":{\"colorbar\":{\"outlinewidth\":0,\"ticks\":\"\"}},\"marker\":{\"colorbar\":{\"outlinewidth\":0,\"ticks\":\"\"}}}],\"scattermapbox\":[{\"type\":\"scattermapbox\",\"marker\":{\"colorbar\":{\"outlinewidth\":0,\"ticks\":\"\"}}}],\"scatterternary\":[{\"type\":\"scatterternary\",\"marker\":{\"colorbar\":{\"outlinewidth\":0,\"ticks\":\"\"}}}],\"scattercarpet\":[{\"type\":\"scattercarpet\",\"marker\":{\"colorbar\":{\"outlinewidth\":0,\"ticks\":\"\"}}}],\"carpet\":[{\"aaxis\":{\"endlinecolor\":\"#2a3f5f\",\"gridcolor\":\"white\",\"linecolor\":\"white\",\"minorgridcolor\":\"white\",\"startlinecolor\":\"#2a3f5f\"},\"baxis\":{\"endlinecolor\":\"#2a3f5f\",\"gridcolor\":\"white\",\"linecolor\":\"white\",\"minorgridcolor\":\"white\",\"startlinecolor\":\"#2a3f5f\"},\"type\":\"carpet\"}],\"table\":[{\"cells\":{\"fill\":{\"color\":\"#EBF0F8\"},\"line\":{\"color\":\"white\"}},\"header\":{\"fill\":{\"color\":\"#C8D4E3\"},\"line\":{\"color\":\"white\"}},\"type\":\"table\"}],\"barpolar\":[{\"marker\":{\"line\":{\"color\":\"#E5ECF6\",\"width\":0.5},\"pattern\":{\"fillmode\":\"overlay\",\"size\":10,\"solidity\":0.2}},\"type\":\"barpolar\"}],\"pie\":[{\"automargin\":true,\"type\":\"pie\"}]},\"layout\":{\"autotypenumbers\":\"strict\",\"colorway\":[\"#636efa\",\"#EF553B\",\"#00cc96\",\"#ab63fa\",\"#FFA15A\",\"#19d3f3\",\"#FF6692\",\"#B6E880\",\"#FF97FF\",\"#FECB52\"],\"font\":{\"color\":\"#2a3f5f\"},\"hovermode\":\"closest\",\"hoverlabel\":{\"align\":\"left\"},\"paper_bgcolor\":\"white\",\"plot_bgcolor\":\"#E5ECF6\",\"polar\":{\"bgcolor\":\"#E5ECF6\",\"angularaxis\":{\"gridcolor\":\"white\",\"linecolor\":\"white\",\"ticks\":\"\"},\"radialaxis\":{\"gridcolor\":\"white\",\"linecolor\":\"white\",\"ticks\":\"\"}},\"ternary\":{\"bgcolor\":\"#E5ECF6\",\"aaxis\":{\"gridcolor\":\"white\",\"linecolor\":\"white\",\"ticks\":\"\"},\"baxis\":{\"gridcolor\":\"white\",\"linecolor\":\"white\",\"ticks\":\"\"},\"caxis\":{\"gridcolor\":\"white\",\"linecolor\":\"white\",\"ticks\":\"\"}},\"coloraxis\":{\"colorbar\":{\"outlinewidth\":0,\"ticks\":\"\"}},\"colorscale\":{\"sequential\":[[0.0,\"#0d0887\"],[0.1111111111111111,\"#46039f\"],[0.2222222222222222,\"#7201a8\"],[0.3333333333333333,\"#9c179e\"],[0.4444444444444444,\"#bd3786\"],[0.5555555555555556,\"#d8576b\"],[0.6666666666666666,\"#ed7953\"],[0.7777777777777778,\"#fb9f3a\"],[0.8888888888888888,\"#fdca26\"],[1.0,\"#f0f921\"]],\"sequentialminus\":[[0.0,\"#0d0887\"],[0.1111111111111111,\"#46039f\"],[0.2222222222222222,\"#7201a8\"],[0.3333333333333333,\"#9c179e\"],[0.4444444444444444,\"#bd3786\"],[0.5555555555555556,\"#d8576b\"],[0.6666666666666666,\"#ed7953\"],[0.7777777777777778,\"#fb9f3a\"],[0.8888888888888888,\"#fdca26\"],[1.0,\"#f0f921\"]],\"diverging\":[[0,\"#8e0152\"],[0.1,\"#c51b7d\"],[0.2,\"#de77ae\"],[0.3,\"#f1b6da\"],[0.4,\"#fde0ef\"],[0.5,\"#f7f7f7\"],[0.6,\"#e6f5d0\"],[0.7,\"#b8e186\"],[0.8,\"#7fbc41\"],[0.9,\"#4d9221\"],[1,\"#276419\"]]},\"xaxis\":{\"gridcolor\":\"white\",\"linecolor\":\"white\",\"ticks\":\"\",\"title\":{\"standoff\":15},\"zerolinecolor\":\"white\",\"automargin\":true,\"zerolinewidth\":2},\"yaxis\":{\"gridcolor\":\"white\",\"linecolor\":\"white\",\"ticks\":\"\",\"title\":{\"standoff\":15},\"zerolinecolor\":\"white\",\"automargin\":true,\"zerolinewidth\":2},\"scene\":{\"xaxis\":{\"backgroundcolor\":\"#E5ECF6\",\"gridcolor\":\"white\",\"linecolor\":\"white\",\"showbackground\":true,\"ticks\":\"\",\"zerolinecolor\":\"white\",\"gridwidth\":2},\"yaxis\":{\"backgroundcolor\":\"#E5ECF6\",\"gridcolor\":\"white\",\"linecolor\":\"white\",\"showbackground\":true,\"ticks\":\"\",\"zerolinecolor\":\"white\",\"gridwidth\":2},\"zaxis\":{\"backgroundcolor\":\"#E5ECF6\",\"gridcolor\":\"white\",\"linecolor\":\"white\",\"showbackground\":true,\"ticks\":\"\",\"zerolinecolor\":\"white\",\"gridwidth\":2}},\"shapedefaults\":{\"line\":{\"color\":\"#2a3f5f\"}},\"annotationdefaults\":{\"arrowcolor\":\"#2a3f5f\",\"arrowhead\":0,\"arrowwidth\":1},\"geo\":{\"bgcolor\":\"white\",\"landcolor\":\"#E5ECF6\",\"subunitcolor\":\"white\",\"showland\":true,\"showlakes\":true,\"lakecolor\":\"white\"},\"title\":{\"x\":0.05},\"mapbox\":{\"style\":\"light\"}}},\"xaxis\":{\"anchor\":\"y\",\"domain\":[0.0,1.0],\"title\":{\"text\":\"Cluster\"}},\"yaxis\":{\"anchor\":\"x\",\"domain\":[0.0,1.0],\"title\":{\"text\":\"Number of Pokemon\"}},\"legend\":{\"tracegroupgap\":0},\"margin\":{\"t\":60},\"barmode\":\"relative\",\"title\":{\"text\":\"Number of Pokemon in Each Cluster\"},\"bargap\":0.2},                        {\"responsive\": true}                    ).then(function(){\n",
       "                            \n",
       "var gd = document.getElementById('f988d920-9d79-482f-a211-7385b246c5a5');\n",
       "var x = new MutationObserver(function (mutations, observer) {{\n",
       "        var display = window.getComputedStyle(gd).display;\n",
       "        if (!display || display === 'none') {{\n",
       "            console.log([gd, 'removed!']);\n",
       "            Plotly.purge(gd);\n",
       "            observer.disconnect();\n",
       "        }}\n",
       "}});\n",
       "\n",
       "// Listen for the removal of the full notebook cells\n",
       "var notebookContainer = gd.closest('#notebook-container');\n",
       "if (notebookContainer) {{\n",
       "    x.observe(notebookContainer, {childList: true});\n",
       "}}\n",
       "\n",
       "// Listen for the clearing of the current output cell\n",
       "var outputEl = gd.closest('.output');\n",
       "if (outputEl) {{\n",
       "    x.observe(outputEl, {childList: true});\n",
       "}}\n",
       "\n",
       "                        })                };                });            </script>        </div>"
      ]
     },
     "metadata": {},
     "output_type": "display_data"
    }
   ],
   "source": [
    "#let's do a cluster analysis on each pokemon\n",
    "\n",
    "kmeans = KMeans(\n",
    "    init=\"random\",\n",
    "    n_clusters=5,\n",
    "    n_init=10,\n",
    "    max_iter=300,\n",
    "    random_state=42\n",
    ")\n",
    "kmeans.fit(df1[type_effectiveness_cols])\n",
    "\n",
    "# attach predicted labels to our dataset\n",
    "df1[\"clusters\"] = kmeans.labels_\n",
    "\n",
    "#histogram of clusters\n",
    "fig = px.histogram(df1, x=\"clusters\")\n",
    "fig.update_layout(\n",
    "    title_text='Number of Pokemon in Each Cluster', # title of plot\n",
    "    xaxis_title_text='Cluster', # xaxis label\n",
    "    yaxis_title_text='Number of Pokemon', # yaxis label\n",
    "    bargap=0.2, # gap between bars of adjacent location coordinates\n",
    ")\n",
    "fig.show()"
   ]
  },
  {
   "cell_type": "markdown",
   "id": "04a9725c",
   "metadata": {},
   "source": [
    "이제 각 포켓몬을 클러스터에 할당했으니 각 클러스터의 약점과 강점을 찾아보겠습니다."
   ]
  },
  {
   "cell_type": "code",
   "execution_count": 440,
   "id": "d32ae6db",
   "metadata": {},
   "outputs": [],
   "source": [
    "grid = []\n",
    "for j in type_effectiveness_cols:\n",
    "    typ = []\n",
    "    for i in range(0,5):\n",
    "        typ.append(df1[df1[\"clusters\"] == i][j].mean())\n",
    "    grid.append(typ)"
   ]
  },
  {
   "cell_type": "code",
   "execution_count": 441,
   "id": "cfe53fc8",
   "metadata": {
    "scrolled": true
   },
   "outputs": [
    {
     "data": {
      "text/html": [
       "<div>\n",
       "<style scoped>\n",
       "    .dataframe tbody tr th:only-of-type {\n",
       "        vertical-align: middle;\n",
       "    }\n",
       "\n",
       "    .dataframe tbody tr th {\n",
       "        vertical-align: top;\n",
       "    }\n",
       "\n",
       "    .dataframe thead th {\n",
       "        text-align: right;\n",
       "    }\n",
       "</style>\n",
       "<table border=\"1\" class=\"dataframe\">\n",
       "  <thead>\n",
       "    <tr style=\"text-align: right;\">\n",
       "      <th></th>\n",
       "      <th>상성_벌레</th>\n",
       "      <th>상성_악</th>\n",
       "      <th>상성_드래곤</th>\n",
       "      <th>상성_전기</th>\n",
       "      <th>상성_페어리</th>\n",
       "      <th>상성_격투</th>\n",
       "      <th>상성_불</th>\n",
       "      <th>상성_비행</th>\n",
       "      <th>상성_고스트</th>\n",
       "      <th>상성_풀</th>\n",
       "      <th>상성_땅</th>\n",
       "      <th>상성_얼음</th>\n",
       "      <th>상성_노멀</th>\n",
       "      <th>상성_독</th>\n",
       "      <th>상성_에스퍼</th>\n",
       "      <th>상성_바위</th>\n",
       "      <th>상성_강철</th>\n",
       "      <th>상성_물</th>\n",
       "    </tr>\n",
       "  </thead>\n",
       "  <tbody>\n",
       "    <tr>\n",
       "      <th>0</th>\n",
       "      <td>1.036260</td>\n",
       "      <td>0.884542</td>\n",
       "      <td>1.083969</td>\n",
       "      <td>1.214695</td>\n",
       "      <td>1.374046</td>\n",
       "      <td>1.534351</td>\n",
       "      <td>0.814885</td>\n",
       "      <td>1.087786</td>\n",
       "      <td>0.652672</td>\n",
       "      <td>1.498092</td>\n",
       "      <td>1.068702</td>\n",
       "      <td>0.965649</td>\n",
       "      <td>0.967557</td>\n",
       "      <td>0.961832</td>\n",
       "      <td>0.998092</td>\n",
       "      <td>0.980916</td>\n",
       "      <td>0.933206</td>\n",
       "      <td>0.820611</td>\n",
       "    </tr>\n",
       "    <tr>\n",
       "      <th>1</th>\n",
       "      <td>1.507812</td>\n",
       "      <td>1.007812</td>\n",
       "      <td>0.914062</td>\n",
       "      <td>0.636719</td>\n",
       "      <td>0.984375</td>\n",
       "      <td>0.785156</td>\n",
       "      <td>2.226562</td>\n",
       "      <td>2.093750</td>\n",
       "      <td>1.042969</td>\n",
       "      <td>0.453125</td>\n",
       "      <td>0.566406</td>\n",
       "      <td>1.777344</td>\n",
       "      <td>0.921875</td>\n",
       "      <td>1.582031</td>\n",
       "      <td>1.089844</td>\n",
       "      <td>1.269531</td>\n",
       "      <td>1.011719</td>\n",
       "      <td>0.634766</td>\n",
       "    </tr>\n",
       "    <tr>\n",
       "      <th>2</th>\n",
       "      <td>0.536036</td>\n",
       "      <td>1.036036</td>\n",
       "      <td>1.027027</td>\n",
       "      <td>1.864865</td>\n",
       "      <td>0.995495</td>\n",
       "      <td>0.585586</td>\n",
       "      <td>1.157658</td>\n",
       "      <td>1.256757</td>\n",
       "      <td>0.815315</td>\n",
       "      <td>0.486486</td>\n",
       "      <td>0.148649</td>\n",
       "      <td>1.806306</td>\n",
       "      <td>0.954955</td>\n",
       "      <td>0.891892</td>\n",
       "      <td>1.063063</td>\n",
       "      <td>2.360360</td>\n",
       "      <td>0.959459</td>\n",
       "      <td>1.054054</td>\n",
       "    </tr>\n",
       "    <tr>\n",
       "      <th>3</th>\n",
       "      <td>1.366337</td>\n",
       "      <td>1.900990</td>\n",
       "      <td>0.910891</td>\n",
       "      <td>0.990099</td>\n",
       "      <td>1.009901</td>\n",
       "      <td>0.386139</td>\n",
       "      <td>1.054455</td>\n",
       "      <td>0.975248</td>\n",
       "      <td>2.000000</td>\n",
       "      <td>1.039604</td>\n",
       "      <td>1.202970</td>\n",
       "      <td>0.965347</td>\n",
       "      <td>0.628713</td>\n",
       "      <td>0.779703</td>\n",
       "      <td>0.636139</td>\n",
       "      <td>0.995050</td>\n",
       "      <td>1.004950</td>\n",
       "      <td>1.079208</td>\n",
       "    </tr>\n",
       "    <tr>\n",
       "      <th>4</th>\n",
       "      <td>0.683417</td>\n",
       "      <td>0.899497</td>\n",
       "      <td>0.849246</td>\n",
       "      <td>0.771357</td>\n",
       "      <td>0.792714</td>\n",
       "      <td>1.241206</td>\n",
       "      <td>0.884422</td>\n",
       "      <td>0.826633</td>\n",
       "      <td>0.964824</td>\n",
       "      <td>1.099246</td>\n",
       "      <td>1.954774</td>\n",
       "      <td>0.951005</td>\n",
       "      <td>0.851759</td>\n",
       "      <td>0.748744</td>\n",
       "      <td>1.115578</td>\n",
       "      <td>1.103015</td>\n",
       "      <td>1.033920</td>\n",
       "      <td>1.635678</td>\n",
       "    </tr>\n",
       "  </tbody>\n",
       "</table>\n",
       "</div>"
      ],
      "text/plain": [
       "      상성_벌레      상성_악    상성_드래곤     상성_전기    상성_페어리     상성_격투      상성_불  \\\n",
       "0  1.036260  0.884542  1.083969  1.214695  1.374046  1.534351  0.814885   \n",
       "1  1.507812  1.007812  0.914062  0.636719  0.984375  0.785156  2.226562   \n",
       "2  0.536036  1.036036  1.027027  1.864865  0.995495  0.585586  1.157658   \n",
       "3  1.366337  1.900990  0.910891  0.990099  1.009901  0.386139  1.054455   \n",
       "4  0.683417  0.899497  0.849246  0.771357  0.792714  1.241206  0.884422   \n",
       "\n",
       "      상성_비행    상성_고스트      상성_풀      상성_땅     상성_얼음     상성_노멀      상성_독  \\\n",
       "0  1.087786  0.652672  1.498092  1.068702  0.965649  0.967557  0.961832   \n",
       "1  2.093750  1.042969  0.453125  0.566406  1.777344  0.921875  1.582031   \n",
       "2  1.256757  0.815315  0.486486  0.148649  1.806306  0.954955  0.891892   \n",
       "3  0.975248  2.000000  1.039604  1.202970  0.965347  0.628713  0.779703   \n",
       "4  0.826633  0.964824  1.099246  1.954774  0.951005  0.851759  0.748744   \n",
       "\n",
       "     상성_에스퍼     상성_바위     상성_강철      상성_물  \n",
       "0  0.998092  0.980916  0.933206  0.820611  \n",
       "1  1.089844  1.269531  1.011719  0.634766  \n",
       "2  1.063063  2.360360  0.959459  1.054054  \n",
       "3  0.636139  0.995050  1.004950  1.079208  \n",
       "4  1.115578  1.103015  1.033920  1.635678  "
      ]
     },
     "execution_count": 441,
     "metadata": {},
     "output_type": "execute_result"
    }
   ],
   "source": [
    "grid1 = pd.DataFrame(grid)\n",
    "grid2 = grid1.transpose()\n",
    "grid2.columns = type_effectiveness_cols\n",
    "# grid2[\"clusters\"] = [1,2,3,4,5,6,7,8]\n",
    "grid2"
   ]
  },
  {
   "cell_type": "code",
   "execution_count": 442,
   "id": "cc5067b3",
   "metadata": {},
   "outputs": [],
   "source": [
    "pts = []\n",
    "for i in range(0,5):\n",
    "    df = pd.DataFrame(grid2)\n",
    "    pts.append(df.iloc[i, :])"
   ]
  },
  {
   "cell_type": "code",
   "execution_count": 443,
   "id": "e8664534",
   "metadata": {},
   "outputs": [],
   "source": [
    "#CLUSTER1 "
   ]
  },
  {
   "cell_type": "code",
   "execution_count": 444,
   "id": "dbcfa09a",
   "metadata": {},
   "outputs": [
    {
     "data": {
      "application/vnd.plotly.v1+json": {
       "config": {
        "plotlyServerURL": "https://plot.ly"
       },
       "data": [
        {
         "marker": {
          "color": [
           0,
           1,
           2,
           3,
           4,
           5,
           6,
           7,
           8,
           9,
           10,
           11,
           12,
           13,
           14,
           15,
           16,
           17,
           18,
           19
          ],
          "colorscale": [
           [
            0,
            "rgb(252, 222, 156)"
           ],
           [
            0.16666666666666666,
            "rgb(250, 164, 118)"
           ],
           [
            0.3333333333333333,
            "rgb(240, 116, 110)"
           ],
           [
            0.5,
            "rgb(227, 79, 111)"
           ],
           [
            0.6666666666666666,
            "rgb(220, 57, 119)"
           ],
           [
            0.8333333333333334,
            "rgb(185, 37, 122)"
           ],
           [
            1,
            "rgb(124, 29, 111)"
           ]
          ]
         },
         "type": "bar",
         "x": [
          "상성_벌레",
          "상성_악",
          "상성_드래곤",
          "상성_전기",
          "상성_페어리",
          "상성_격투",
          "상성_불",
          "상성_비행",
          "상성_고스트",
          "상성_풀",
          "상성_땅",
          "상성_얼음",
          "상성_노멀",
          "상성_독",
          "상성_에스퍼",
          "상성_바위",
          "상성_강철",
          "상성_물"
         ],
         "y": [
          1.036259541984733,
          0.8845419847328244,
          1.083969465648855,
          1.2146946564885497,
          1.3740458015267176,
          1.534351145038168,
          0.8148854961832062,
          1.0877862595419847,
          0.6526717557251909,
          1.498091603053435,
          1.0687022900763359,
          0.9656488549618321,
          0.9675572519083969,
          0.9618320610687023,
          0.9980916030534351,
          0.9809160305343512,
          0.933206106870229,
          0.8206106870229007
         ]
        }
       ],
       "layout": {
        "paper_bgcolor": "mintcream",
        "template": {
         "data": {
          "bar": [
           {
            "error_x": {
             "color": "#2a3f5f"
            },
            "error_y": {
             "color": "#2a3f5f"
            },
            "marker": {
             "line": {
              "color": "#E5ECF6",
              "width": 0.5
             },
             "pattern": {
              "fillmode": "overlay",
              "size": 10,
              "solidity": 0.2
             }
            },
            "type": "bar"
           }
          ],
          "barpolar": [
           {
            "marker": {
             "line": {
              "color": "#E5ECF6",
              "width": 0.5
             },
             "pattern": {
              "fillmode": "overlay",
              "size": 10,
              "solidity": 0.2
             }
            },
            "type": "barpolar"
           }
          ],
          "carpet": [
           {
            "aaxis": {
             "endlinecolor": "#2a3f5f",
             "gridcolor": "white",
             "linecolor": "white",
             "minorgridcolor": "white",
             "startlinecolor": "#2a3f5f"
            },
            "baxis": {
             "endlinecolor": "#2a3f5f",
             "gridcolor": "white",
             "linecolor": "white",
             "minorgridcolor": "white",
             "startlinecolor": "#2a3f5f"
            },
            "type": "carpet"
           }
          ],
          "choropleth": [
           {
            "colorbar": {
             "outlinewidth": 0,
             "ticks": ""
            },
            "type": "choropleth"
           }
          ],
          "contour": [
           {
            "colorbar": {
             "outlinewidth": 0,
             "ticks": ""
            },
            "colorscale": [
             [
              0,
              "#0d0887"
             ],
             [
              0.1111111111111111,
              "#46039f"
             ],
             [
              0.2222222222222222,
              "#7201a8"
             ],
             [
              0.3333333333333333,
              "#9c179e"
             ],
             [
              0.4444444444444444,
              "#bd3786"
             ],
             [
              0.5555555555555556,
              "#d8576b"
             ],
             [
              0.6666666666666666,
              "#ed7953"
             ],
             [
              0.7777777777777778,
              "#fb9f3a"
             ],
             [
              0.8888888888888888,
              "#fdca26"
             ],
             [
              1,
              "#f0f921"
             ]
            ],
            "type": "contour"
           }
          ],
          "contourcarpet": [
           {
            "colorbar": {
             "outlinewidth": 0,
             "ticks": ""
            },
            "type": "contourcarpet"
           }
          ],
          "heatmap": [
           {
            "colorbar": {
             "outlinewidth": 0,
             "ticks": ""
            },
            "colorscale": [
             [
              0,
              "#0d0887"
             ],
             [
              0.1111111111111111,
              "#46039f"
             ],
             [
              0.2222222222222222,
              "#7201a8"
             ],
             [
              0.3333333333333333,
              "#9c179e"
             ],
             [
              0.4444444444444444,
              "#bd3786"
             ],
             [
              0.5555555555555556,
              "#d8576b"
             ],
             [
              0.6666666666666666,
              "#ed7953"
             ],
             [
              0.7777777777777778,
              "#fb9f3a"
             ],
             [
              0.8888888888888888,
              "#fdca26"
             ],
             [
              1,
              "#f0f921"
             ]
            ],
            "type": "heatmap"
           }
          ],
          "heatmapgl": [
           {
            "colorbar": {
             "outlinewidth": 0,
             "ticks": ""
            },
            "colorscale": [
             [
              0,
              "#0d0887"
             ],
             [
              0.1111111111111111,
              "#46039f"
             ],
             [
              0.2222222222222222,
              "#7201a8"
             ],
             [
              0.3333333333333333,
              "#9c179e"
             ],
             [
              0.4444444444444444,
              "#bd3786"
             ],
             [
              0.5555555555555556,
              "#d8576b"
             ],
             [
              0.6666666666666666,
              "#ed7953"
             ],
             [
              0.7777777777777778,
              "#fb9f3a"
             ],
             [
              0.8888888888888888,
              "#fdca26"
             ],
             [
              1,
              "#f0f921"
             ]
            ],
            "type": "heatmapgl"
           }
          ],
          "histogram": [
           {
            "marker": {
             "pattern": {
              "fillmode": "overlay",
              "size": 10,
              "solidity": 0.2
             }
            },
            "type": "histogram"
           }
          ],
          "histogram2d": [
           {
            "colorbar": {
             "outlinewidth": 0,
             "ticks": ""
            },
            "colorscale": [
             [
              0,
              "#0d0887"
             ],
             [
              0.1111111111111111,
              "#46039f"
             ],
             [
              0.2222222222222222,
              "#7201a8"
             ],
             [
              0.3333333333333333,
              "#9c179e"
             ],
             [
              0.4444444444444444,
              "#bd3786"
             ],
             [
              0.5555555555555556,
              "#d8576b"
             ],
             [
              0.6666666666666666,
              "#ed7953"
             ],
             [
              0.7777777777777778,
              "#fb9f3a"
             ],
             [
              0.8888888888888888,
              "#fdca26"
             ],
             [
              1,
              "#f0f921"
             ]
            ],
            "type": "histogram2d"
           }
          ],
          "histogram2dcontour": [
           {
            "colorbar": {
             "outlinewidth": 0,
             "ticks": ""
            },
            "colorscale": [
             [
              0,
              "#0d0887"
             ],
             [
              0.1111111111111111,
              "#46039f"
             ],
             [
              0.2222222222222222,
              "#7201a8"
             ],
             [
              0.3333333333333333,
              "#9c179e"
             ],
             [
              0.4444444444444444,
              "#bd3786"
             ],
             [
              0.5555555555555556,
              "#d8576b"
             ],
             [
              0.6666666666666666,
              "#ed7953"
             ],
             [
              0.7777777777777778,
              "#fb9f3a"
             ],
             [
              0.8888888888888888,
              "#fdca26"
             ],
             [
              1,
              "#f0f921"
             ]
            ],
            "type": "histogram2dcontour"
           }
          ],
          "mesh3d": [
           {
            "colorbar": {
             "outlinewidth": 0,
             "ticks": ""
            },
            "type": "mesh3d"
           }
          ],
          "parcoords": [
           {
            "line": {
             "colorbar": {
              "outlinewidth": 0,
              "ticks": ""
             }
            },
            "type": "parcoords"
           }
          ],
          "pie": [
           {
            "automargin": true,
            "type": "pie"
           }
          ],
          "scatter": [
           {
            "fillpattern": {
             "fillmode": "overlay",
             "size": 10,
             "solidity": 0.2
            },
            "type": "scatter"
           }
          ],
          "scatter3d": [
           {
            "line": {
             "colorbar": {
              "outlinewidth": 0,
              "ticks": ""
             }
            },
            "marker": {
             "colorbar": {
              "outlinewidth": 0,
              "ticks": ""
             }
            },
            "type": "scatter3d"
           }
          ],
          "scattercarpet": [
           {
            "marker": {
             "colorbar": {
              "outlinewidth": 0,
              "ticks": ""
             }
            },
            "type": "scattercarpet"
           }
          ],
          "scattergeo": [
           {
            "marker": {
             "colorbar": {
              "outlinewidth": 0,
              "ticks": ""
             }
            },
            "type": "scattergeo"
           }
          ],
          "scattergl": [
           {
            "marker": {
             "colorbar": {
              "outlinewidth": 0,
              "ticks": ""
             }
            },
            "type": "scattergl"
           }
          ],
          "scattermapbox": [
           {
            "marker": {
             "colorbar": {
              "outlinewidth": 0,
              "ticks": ""
             }
            },
            "type": "scattermapbox"
           }
          ],
          "scatterpolar": [
           {
            "marker": {
             "colorbar": {
              "outlinewidth": 0,
              "ticks": ""
             }
            },
            "type": "scatterpolar"
           }
          ],
          "scatterpolargl": [
           {
            "marker": {
             "colorbar": {
              "outlinewidth": 0,
              "ticks": ""
             }
            },
            "type": "scatterpolargl"
           }
          ],
          "scatterternary": [
           {
            "marker": {
             "colorbar": {
              "outlinewidth": 0,
              "ticks": ""
             }
            },
            "type": "scatterternary"
           }
          ],
          "surface": [
           {
            "colorbar": {
             "outlinewidth": 0,
             "ticks": ""
            },
            "colorscale": [
             [
              0,
              "#0d0887"
             ],
             [
              0.1111111111111111,
              "#46039f"
             ],
             [
              0.2222222222222222,
              "#7201a8"
             ],
             [
              0.3333333333333333,
              "#9c179e"
             ],
             [
              0.4444444444444444,
              "#bd3786"
             ],
             [
              0.5555555555555556,
              "#d8576b"
             ],
             [
              0.6666666666666666,
              "#ed7953"
             ],
             [
              0.7777777777777778,
              "#fb9f3a"
             ],
             [
              0.8888888888888888,
              "#fdca26"
             ],
             [
              1,
              "#f0f921"
             ]
            ],
            "type": "surface"
           }
          ],
          "table": [
           {
            "cells": {
             "fill": {
              "color": "#EBF0F8"
             },
             "line": {
              "color": "white"
             }
            },
            "header": {
             "fill": {
              "color": "#C8D4E3"
             },
             "line": {
              "color": "white"
             }
            },
            "type": "table"
           }
          ]
         },
         "layout": {
          "annotationdefaults": {
           "arrowcolor": "#2a3f5f",
           "arrowhead": 0,
           "arrowwidth": 1
          },
          "autotypenumbers": "strict",
          "coloraxis": {
           "colorbar": {
            "outlinewidth": 0,
            "ticks": ""
           }
          },
          "colorscale": {
           "diverging": [
            [
             0,
             "#8e0152"
            ],
            [
             0.1,
             "#c51b7d"
            ],
            [
             0.2,
             "#de77ae"
            ],
            [
             0.3,
             "#f1b6da"
            ],
            [
             0.4,
             "#fde0ef"
            ],
            [
             0.5,
             "#f7f7f7"
            ],
            [
             0.6,
             "#e6f5d0"
            ],
            [
             0.7,
             "#b8e186"
            ],
            [
             0.8,
             "#7fbc41"
            ],
            [
             0.9,
             "#4d9221"
            ],
            [
             1,
             "#276419"
            ]
           ],
           "sequential": [
            [
             0,
             "#0d0887"
            ],
            [
             0.1111111111111111,
             "#46039f"
            ],
            [
             0.2222222222222222,
             "#7201a8"
            ],
            [
             0.3333333333333333,
             "#9c179e"
            ],
            [
             0.4444444444444444,
             "#bd3786"
            ],
            [
             0.5555555555555556,
             "#d8576b"
            ],
            [
             0.6666666666666666,
             "#ed7953"
            ],
            [
             0.7777777777777778,
             "#fb9f3a"
            ],
            [
             0.8888888888888888,
             "#fdca26"
            ],
            [
             1,
             "#f0f921"
            ]
           ],
           "sequentialminus": [
            [
             0,
             "#0d0887"
            ],
            [
             0.1111111111111111,
             "#46039f"
            ],
            [
             0.2222222222222222,
             "#7201a8"
            ],
            [
             0.3333333333333333,
             "#9c179e"
            ],
            [
             0.4444444444444444,
             "#bd3786"
            ],
            [
             0.5555555555555556,
             "#d8576b"
            ],
            [
             0.6666666666666666,
             "#ed7953"
            ],
            [
             0.7777777777777778,
             "#fb9f3a"
            ],
            [
             0.8888888888888888,
             "#fdca26"
            ],
            [
             1,
             "#f0f921"
            ]
           ]
          },
          "colorway": [
           "#636efa",
           "#EF553B",
           "#00cc96",
           "#ab63fa",
           "#FFA15A",
           "#19d3f3",
           "#FF6692",
           "#B6E880",
           "#FF97FF",
           "#FECB52"
          ],
          "font": {
           "color": "#2a3f5f"
          },
          "geo": {
           "bgcolor": "white",
           "lakecolor": "white",
           "landcolor": "#E5ECF6",
           "showlakes": true,
           "showland": true,
           "subunitcolor": "white"
          },
          "hoverlabel": {
           "align": "left"
          },
          "hovermode": "closest",
          "mapbox": {
           "style": "light"
          },
          "paper_bgcolor": "white",
          "plot_bgcolor": "#E5ECF6",
          "polar": {
           "angularaxis": {
            "gridcolor": "white",
            "linecolor": "white",
            "ticks": ""
           },
           "bgcolor": "#E5ECF6",
           "radialaxis": {
            "gridcolor": "white",
            "linecolor": "white",
            "ticks": ""
           }
          },
          "scene": {
           "xaxis": {
            "backgroundcolor": "#E5ECF6",
            "gridcolor": "white",
            "gridwidth": 2,
            "linecolor": "white",
            "showbackground": true,
            "ticks": "",
            "zerolinecolor": "white"
           },
           "yaxis": {
            "backgroundcolor": "#E5ECF6",
            "gridcolor": "white",
            "gridwidth": 2,
            "linecolor": "white",
            "showbackground": true,
            "ticks": "",
            "zerolinecolor": "white"
           },
           "zaxis": {
            "backgroundcolor": "#E5ECF6",
            "gridcolor": "white",
            "gridwidth": 2,
            "linecolor": "white",
            "showbackground": true,
            "ticks": "",
            "zerolinecolor": "white"
           }
          },
          "shapedefaults": {
           "line": {
            "color": "#2a3f5f"
           }
          },
          "ternary": {
           "aaxis": {
            "gridcolor": "white",
            "linecolor": "white",
            "ticks": ""
           },
           "baxis": {
            "gridcolor": "white",
            "linecolor": "white",
            "ticks": ""
           },
           "bgcolor": "#E5ECF6",
           "caxis": {
            "gridcolor": "white",
            "linecolor": "white",
            "ticks": ""
           }
          },
          "title": {
           "x": 0.05
          },
          "xaxis": {
           "automargin": true,
           "gridcolor": "white",
           "linecolor": "white",
           "ticks": "",
           "title": {
            "standoff": 15
           },
           "zerolinecolor": "white",
           "zerolinewidth": 2
          },
          "yaxis": {
           "automargin": true,
           "gridcolor": "white",
           "linecolor": "white",
           "ticks": "",
           "title": {
            "standoff": 15
           },
           "zerolinecolor": "white",
           "zerolinewidth": 2
          }
         }
        },
        "title": {
         "font": {
          "size": 20
         },
         "text": "Cluster 1 Weakness Chart",
         "x": 0.5
        },
        "xaxis": {
         "title": {
          "text": "Poke Type"
         }
        },
        "yaxis": {
         "title": {
          "text": "Damage Multiplyer"
         }
        }
       }
      },
      "text/html": [
       "<div>                            <div id=\"0a0c4689-f044-457a-a0d2-b1f6d918f27b\" class=\"plotly-graph-div\" style=\"height:525px; width:100%;\"></div>            <script type=\"text/javascript\">                require([\"plotly\"], function(Plotly) {                    window.PLOTLYENV=window.PLOTLYENV || {};                                    if (document.getElementById(\"0a0c4689-f044-457a-a0d2-b1f6d918f27b\")) {                    Plotly.newPlot(                        \"0a0c4689-f044-457a-a0d2-b1f6d918f27b\",                        [{\"marker\":{\"color\":[0,1,2,3,4,5,6,7,8,9,10,11,12,13,14,15,16,17,18,19],\"colorscale\":[[0.0,\"rgb(252, 222, 156)\"],[0.16666666666666666,\"rgb(250, 164, 118)\"],[0.3333333333333333,\"rgb(240, 116, 110)\"],[0.5,\"rgb(227, 79, 111)\"],[0.6666666666666666,\"rgb(220, 57, 119)\"],[0.8333333333333334,\"rgb(185, 37, 122)\"],[1.0,\"rgb(124, 29, 111)\"]]},\"x\":[\"\\uc0c1\\uc131_\\ubc8c\\ub808\",\"\\uc0c1\\uc131_\\uc545\",\"\\uc0c1\\uc131_\\ub4dc\\ub798\\uace4\",\"\\uc0c1\\uc131_\\uc804\\uae30\",\"\\uc0c1\\uc131_\\ud398\\uc5b4\\ub9ac\",\"\\uc0c1\\uc131_\\uaca9\\ud22c\",\"\\uc0c1\\uc131_\\ubd88\",\"\\uc0c1\\uc131_\\ube44\\ud589\",\"\\uc0c1\\uc131_\\uace0\\uc2a4\\ud2b8\",\"\\uc0c1\\uc131_\\ud480\",\"\\uc0c1\\uc131_\\ub545\",\"\\uc0c1\\uc131_\\uc5bc\\uc74c\",\"\\uc0c1\\uc131_\\ub178\\uba40\",\"\\uc0c1\\uc131_\\ub3c5\",\"\\uc0c1\\uc131_\\uc5d0\\uc2a4\\ud37c\",\"\\uc0c1\\uc131_\\ubc14\\uc704\",\"\\uc0c1\\uc131_\\uac15\\ucca0\",\"\\uc0c1\\uc131_\\ubb3c\"],\"y\":[1.036259541984733,0.8845419847328244,1.083969465648855,1.2146946564885497,1.3740458015267176,1.534351145038168,0.8148854961832062,1.0877862595419847,0.6526717557251909,1.498091603053435,1.0687022900763359,0.9656488549618321,0.9675572519083969,0.9618320610687023,0.9980916030534351,0.9809160305343512,0.933206106870229,0.8206106870229007],\"type\":\"bar\"}],                        {\"template\":{\"data\":{\"histogram2dcontour\":[{\"type\":\"histogram2dcontour\",\"colorbar\":{\"outlinewidth\":0,\"ticks\":\"\"},\"colorscale\":[[0.0,\"#0d0887\"],[0.1111111111111111,\"#46039f\"],[0.2222222222222222,\"#7201a8\"],[0.3333333333333333,\"#9c179e\"],[0.4444444444444444,\"#bd3786\"],[0.5555555555555556,\"#d8576b\"],[0.6666666666666666,\"#ed7953\"],[0.7777777777777778,\"#fb9f3a\"],[0.8888888888888888,\"#fdca26\"],[1.0,\"#f0f921\"]]}],\"choropleth\":[{\"type\":\"choropleth\",\"colorbar\":{\"outlinewidth\":0,\"ticks\":\"\"}}],\"histogram2d\":[{\"type\":\"histogram2d\",\"colorbar\":{\"outlinewidth\":0,\"ticks\":\"\"},\"colorscale\":[[0.0,\"#0d0887\"],[0.1111111111111111,\"#46039f\"],[0.2222222222222222,\"#7201a8\"],[0.3333333333333333,\"#9c179e\"],[0.4444444444444444,\"#bd3786\"],[0.5555555555555556,\"#d8576b\"],[0.6666666666666666,\"#ed7953\"],[0.7777777777777778,\"#fb9f3a\"],[0.8888888888888888,\"#fdca26\"],[1.0,\"#f0f921\"]]}],\"heatmap\":[{\"type\":\"heatmap\",\"colorbar\":{\"outlinewidth\":0,\"ticks\":\"\"},\"colorscale\":[[0.0,\"#0d0887\"],[0.1111111111111111,\"#46039f\"],[0.2222222222222222,\"#7201a8\"],[0.3333333333333333,\"#9c179e\"],[0.4444444444444444,\"#bd3786\"],[0.5555555555555556,\"#d8576b\"],[0.6666666666666666,\"#ed7953\"],[0.7777777777777778,\"#fb9f3a\"],[0.8888888888888888,\"#fdca26\"],[1.0,\"#f0f921\"]]}],\"heatmapgl\":[{\"type\":\"heatmapgl\",\"colorbar\":{\"outlinewidth\":0,\"ticks\":\"\"},\"colorscale\":[[0.0,\"#0d0887\"],[0.1111111111111111,\"#46039f\"],[0.2222222222222222,\"#7201a8\"],[0.3333333333333333,\"#9c179e\"],[0.4444444444444444,\"#bd3786\"],[0.5555555555555556,\"#d8576b\"],[0.6666666666666666,\"#ed7953\"],[0.7777777777777778,\"#fb9f3a\"],[0.8888888888888888,\"#fdca26\"],[1.0,\"#f0f921\"]]}],\"contourcarpet\":[{\"type\":\"contourcarpet\",\"colorbar\":{\"outlinewidth\":0,\"ticks\":\"\"}}],\"contour\":[{\"type\":\"contour\",\"colorbar\":{\"outlinewidth\":0,\"ticks\":\"\"},\"colorscale\":[[0.0,\"#0d0887\"],[0.1111111111111111,\"#46039f\"],[0.2222222222222222,\"#7201a8\"],[0.3333333333333333,\"#9c179e\"],[0.4444444444444444,\"#bd3786\"],[0.5555555555555556,\"#d8576b\"],[0.6666666666666666,\"#ed7953\"],[0.7777777777777778,\"#fb9f3a\"],[0.8888888888888888,\"#fdca26\"],[1.0,\"#f0f921\"]]}],\"surface\":[{\"type\":\"surface\",\"colorbar\":{\"outlinewidth\":0,\"ticks\":\"\"},\"colorscale\":[[0.0,\"#0d0887\"],[0.1111111111111111,\"#46039f\"],[0.2222222222222222,\"#7201a8\"],[0.3333333333333333,\"#9c179e\"],[0.4444444444444444,\"#bd3786\"],[0.5555555555555556,\"#d8576b\"],[0.6666666666666666,\"#ed7953\"],[0.7777777777777778,\"#fb9f3a\"],[0.8888888888888888,\"#fdca26\"],[1.0,\"#f0f921\"]]}],\"mesh3d\":[{\"type\":\"mesh3d\",\"colorbar\":{\"outlinewidth\":0,\"ticks\":\"\"}}],\"scatter\":[{\"fillpattern\":{\"fillmode\":\"overlay\",\"size\":10,\"solidity\":0.2},\"type\":\"scatter\"}],\"parcoords\":[{\"type\":\"parcoords\",\"line\":{\"colorbar\":{\"outlinewidth\":0,\"ticks\":\"\"}}}],\"scatterpolargl\":[{\"type\":\"scatterpolargl\",\"marker\":{\"colorbar\":{\"outlinewidth\":0,\"ticks\":\"\"}}}],\"bar\":[{\"error_x\":{\"color\":\"#2a3f5f\"},\"error_y\":{\"color\":\"#2a3f5f\"},\"marker\":{\"line\":{\"color\":\"#E5ECF6\",\"width\":0.5},\"pattern\":{\"fillmode\":\"overlay\",\"size\":10,\"solidity\":0.2}},\"type\":\"bar\"}],\"scattergeo\":[{\"type\":\"scattergeo\",\"marker\":{\"colorbar\":{\"outlinewidth\":0,\"ticks\":\"\"}}}],\"scatterpolar\":[{\"type\":\"scatterpolar\",\"marker\":{\"colorbar\":{\"outlinewidth\":0,\"ticks\":\"\"}}}],\"histogram\":[{\"marker\":{\"pattern\":{\"fillmode\":\"overlay\",\"size\":10,\"solidity\":0.2}},\"type\":\"histogram\"}],\"scattergl\":[{\"type\":\"scattergl\",\"marker\":{\"colorbar\":{\"outlinewidth\":0,\"ticks\":\"\"}}}],\"scatter3d\":[{\"type\":\"scatter3d\",\"line\":{\"colorbar\":{\"outlinewidth\":0,\"ticks\":\"\"}},\"marker\":{\"colorbar\":{\"outlinewidth\":0,\"ticks\":\"\"}}}],\"scattermapbox\":[{\"type\":\"scattermapbox\",\"marker\":{\"colorbar\":{\"outlinewidth\":0,\"ticks\":\"\"}}}],\"scatterternary\":[{\"type\":\"scatterternary\",\"marker\":{\"colorbar\":{\"outlinewidth\":0,\"ticks\":\"\"}}}],\"scattercarpet\":[{\"type\":\"scattercarpet\",\"marker\":{\"colorbar\":{\"outlinewidth\":0,\"ticks\":\"\"}}}],\"carpet\":[{\"aaxis\":{\"endlinecolor\":\"#2a3f5f\",\"gridcolor\":\"white\",\"linecolor\":\"white\",\"minorgridcolor\":\"white\",\"startlinecolor\":\"#2a3f5f\"},\"baxis\":{\"endlinecolor\":\"#2a3f5f\",\"gridcolor\":\"white\",\"linecolor\":\"white\",\"minorgridcolor\":\"white\",\"startlinecolor\":\"#2a3f5f\"},\"type\":\"carpet\"}],\"table\":[{\"cells\":{\"fill\":{\"color\":\"#EBF0F8\"},\"line\":{\"color\":\"white\"}},\"header\":{\"fill\":{\"color\":\"#C8D4E3\"},\"line\":{\"color\":\"white\"}},\"type\":\"table\"}],\"barpolar\":[{\"marker\":{\"line\":{\"color\":\"#E5ECF6\",\"width\":0.5},\"pattern\":{\"fillmode\":\"overlay\",\"size\":10,\"solidity\":0.2}},\"type\":\"barpolar\"}],\"pie\":[{\"automargin\":true,\"type\":\"pie\"}]},\"layout\":{\"autotypenumbers\":\"strict\",\"colorway\":[\"#636efa\",\"#EF553B\",\"#00cc96\",\"#ab63fa\",\"#FFA15A\",\"#19d3f3\",\"#FF6692\",\"#B6E880\",\"#FF97FF\",\"#FECB52\"],\"font\":{\"color\":\"#2a3f5f\"},\"hovermode\":\"closest\",\"hoverlabel\":{\"align\":\"left\"},\"paper_bgcolor\":\"white\",\"plot_bgcolor\":\"#E5ECF6\",\"polar\":{\"bgcolor\":\"#E5ECF6\",\"angularaxis\":{\"gridcolor\":\"white\",\"linecolor\":\"white\",\"ticks\":\"\"},\"radialaxis\":{\"gridcolor\":\"white\",\"linecolor\":\"white\",\"ticks\":\"\"}},\"ternary\":{\"bgcolor\":\"#E5ECF6\",\"aaxis\":{\"gridcolor\":\"white\",\"linecolor\":\"white\",\"ticks\":\"\"},\"baxis\":{\"gridcolor\":\"white\",\"linecolor\":\"white\",\"ticks\":\"\"},\"caxis\":{\"gridcolor\":\"white\",\"linecolor\":\"white\",\"ticks\":\"\"}},\"coloraxis\":{\"colorbar\":{\"outlinewidth\":0,\"ticks\":\"\"}},\"colorscale\":{\"sequential\":[[0.0,\"#0d0887\"],[0.1111111111111111,\"#46039f\"],[0.2222222222222222,\"#7201a8\"],[0.3333333333333333,\"#9c179e\"],[0.4444444444444444,\"#bd3786\"],[0.5555555555555556,\"#d8576b\"],[0.6666666666666666,\"#ed7953\"],[0.7777777777777778,\"#fb9f3a\"],[0.8888888888888888,\"#fdca26\"],[1.0,\"#f0f921\"]],\"sequentialminus\":[[0.0,\"#0d0887\"],[0.1111111111111111,\"#46039f\"],[0.2222222222222222,\"#7201a8\"],[0.3333333333333333,\"#9c179e\"],[0.4444444444444444,\"#bd3786\"],[0.5555555555555556,\"#d8576b\"],[0.6666666666666666,\"#ed7953\"],[0.7777777777777778,\"#fb9f3a\"],[0.8888888888888888,\"#fdca26\"],[1.0,\"#f0f921\"]],\"diverging\":[[0,\"#8e0152\"],[0.1,\"#c51b7d\"],[0.2,\"#de77ae\"],[0.3,\"#f1b6da\"],[0.4,\"#fde0ef\"],[0.5,\"#f7f7f7\"],[0.6,\"#e6f5d0\"],[0.7,\"#b8e186\"],[0.8,\"#7fbc41\"],[0.9,\"#4d9221\"],[1,\"#276419\"]]},\"xaxis\":{\"gridcolor\":\"white\",\"linecolor\":\"white\",\"ticks\":\"\",\"title\":{\"standoff\":15},\"zerolinecolor\":\"white\",\"automargin\":true,\"zerolinewidth\":2},\"yaxis\":{\"gridcolor\":\"white\",\"linecolor\":\"white\",\"ticks\":\"\",\"title\":{\"standoff\":15},\"zerolinecolor\":\"white\",\"automargin\":true,\"zerolinewidth\":2},\"scene\":{\"xaxis\":{\"backgroundcolor\":\"#E5ECF6\",\"gridcolor\":\"white\",\"linecolor\":\"white\",\"showbackground\":true,\"ticks\":\"\",\"zerolinecolor\":\"white\",\"gridwidth\":2},\"yaxis\":{\"backgroundcolor\":\"#E5ECF6\",\"gridcolor\":\"white\",\"linecolor\":\"white\",\"showbackground\":true,\"ticks\":\"\",\"zerolinecolor\":\"white\",\"gridwidth\":2},\"zaxis\":{\"backgroundcolor\":\"#E5ECF6\",\"gridcolor\":\"white\",\"linecolor\":\"white\",\"showbackground\":true,\"ticks\":\"\",\"zerolinecolor\":\"white\",\"gridwidth\":2}},\"shapedefaults\":{\"line\":{\"color\":\"#2a3f5f\"}},\"annotationdefaults\":{\"arrowcolor\":\"#2a3f5f\",\"arrowhead\":0,\"arrowwidth\":1},\"geo\":{\"bgcolor\":\"white\",\"landcolor\":\"#E5ECF6\",\"subunitcolor\":\"white\",\"showland\":true,\"showlakes\":true,\"lakecolor\":\"white\"},\"title\":{\"x\":0.05},\"mapbox\":{\"style\":\"light\"}}},\"title\":{\"text\":\"Cluster 1 Weakness Chart\",\"x\":0.5,\"font\":{\"size\":20}},\"xaxis\":{\"title\":{\"text\":\"Poke Type\"}},\"yaxis\":{\"title\":{\"text\":\"Damage Multiplyer\"}},\"paper_bgcolor\":\"mintcream\"},                        {\"responsive\": true}                    ).then(function(){\n",
       "                            \n",
       "var gd = document.getElementById('0a0c4689-f044-457a-a0d2-b1f6d918f27b');\n",
       "var x = new MutationObserver(function (mutations, observer) {{\n",
       "        var display = window.getComputedStyle(gd).display;\n",
       "        if (!display || display === 'none') {{\n",
       "            console.log([gd, 'removed!']);\n",
       "            Plotly.purge(gd);\n",
       "            observer.disconnect();\n",
       "        }}\n",
       "}});\n",
       "\n",
       "// Listen for the removal of the full notebook cells\n",
       "var notebookContainer = gd.closest('#notebook-container');\n",
       "if (notebookContainer) {{\n",
       "    x.observe(notebookContainer, {childList: true});\n",
       "}}\n",
       "\n",
       "// Listen for the clearing of the current output cell\n",
       "var outputEl = gd.closest('.output');\n",
       "if (outputEl) {{\n",
       "    x.observe(outputEl, {childList: true});\n",
       "}}\n",
       "\n",
       "                        })                };                });            </script>        </div>"
      ]
     },
     "metadata": {},
     "output_type": "display_data"
    }
   ],
   "source": [
    "fig_country = go.Figure()\n",
    "fig_country.add_trace(go.Bar(x=type_effectiveness_cols,y=pts[0], marker=dict(color=list(range(20)), colorscale=\"Sunsetdark\")))\n",
    "\n",
    "fig_country.update_layout(title=\"Cluster 1 Weakness Chart\",\n",
    "                             xaxis_title=\"Poke Type\", yaxis_title=\"Damage Multiplyer\",title_x=0.5, paper_bgcolor=\"mintcream\",\n",
    "                             title_font_size=20)\n",
    "fig_country.show()"
   ]
  },
  {
   "cell_type": "markdown",
   "id": "cbdce724",
   "metadata": {},
   "source": [
    "클러스터1  풀,격투,요정,전기 약하고 고스트,불,물에 강함.  \n",
    "이 클러스터에 속하는 포켓몬으로는 거북왕, 대짱이 , 게을킹 ,약어리, 그레닌자 가 있습니다.  "
   ]
  },
  {
   "cell_type": "code",
   "execution_count": 445,
   "id": "157246fb",
   "metadata": {},
   "outputs": [
    {
     "data": {
      "text/plain": [
       "6      Squirtle\n",
       "7     Wartortle\n",
       "8     Blastoise\n",
       "18      Rattata\n",
       "19     Raticate\n",
       "Name: 이름, dtype: object"
      ]
     },
     "execution_count": 445,
     "metadata": {},
     "output_type": "execute_result"
    }
   ],
   "source": [
    "selected_pokemon = df1[(df1[\"clusters\"] == 0)]['이름'].head(5)\n",
    "selected_pokemon  #꼬부기, 어니 부기, 거북왕, 꼬렛,  레트라 "
   ]
  },
  {
   "cell_type": "code",
   "execution_count": 472,
   "id": "9f12cdef",
   "metadata": {},
   "outputs": [
    {
     "data": {
      "text/html": [
       "<div>\n",
       "<style scoped>\n",
       "    .dataframe tbody tr th:only-of-type {\n",
       "        vertical-align: middle;\n",
       "    }\n",
       "\n",
       "    .dataframe tbody tr th {\n",
       "        vertical-align: top;\n",
       "    }\n",
       "\n",
       "    .dataframe thead th {\n",
       "        text-align: right;\n",
       "    }\n",
       "</style>\n",
       "<table border=\"1\" class=\"dataframe\">\n",
       "  <thead>\n",
       "    <tr style=\"text-align: right;\">\n",
       "      <th></th>\n",
       "      <th>능력</th>\n",
       "      <th>상성_벌레</th>\n",
       "      <th>상성_악</th>\n",
       "      <th>상성_드래곤</th>\n",
       "      <th>상성_전기</th>\n",
       "      <th>상성_페어리</th>\n",
       "      <th>상성_격투</th>\n",
       "      <th>상성_불</th>\n",
       "      <th>상성_비행</th>\n",
       "      <th>상성_고스트</th>\n",
       "      <th>...</th>\n",
       "      <th>수컷_비율</th>\n",
       "      <th>특수_공격</th>\n",
       "      <th>특수_방어</th>\n",
       "      <th>스피드</th>\n",
       "      <th>타입1</th>\n",
       "      <th>타입2</th>\n",
       "      <th>세대</th>\n",
       "      <th>전설의_포켓몬_여부</th>\n",
       "      <th>weakness_score</th>\n",
       "      <th>clusters</th>\n",
       "    </tr>\n",
       "  </thead>\n",
       "  <tbody>\n",
       "    <tr>\n",
       "      <th>8</th>\n",
       "      <td>['Torrent', 'Rain Dish']</td>\n",
       "      <td>1.0</td>\n",
       "      <td>1.0</td>\n",
       "      <td>1.0</td>\n",
       "      <td>2.0</td>\n",
       "      <td>1.0</td>\n",
       "      <td>1.0</td>\n",
       "      <td>0.5</td>\n",
       "      <td>1.0</td>\n",
       "      <td>1.0</td>\n",
       "      <td>...</td>\n",
       "      <td>88.1</td>\n",
       "      <td>135</td>\n",
       "      <td>115</td>\n",
       "      <td>78</td>\n",
       "      <td>물</td>\n",
       "      <td>없음</td>\n",
       "      <td>1</td>\n",
       "      <td>0</td>\n",
       "      <td>19.0</td>\n",
       "      <td>0</td>\n",
       "    </tr>\n",
       "    <tr>\n",
       "      <th>247</th>\n",
       "      <td>['Sand Stream', 'Unnerve']</td>\n",
       "      <td>2.0</td>\n",
       "      <td>0.5</td>\n",
       "      <td>1.0</td>\n",
       "      <td>1.0</td>\n",
       "      <td>2.0</td>\n",
       "      <td>4.0</td>\n",
       "      <td>0.5</td>\n",
       "      <td>0.5</td>\n",
       "      <td>0.5</td>\n",
       "      <td>...</td>\n",
       "      <td>50.0</td>\n",
       "      <td>95</td>\n",
       "      <td>120</td>\n",
       "      <td>71</td>\n",
       "      <td>바위</td>\n",
       "      <td>악</td>\n",
       "      <td>2</td>\n",
       "      <td>0</td>\n",
       "      <td>24.0</td>\n",
       "      <td>0</td>\n",
       "    </tr>\n",
       "    <tr>\n",
       "      <th>259</th>\n",
       "      <td>['Torrent', 'Damp']</td>\n",
       "      <td>1.0</td>\n",
       "      <td>1.0</td>\n",
       "      <td>1.0</td>\n",
       "      <td>0.0</td>\n",
       "      <td>1.0</td>\n",
       "      <td>1.0</td>\n",
       "      <td>0.5</td>\n",
       "      <td>1.0</td>\n",
       "      <td>1.0</td>\n",
       "      <td>...</td>\n",
       "      <td>88.1</td>\n",
       "      <td>95</td>\n",
       "      <td>110</td>\n",
       "      <td>70</td>\n",
       "      <td>물</td>\n",
       "      <td>땅</td>\n",
       "      <td>3</td>\n",
       "      <td>0</td>\n",
       "      <td>19.0</td>\n",
       "      <td>0</td>\n",
       "    </tr>\n",
       "    <tr>\n",
       "      <th>288</th>\n",
       "      <td>['Truant']</td>\n",
       "      <td>1.0</td>\n",
       "      <td>1.0</td>\n",
       "      <td>1.0</td>\n",
       "      <td>1.0</td>\n",
       "      <td>1.0</td>\n",
       "      <td>2.0</td>\n",
       "      <td>1.0</td>\n",
       "      <td>1.0</td>\n",
       "      <td>0.0</td>\n",
       "      <td>...</td>\n",
       "      <td>50.0</td>\n",
       "      <td>95</td>\n",
       "      <td>65</td>\n",
       "      <td>100</td>\n",
       "      <td>노말</td>\n",
       "      <td>없음</td>\n",
       "      <td>3</td>\n",
       "      <td>0</td>\n",
       "      <td>19.0</td>\n",
       "      <td>0</td>\n",
       "    </tr>\n",
       "    <tr>\n",
       "      <th>444</th>\n",
       "      <td>['Sand Veil', 'Rough Skin']</td>\n",
       "      <td>1.0</td>\n",
       "      <td>1.0</td>\n",
       "      <td>2.0</td>\n",
       "      <td>0.0</td>\n",
       "      <td>2.0</td>\n",
       "      <td>1.0</td>\n",
       "      <td>0.5</td>\n",
       "      <td>1.0</td>\n",
       "      <td>1.0</td>\n",
       "      <td>...</td>\n",
       "      <td>50.0</td>\n",
       "      <td>120</td>\n",
       "      <td>95</td>\n",
       "      <td>92</td>\n",
       "      <td>드래곤</td>\n",
       "      <td>땅</td>\n",
       "      <td>4</td>\n",
       "      <td>0</td>\n",
       "      <td>21.5</td>\n",
       "      <td>0</td>\n",
       "    </tr>\n",
       "  </tbody>\n",
       "</table>\n",
       "<p>5 rows × 34 columns</p>\n",
       "</div>"
      ],
      "text/plain": [
       "                              능력  상성_벌레  상성_악  상성_드래곤  상성_전기  상성_페어리  상성_격투  \\\n",
       "8       ['Torrent', 'Rain Dish']    1.0   1.0     1.0    2.0     1.0    1.0   \n",
       "247   ['Sand Stream', 'Unnerve']    2.0   0.5     1.0    1.0     2.0    4.0   \n",
       "259          ['Torrent', 'Damp']    1.0   1.0     1.0    0.0     1.0    1.0   \n",
       "288                   ['Truant']    1.0   1.0     1.0    1.0     1.0    2.0   \n",
       "444  ['Sand Veil', 'Rough Skin']    1.0   1.0     2.0    0.0     2.0    1.0   \n",
       "\n",
       "     상성_불  상성_비행  상성_고스트  ...  수컷_비율  특수_공격  특수_방어  스피드  타입1  타입2  세대  \\\n",
       "8     0.5    1.0     1.0  ...   88.1    135    115   78    물   없음   1   \n",
       "247   0.5    0.5     0.5  ...   50.0     95    120   71   바위    악   2   \n",
       "259   0.5    1.0     1.0  ...   88.1     95    110   70    물    땅   3   \n",
       "288   1.0    1.0     0.0  ...   50.0     95     65  100   노말   없음   3   \n",
       "444   0.5    1.0     1.0  ...   50.0    120     95   92  드래곤    땅   4   \n",
       "\n",
       "     전설의_포켓몬_여부  weakness_score  clusters  \n",
       "8             0            19.0         0  \n",
       "247           0            24.0         0  \n",
       "259           0            19.0         0  \n",
       "288           0            19.0         0  \n",
       "444           0            21.5         0  \n",
       "\n",
       "[5 rows x 34 columns]"
      ]
     },
     "execution_count": 472,
     "metadata": {},
     "output_type": "execute_result"
    }
   ],
   "source": [
    "# 클러스터 4에 속한 5개의 포켓몬 선택\n",
    "cluster_1_pokemon = df1[(df1[\"clusters\"] == 0) & (df1[\"스탯_총합\"] >= 600) & (df1[\"전설의_포켓몬_여부\"] == 0)].head(5)\n",
    "cluster_1_pokemon"
   ]
  },
  {
   "cell_type": "code",
   "execution_count": 474,
   "id": "50095b48",
   "metadata": {},
   "outputs": [],
   "source": [
    "# 역할에 따른 능력치 출력\n",
    "physical_sweeper_stats = cluster_1_pokemon[['이름', '공격', '스피드']]\n",
    "tanker_stats = cluster_1_pokemon[['이름', '체력', '방어', '특수_방어']]\n",
    "mixed_sweeper_stats = cluster_1_pokemon[['이름', '공격', '특수_공격', '스피드']]\n",
    "special_sweeper_stats = cluster_1_pokemon[['이름', '특수_공격', '스피드']]\n"
   ]
  },
  {
   "cell_type": "code",
   "execution_count": 477,
   "id": "18163fbd",
   "metadata": {},
   "outputs": [],
   "source": [
    "# 능력치 합계 출력\n",
    "cluster_1_pokemon['physical_sweeper_score'] = cluster_1_pokemon['공격'] + cluster_1_pokemon['스피드']\n",
    "cluster_1_pokemon['tanker_score'] = cluster_1_pokemon['체력'] + cluster_1_pokemon['방어'] + cluster_1_pokemon['특수_방어']\n",
    "cluster_1_pokemon['mixed_sweeper_score'] = cluster_1_pokemon['공격'] + cluster_1_pokemon['특수_공격'] + cluster_1_pokemon['스피드']\n",
    "cluster_1_pokemon['special_sweeper_score'] = cluster_1_pokemon['특수_공격'] + cluster_1_pokemon['스피드']"
   ]
  },
  {
   "cell_type": "code",
   "execution_count": 479,
   "id": "d5082caa",
   "metadata": {},
   "outputs": [
    {
     "name": "stdout",
     "output_type": "stream",
     "text": [
      "Physical Sweeper Stats1:\n",
      "            이름   공격  스피드\n",
      "8    Blastoise  103   78\n",
      "247  Tyranitar  164   71\n",
      "259   Swampert  150   70\n",
      "288    Slaking  160  100\n",
      "444   Garchomp  170   92\n",
      "\n",
      "Physical Sweeper Scores1:\n",
      "            이름  physical_sweeper_score\n",
      "444   Garchomp                     262\n",
      "288    Slaking                     260\n",
      "247  Tyranitar                     235\n",
      "259   Swampert                     220\n",
      "8    Blastoise                     181\n",
      "\n",
      "Tanker Stats1:\n",
      "            이름   체력   방어  특수_방어\n",
      "8    Blastoise   79  120    115\n",
      "247  Tyranitar  100  150    120\n",
      "259   Swampert  100  110    110\n",
      "288    Slaking  150  100     65\n",
      "444   Garchomp  108  115     95\n",
      "\n",
      "Tanker Scores1:\n",
      "            이름  tanker_score\n",
      "247  Tyranitar           370\n",
      "259   Swampert           320\n",
      "444   Garchomp           318\n",
      "288    Slaking           315\n",
      "8    Blastoise           314\n",
      "\n",
      "Mixed Sweeper Stats1:\n",
      "            이름   공격  특수_공격  스피드\n",
      "8    Blastoise  103    135   78\n",
      "247  Tyranitar  164     95   71\n",
      "259   Swampert  150     95   70\n",
      "288    Slaking  160     95  100\n",
      "444   Garchomp  170    120   92\n",
      "\n",
      "Mixed Sweeper Scores1:\n",
      "            이름  mixed_sweeper_score\n",
      "444   Garchomp                  382\n",
      "288    Slaking                  355\n",
      "247  Tyranitar                  330\n",
      "8    Blastoise                  316\n",
      "259   Swampert                  315\n",
      "\n",
      "Special Sweeper Stats1:\n",
      "            이름  특수_공격  스피드\n",
      "8    Blastoise    135   78\n",
      "247  Tyranitar     95   71\n",
      "259   Swampert     95   70\n",
      "288    Slaking     95  100\n",
      "444   Garchomp    120   92\n",
      "\n",
      "Special Sweeper Scores1:\n",
      "            이름  special_sweeper_score\n",
      "8    Blastoise                    213\n",
      "444   Garchomp                    212\n",
      "288    Slaking                    195\n",
      "247  Tyranitar                    166\n",
      "259   Swampert                    165\n"
     ]
    }
   ],
   "source": [
    "# 출력\n",
    "print(\"Physical Sweeper Stats1:\")\n",
    "print(physical_sweeper_stats)\n",
    "print(\"\\nPhysical Sweeper Scores1:\")\n",
    "print(cluster_1_pokemon[['이름', 'physical_sweeper_score']].sort_values(by='physical_sweeper_score', ascending=False).head(5))\n",
    "\n",
    "print(\"\\nTanker Stats1:\")\n",
    "print(tanker_stats)\n",
    "print(\"\\nTanker Scores1:\")\n",
    "print(cluster_1_pokemon[['이름', 'tanker_score']].sort_values(by='tanker_score', ascending=False).head(5))\n",
    "\n",
    "print(\"\\nMixed Sweeper Stats1:\")\n",
    "print(mixed_sweeper_stats)\n",
    "print(\"\\nMixed Sweeper Scores1:\")\n",
    "print(cluster_1_pokemon[['이름', 'mixed_sweeper_score']].sort_values(by='mixed_sweeper_score', ascending=False).head(5))\n",
    "\n",
    "print(\"\\nSpecial Sweeper Stats1:\")\n",
    "print(special_sweeper_stats)\n",
    "print(\"\\nSpecial Sweeper Scores1:\")\n",
    "print(cluster_1_pokemon[['이름', 'special_sweeper_score']].sort_values(by='special_sweeper_score', ascending=False).head(5))\n",
    "\n",
    "# 역할에 사용한 새로운 열 삭제\n",
    "# df1.drop(['physical_sweeper_score', 'tanker_score', 'mixed_sweeper_score', 'special_sweeper_score'], axis=1, inplace=True)"
   ]
  },
  {
   "cell_type": "code",
   "execution_count": 226,
   "id": "28716101",
   "metadata": {},
   "outputs": [],
   "source": [
    "#CLUSTER2 "
   ]
  },
  {
   "cell_type": "code",
   "execution_count": 227,
   "id": "035c1a64",
   "metadata": {},
   "outputs": [
    {
     "data": {
      "application/vnd.plotly.v1+json": {
       "config": {
        "plotlyServerURL": "https://plot.ly"
       },
       "data": [
        {
         "marker": {
          "color": [
           0,
           1,
           2,
           3,
           4,
           5,
           6,
           7,
           8,
           9,
           10,
           11,
           12,
           13,
           14,
           15,
           16,
           17,
           18,
           19
          ],
          "colorscale": [
           [
            0,
            "rgb(252, 222, 156)"
           ],
           [
            0.16666666666666666,
            "rgb(250, 164, 118)"
           ],
           [
            0.3333333333333333,
            "rgb(240, 116, 110)"
           ],
           [
            0.5,
            "rgb(227, 79, 111)"
           ],
           [
            0.6666666666666666,
            "rgb(220, 57, 119)"
           ],
           [
            0.8333333333333334,
            "rgb(185, 37, 122)"
           ],
           [
            1,
            "rgb(124, 29, 111)"
           ]
          ]
         },
         "type": "bar",
         "x": [
          "상성_벌레",
          "상성_악",
          "상성_드래곤",
          "상성_전기",
          "상성_요정",
          "상성_격투",
          "상성_불",
          "상성_비행",
          "상성_고스트",
          "상성_풀",
          "상성_땅",
          "상성_얼음",
          "상성_노멀",
          "상성_독",
          "상성_에스퍼",
          "상성_바위",
          "상성_강철",
          "상성_물"
         ],
         "y": [
          1.5078125,
          1.0078125,
          0.9140625,
          0.63671875,
          0.984375,
          0.78515625,
          2.2265625,
          2.09375,
          1.04296875,
          0.453125,
          0.56640625,
          1.77734375,
          0.921875,
          1.58203125,
          1.08984375,
          1.26953125,
          1.01171875,
          0.634765625
         ]
        }
       ],
       "layout": {
        "paper_bgcolor": "mintcream",
        "template": {
         "data": {
          "bar": [
           {
            "error_x": {
             "color": "#2a3f5f"
            },
            "error_y": {
             "color": "#2a3f5f"
            },
            "marker": {
             "line": {
              "color": "#E5ECF6",
              "width": 0.5
             },
             "pattern": {
              "fillmode": "overlay",
              "size": 10,
              "solidity": 0.2
             }
            },
            "type": "bar"
           }
          ],
          "barpolar": [
           {
            "marker": {
             "line": {
              "color": "#E5ECF6",
              "width": 0.5
             },
             "pattern": {
              "fillmode": "overlay",
              "size": 10,
              "solidity": 0.2
             }
            },
            "type": "barpolar"
           }
          ],
          "carpet": [
           {
            "aaxis": {
             "endlinecolor": "#2a3f5f",
             "gridcolor": "white",
             "linecolor": "white",
             "minorgridcolor": "white",
             "startlinecolor": "#2a3f5f"
            },
            "baxis": {
             "endlinecolor": "#2a3f5f",
             "gridcolor": "white",
             "linecolor": "white",
             "minorgridcolor": "white",
             "startlinecolor": "#2a3f5f"
            },
            "type": "carpet"
           }
          ],
          "choropleth": [
           {
            "colorbar": {
             "outlinewidth": 0,
             "ticks": ""
            },
            "type": "choropleth"
           }
          ],
          "contour": [
           {
            "colorbar": {
             "outlinewidth": 0,
             "ticks": ""
            },
            "colorscale": [
             [
              0,
              "#0d0887"
             ],
             [
              0.1111111111111111,
              "#46039f"
             ],
             [
              0.2222222222222222,
              "#7201a8"
             ],
             [
              0.3333333333333333,
              "#9c179e"
             ],
             [
              0.4444444444444444,
              "#bd3786"
             ],
             [
              0.5555555555555556,
              "#d8576b"
             ],
             [
              0.6666666666666666,
              "#ed7953"
             ],
             [
              0.7777777777777778,
              "#fb9f3a"
             ],
             [
              0.8888888888888888,
              "#fdca26"
             ],
             [
              1,
              "#f0f921"
             ]
            ],
            "type": "contour"
           }
          ],
          "contourcarpet": [
           {
            "colorbar": {
             "outlinewidth": 0,
             "ticks": ""
            },
            "type": "contourcarpet"
           }
          ],
          "heatmap": [
           {
            "colorbar": {
             "outlinewidth": 0,
             "ticks": ""
            },
            "colorscale": [
             [
              0,
              "#0d0887"
             ],
             [
              0.1111111111111111,
              "#46039f"
             ],
             [
              0.2222222222222222,
              "#7201a8"
             ],
             [
              0.3333333333333333,
              "#9c179e"
             ],
             [
              0.4444444444444444,
              "#bd3786"
             ],
             [
              0.5555555555555556,
              "#d8576b"
             ],
             [
              0.6666666666666666,
              "#ed7953"
             ],
             [
              0.7777777777777778,
              "#fb9f3a"
             ],
             [
              0.8888888888888888,
              "#fdca26"
             ],
             [
              1,
              "#f0f921"
             ]
            ],
            "type": "heatmap"
           }
          ],
          "heatmapgl": [
           {
            "colorbar": {
             "outlinewidth": 0,
             "ticks": ""
            },
            "colorscale": [
             [
              0,
              "#0d0887"
             ],
             [
              0.1111111111111111,
              "#46039f"
             ],
             [
              0.2222222222222222,
              "#7201a8"
             ],
             [
              0.3333333333333333,
              "#9c179e"
             ],
             [
              0.4444444444444444,
              "#bd3786"
             ],
             [
              0.5555555555555556,
              "#d8576b"
             ],
             [
              0.6666666666666666,
              "#ed7953"
             ],
             [
              0.7777777777777778,
              "#fb9f3a"
             ],
             [
              0.8888888888888888,
              "#fdca26"
             ],
             [
              1,
              "#f0f921"
             ]
            ],
            "type": "heatmapgl"
           }
          ],
          "histogram": [
           {
            "marker": {
             "pattern": {
              "fillmode": "overlay",
              "size": 10,
              "solidity": 0.2
             }
            },
            "type": "histogram"
           }
          ],
          "histogram2d": [
           {
            "colorbar": {
             "outlinewidth": 0,
             "ticks": ""
            },
            "colorscale": [
             [
              0,
              "#0d0887"
             ],
             [
              0.1111111111111111,
              "#46039f"
             ],
             [
              0.2222222222222222,
              "#7201a8"
             ],
             [
              0.3333333333333333,
              "#9c179e"
             ],
             [
              0.4444444444444444,
              "#bd3786"
             ],
             [
              0.5555555555555556,
              "#d8576b"
             ],
             [
              0.6666666666666666,
              "#ed7953"
             ],
             [
              0.7777777777777778,
              "#fb9f3a"
             ],
             [
              0.8888888888888888,
              "#fdca26"
             ],
             [
              1,
              "#f0f921"
             ]
            ],
            "type": "histogram2d"
           }
          ],
          "histogram2dcontour": [
           {
            "colorbar": {
             "outlinewidth": 0,
             "ticks": ""
            },
            "colorscale": [
             [
              0,
              "#0d0887"
             ],
             [
              0.1111111111111111,
              "#46039f"
             ],
             [
              0.2222222222222222,
              "#7201a8"
             ],
             [
              0.3333333333333333,
              "#9c179e"
             ],
             [
              0.4444444444444444,
              "#bd3786"
             ],
             [
              0.5555555555555556,
              "#d8576b"
             ],
             [
              0.6666666666666666,
              "#ed7953"
             ],
             [
              0.7777777777777778,
              "#fb9f3a"
             ],
             [
              0.8888888888888888,
              "#fdca26"
             ],
             [
              1,
              "#f0f921"
             ]
            ],
            "type": "histogram2dcontour"
           }
          ],
          "mesh3d": [
           {
            "colorbar": {
             "outlinewidth": 0,
             "ticks": ""
            },
            "type": "mesh3d"
           }
          ],
          "parcoords": [
           {
            "line": {
             "colorbar": {
              "outlinewidth": 0,
              "ticks": ""
             }
            },
            "type": "parcoords"
           }
          ],
          "pie": [
           {
            "automargin": true,
            "type": "pie"
           }
          ],
          "scatter": [
           {
            "fillpattern": {
             "fillmode": "overlay",
             "size": 10,
             "solidity": 0.2
            },
            "type": "scatter"
           }
          ],
          "scatter3d": [
           {
            "line": {
             "colorbar": {
              "outlinewidth": 0,
              "ticks": ""
             }
            },
            "marker": {
             "colorbar": {
              "outlinewidth": 0,
              "ticks": ""
             }
            },
            "type": "scatter3d"
           }
          ],
          "scattercarpet": [
           {
            "marker": {
             "colorbar": {
              "outlinewidth": 0,
              "ticks": ""
             }
            },
            "type": "scattercarpet"
           }
          ],
          "scattergeo": [
           {
            "marker": {
             "colorbar": {
              "outlinewidth": 0,
              "ticks": ""
             }
            },
            "type": "scattergeo"
           }
          ],
          "scattergl": [
           {
            "marker": {
             "colorbar": {
              "outlinewidth": 0,
              "ticks": ""
             }
            },
            "type": "scattergl"
           }
          ],
          "scattermapbox": [
           {
            "marker": {
             "colorbar": {
              "outlinewidth": 0,
              "ticks": ""
             }
            },
            "type": "scattermapbox"
           }
          ],
          "scatterpolar": [
           {
            "marker": {
             "colorbar": {
              "outlinewidth": 0,
              "ticks": ""
             }
            },
            "type": "scatterpolar"
           }
          ],
          "scatterpolargl": [
           {
            "marker": {
             "colorbar": {
              "outlinewidth": 0,
              "ticks": ""
             }
            },
            "type": "scatterpolargl"
           }
          ],
          "scatterternary": [
           {
            "marker": {
             "colorbar": {
              "outlinewidth": 0,
              "ticks": ""
             }
            },
            "type": "scatterternary"
           }
          ],
          "surface": [
           {
            "colorbar": {
             "outlinewidth": 0,
             "ticks": ""
            },
            "colorscale": [
             [
              0,
              "#0d0887"
             ],
             [
              0.1111111111111111,
              "#46039f"
             ],
             [
              0.2222222222222222,
              "#7201a8"
             ],
             [
              0.3333333333333333,
              "#9c179e"
             ],
             [
              0.4444444444444444,
              "#bd3786"
             ],
             [
              0.5555555555555556,
              "#d8576b"
             ],
             [
              0.6666666666666666,
              "#ed7953"
             ],
             [
              0.7777777777777778,
              "#fb9f3a"
             ],
             [
              0.8888888888888888,
              "#fdca26"
             ],
             [
              1,
              "#f0f921"
             ]
            ],
            "type": "surface"
           }
          ],
          "table": [
           {
            "cells": {
             "fill": {
              "color": "#EBF0F8"
             },
             "line": {
              "color": "white"
             }
            },
            "header": {
             "fill": {
              "color": "#C8D4E3"
             },
             "line": {
              "color": "white"
             }
            },
            "type": "table"
           }
          ]
         },
         "layout": {
          "annotationdefaults": {
           "arrowcolor": "#2a3f5f",
           "arrowhead": 0,
           "arrowwidth": 1
          },
          "autotypenumbers": "strict",
          "coloraxis": {
           "colorbar": {
            "outlinewidth": 0,
            "ticks": ""
           }
          },
          "colorscale": {
           "diverging": [
            [
             0,
             "#8e0152"
            ],
            [
             0.1,
             "#c51b7d"
            ],
            [
             0.2,
             "#de77ae"
            ],
            [
             0.3,
             "#f1b6da"
            ],
            [
             0.4,
             "#fde0ef"
            ],
            [
             0.5,
             "#f7f7f7"
            ],
            [
             0.6,
             "#e6f5d0"
            ],
            [
             0.7,
             "#b8e186"
            ],
            [
             0.8,
             "#7fbc41"
            ],
            [
             0.9,
             "#4d9221"
            ],
            [
             1,
             "#276419"
            ]
           ],
           "sequential": [
            [
             0,
             "#0d0887"
            ],
            [
             0.1111111111111111,
             "#46039f"
            ],
            [
             0.2222222222222222,
             "#7201a8"
            ],
            [
             0.3333333333333333,
             "#9c179e"
            ],
            [
             0.4444444444444444,
             "#bd3786"
            ],
            [
             0.5555555555555556,
             "#d8576b"
            ],
            [
             0.6666666666666666,
             "#ed7953"
            ],
            [
             0.7777777777777778,
             "#fb9f3a"
            ],
            [
             0.8888888888888888,
             "#fdca26"
            ],
            [
             1,
             "#f0f921"
            ]
           ],
           "sequentialminus": [
            [
             0,
             "#0d0887"
            ],
            [
             0.1111111111111111,
             "#46039f"
            ],
            [
             0.2222222222222222,
             "#7201a8"
            ],
            [
             0.3333333333333333,
             "#9c179e"
            ],
            [
             0.4444444444444444,
             "#bd3786"
            ],
            [
             0.5555555555555556,
             "#d8576b"
            ],
            [
             0.6666666666666666,
             "#ed7953"
            ],
            [
             0.7777777777777778,
             "#fb9f3a"
            ],
            [
             0.8888888888888888,
             "#fdca26"
            ],
            [
             1,
             "#f0f921"
            ]
           ]
          },
          "colorway": [
           "#636efa",
           "#EF553B",
           "#00cc96",
           "#ab63fa",
           "#FFA15A",
           "#19d3f3",
           "#FF6692",
           "#B6E880",
           "#FF97FF",
           "#FECB52"
          ],
          "font": {
           "color": "#2a3f5f"
          },
          "geo": {
           "bgcolor": "white",
           "lakecolor": "white",
           "landcolor": "#E5ECF6",
           "showlakes": true,
           "showland": true,
           "subunitcolor": "white"
          },
          "hoverlabel": {
           "align": "left"
          },
          "hovermode": "closest",
          "mapbox": {
           "style": "light"
          },
          "paper_bgcolor": "white",
          "plot_bgcolor": "#E5ECF6",
          "polar": {
           "angularaxis": {
            "gridcolor": "white",
            "linecolor": "white",
            "ticks": ""
           },
           "bgcolor": "#E5ECF6",
           "radialaxis": {
            "gridcolor": "white",
            "linecolor": "white",
            "ticks": ""
           }
          },
          "scene": {
           "xaxis": {
            "backgroundcolor": "#E5ECF6",
            "gridcolor": "white",
            "gridwidth": 2,
            "linecolor": "white",
            "showbackground": true,
            "ticks": "",
            "zerolinecolor": "white"
           },
           "yaxis": {
            "backgroundcolor": "#E5ECF6",
            "gridcolor": "white",
            "gridwidth": 2,
            "linecolor": "white",
            "showbackground": true,
            "ticks": "",
            "zerolinecolor": "white"
           },
           "zaxis": {
            "backgroundcolor": "#E5ECF6",
            "gridcolor": "white",
            "gridwidth": 2,
            "linecolor": "white",
            "showbackground": true,
            "ticks": "",
            "zerolinecolor": "white"
           }
          },
          "shapedefaults": {
           "line": {
            "color": "#2a3f5f"
           }
          },
          "ternary": {
           "aaxis": {
            "gridcolor": "white",
            "linecolor": "white",
            "ticks": ""
           },
           "baxis": {
            "gridcolor": "white",
            "linecolor": "white",
            "ticks": ""
           },
           "bgcolor": "#E5ECF6",
           "caxis": {
            "gridcolor": "white",
            "linecolor": "white",
            "ticks": ""
           }
          },
          "title": {
           "x": 0.05
          },
          "xaxis": {
           "automargin": true,
           "gridcolor": "white",
           "linecolor": "white",
           "ticks": "",
           "title": {
            "standoff": 15
           },
           "zerolinecolor": "white",
           "zerolinewidth": 2
          },
          "yaxis": {
           "automargin": true,
           "gridcolor": "white",
           "linecolor": "white",
           "ticks": "",
           "title": {
            "standoff": 15
           },
           "zerolinecolor": "white",
           "zerolinewidth": 2
          }
         }
        },
        "title": {
         "font": {
          "size": 20
         },
         "text": "Cluster 2 Weakness Chart",
         "x": 0.5
        },
        "xaxis": {
         "title": {
          "text": "Poke Type"
         }
        },
        "yaxis": {
         "title": {
          "text": "Damage Multiplyer"
         }
        }
       }
      },
      "text/html": [
       "<div>                            <div id=\"1ea52c71-261e-4300-b026-77458aa9a9ac\" class=\"plotly-graph-div\" style=\"height:525px; width:100%;\"></div>            <script type=\"text/javascript\">                require([\"plotly\"], function(Plotly) {                    window.PLOTLYENV=window.PLOTLYENV || {};                                    if (document.getElementById(\"1ea52c71-261e-4300-b026-77458aa9a9ac\")) {                    Plotly.newPlot(                        \"1ea52c71-261e-4300-b026-77458aa9a9ac\",                        [{\"marker\":{\"color\":[0,1,2,3,4,5,6,7,8,9,10,11,12,13,14,15,16,17,18,19],\"colorscale\":[[0.0,\"rgb(252, 222, 156)\"],[0.16666666666666666,\"rgb(250, 164, 118)\"],[0.3333333333333333,\"rgb(240, 116, 110)\"],[0.5,\"rgb(227, 79, 111)\"],[0.6666666666666666,\"rgb(220, 57, 119)\"],[0.8333333333333334,\"rgb(185, 37, 122)\"],[1.0,\"rgb(124, 29, 111)\"]]},\"x\":[\"\\uc0c1\\uc131_\\ubc8c\\ub808\",\"\\uc0c1\\uc131_\\uc545\",\"\\uc0c1\\uc131_\\ub4dc\\ub798\\uace4\",\"\\uc0c1\\uc131_\\uc804\\uae30\",\"\\uc0c1\\uc131_\\uc694\\uc815\",\"\\uc0c1\\uc131_\\uaca9\\ud22c\",\"\\uc0c1\\uc131_\\ubd88\",\"\\uc0c1\\uc131_\\ube44\\ud589\",\"\\uc0c1\\uc131_\\uace0\\uc2a4\\ud2b8\",\"\\uc0c1\\uc131_\\ud480\",\"\\uc0c1\\uc131_\\ub545\",\"\\uc0c1\\uc131_\\uc5bc\\uc74c\",\"\\uc0c1\\uc131_\\ub178\\uba40\",\"\\uc0c1\\uc131_\\ub3c5\",\"\\uc0c1\\uc131_\\uc5d0\\uc2a4\\ud37c\",\"\\uc0c1\\uc131_\\ubc14\\uc704\",\"\\uc0c1\\uc131_\\uac15\\ucca0\",\"\\uc0c1\\uc131_\\ubb3c\"],\"y\":[1.5078125,1.0078125,0.9140625,0.63671875,0.984375,0.78515625,2.2265625,2.09375,1.04296875,0.453125,0.56640625,1.77734375,0.921875,1.58203125,1.08984375,1.26953125,1.01171875,0.634765625],\"type\":\"bar\"}],                        {\"template\":{\"data\":{\"histogram2dcontour\":[{\"type\":\"histogram2dcontour\",\"colorbar\":{\"outlinewidth\":0,\"ticks\":\"\"},\"colorscale\":[[0.0,\"#0d0887\"],[0.1111111111111111,\"#46039f\"],[0.2222222222222222,\"#7201a8\"],[0.3333333333333333,\"#9c179e\"],[0.4444444444444444,\"#bd3786\"],[0.5555555555555556,\"#d8576b\"],[0.6666666666666666,\"#ed7953\"],[0.7777777777777778,\"#fb9f3a\"],[0.8888888888888888,\"#fdca26\"],[1.0,\"#f0f921\"]]}],\"choropleth\":[{\"type\":\"choropleth\",\"colorbar\":{\"outlinewidth\":0,\"ticks\":\"\"}}],\"histogram2d\":[{\"type\":\"histogram2d\",\"colorbar\":{\"outlinewidth\":0,\"ticks\":\"\"},\"colorscale\":[[0.0,\"#0d0887\"],[0.1111111111111111,\"#46039f\"],[0.2222222222222222,\"#7201a8\"],[0.3333333333333333,\"#9c179e\"],[0.4444444444444444,\"#bd3786\"],[0.5555555555555556,\"#d8576b\"],[0.6666666666666666,\"#ed7953\"],[0.7777777777777778,\"#fb9f3a\"],[0.8888888888888888,\"#fdca26\"],[1.0,\"#f0f921\"]]}],\"heatmap\":[{\"type\":\"heatmap\",\"colorbar\":{\"outlinewidth\":0,\"ticks\":\"\"},\"colorscale\":[[0.0,\"#0d0887\"],[0.1111111111111111,\"#46039f\"],[0.2222222222222222,\"#7201a8\"],[0.3333333333333333,\"#9c179e\"],[0.4444444444444444,\"#bd3786\"],[0.5555555555555556,\"#d8576b\"],[0.6666666666666666,\"#ed7953\"],[0.7777777777777778,\"#fb9f3a\"],[0.8888888888888888,\"#fdca26\"],[1.0,\"#f0f921\"]]}],\"heatmapgl\":[{\"type\":\"heatmapgl\",\"colorbar\":{\"outlinewidth\":0,\"ticks\":\"\"},\"colorscale\":[[0.0,\"#0d0887\"],[0.1111111111111111,\"#46039f\"],[0.2222222222222222,\"#7201a8\"],[0.3333333333333333,\"#9c179e\"],[0.4444444444444444,\"#bd3786\"],[0.5555555555555556,\"#d8576b\"],[0.6666666666666666,\"#ed7953\"],[0.7777777777777778,\"#fb9f3a\"],[0.8888888888888888,\"#fdca26\"],[1.0,\"#f0f921\"]]}],\"contourcarpet\":[{\"type\":\"contourcarpet\",\"colorbar\":{\"outlinewidth\":0,\"ticks\":\"\"}}],\"contour\":[{\"type\":\"contour\",\"colorbar\":{\"outlinewidth\":0,\"ticks\":\"\"},\"colorscale\":[[0.0,\"#0d0887\"],[0.1111111111111111,\"#46039f\"],[0.2222222222222222,\"#7201a8\"],[0.3333333333333333,\"#9c179e\"],[0.4444444444444444,\"#bd3786\"],[0.5555555555555556,\"#d8576b\"],[0.6666666666666666,\"#ed7953\"],[0.7777777777777778,\"#fb9f3a\"],[0.8888888888888888,\"#fdca26\"],[1.0,\"#f0f921\"]]}],\"surface\":[{\"type\":\"surface\",\"colorbar\":{\"outlinewidth\":0,\"ticks\":\"\"},\"colorscale\":[[0.0,\"#0d0887\"],[0.1111111111111111,\"#46039f\"],[0.2222222222222222,\"#7201a8\"],[0.3333333333333333,\"#9c179e\"],[0.4444444444444444,\"#bd3786\"],[0.5555555555555556,\"#d8576b\"],[0.6666666666666666,\"#ed7953\"],[0.7777777777777778,\"#fb9f3a\"],[0.8888888888888888,\"#fdca26\"],[1.0,\"#f0f921\"]]}],\"mesh3d\":[{\"type\":\"mesh3d\",\"colorbar\":{\"outlinewidth\":0,\"ticks\":\"\"}}],\"scatter\":[{\"fillpattern\":{\"fillmode\":\"overlay\",\"size\":10,\"solidity\":0.2},\"type\":\"scatter\"}],\"parcoords\":[{\"type\":\"parcoords\",\"line\":{\"colorbar\":{\"outlinewidth\":0,\"ticks\":\"\"}}}],\"scatterpolargl\":[{\"type\":\"scatterpolargl\",\"marker\":{\"colorbar\":{\"outlinewidth\":0,\"ticks\":\"\"}}}],\"bar\":[{\"error_x\":{\"color\":\"#2a3f5f\"},\"error_y\":{\"color\":\"#2a3f5f\"},\"marker\":{\"line\":{\"color\":\"#E5ECF6\",\"width\":0.5},\"pattern\":{\"fillmode\":\"overlay\",\"size\":10,\"solidity\":0.2}},\"type\":\"bar\"}],\"scattergeo\":[{\"type\":\"scattergeo\",\"marker\":{\"colorbar\":{\"outlinewidth\":0,\"ticks\":\"\"}}}],\"scatterpolar\":[{\"type\":\"scatterpolar\",\"marker\":{\"colorbar\":{\"outlinewidth\":0,\"ticks\":\"\"}}}],\"histogram\":[{\"marker\":{\"pattern\":{\"fillmode\":\"overlay\",\"size\":10,\"solidity\":0.2}},\"type\":\"histogram\"}],\"scattergl\":[{\"type\":\"scattergl\",\"marker\":{\"colorbar\":{\"outlinewidth\":0,\"ticks\":\"\"}}}],\"scatter3d\":[{\"type\":\"scatter3d\",\"line\":{\"colorbar\":{\"outlinewidth\":0,\"ticks\":\"\"}},\"marker\":{\"colorbar\":{\"outlinewidth\":0,\"ticks\":\"\"}}}],\"scattermapbox\":[{\"type\":\"scattermapbox\",\"marker\":{\"colorbar\":{\"outlinewidth\":0,\"ticks\":\"\"}}}],\"scatterternary\":[{\"type\":\"scatterternary\",\"marker\":{\"colorbar\":{\"outlinewidth\":0,\"ticks\":\"\"}}}],\"scattercarpet\":[{\"type\":\"scattercarpet\",\"marker\":{\"colorbar\":{\"outlinewidth\":0,\"ticks\":\"\"}}}],\"carpet\":[{\"aaxis\":{\"endlinecolor\":\"#2a3f5f\",\"gridcolor\":\"white\",\"linecolor\":\"white\",\"minorgridcolor\":\"white\",\"startlinecolor\":\"#2a3f5f\"},\"baxis\":{\"endlinecolor\":\"#2a3f5f\",\"gridcolor\":\"white\",\"linecolor\":\"white\",\"minorgridcolor\":\"white\",\"startlinecolor\":\"#2a3f5f\"},\"type\":\"carpet\"}],\"table\":[{\"cells\":{\"fill\":{\"color\":\"#EBF0F8\"},\"line\":{\"color\":\"white\"}},\"header\":{\"fill\":{\"color\":\"#C8D4E3\"},\"line\":{\"color\":\"white\"}},\"type\":\"table\"}],\"barpolar\":[{\"marker\":{\"line\":{\"color\":\"#E5ECF6\",\"width\":0.5},\"pattern\":{\"fillmode\":\"overlay\",\"size\":10,\"solidity\":0.2}},\"type\":\"barpolar\"}],\"pie\":[{\"automargin\":true,\"type\":\"pie\"}]},\"layout\":{\"autotypenumbers\":\"strict\",\"colorway\":[\"#636efa\",\"#EF553B\",\"#00cc96\",\"#ab63fa\",\"#FFA15A\",\"#19d3f3\",\"#FF6692\",\"#B6E880\",\"#FF97FF\",\"#FECB52\"],\"font\":{\"color\":\"#2a3f5f\"},\"hovermode\":\"closest\",\"hoverlabel\":{\"align\":\"left\"},\"paper_bgcolor\":\"white\",\"plot_bgcolor\":\"#E5ECF6\",\"polar\":{\"bgcolor\":\"#E5ECF6\",\"angularaxis\":{\"gridcolor\":\"white\",\"linecolor\":\"white\",\"ticks\":\"\"},\"radialaxis\":{\"gridcolor\":\"white\",\"linecolor\":\"white\",\"ticks\":\"\"}},\"ternary\":{\"bgcolor\":\"#E5ECF6\",\"aaxis\":{\"gridcolor\":\"white\",\"linecolor\":\"white\",\"ticks\":\"\"},\"baxis\":{\"gridcolor\":\"white\",\"linecolor\":\"white\",\"ticks\":\"\"},\"caxis\":{\"gridcolor\":\"white\",\"linecolor\":\"white\",\"ticks\":\"\"}},\"coloraxis\":{\"colorbar\":{\"outlinewidth\":0,\"ticks\":\"\"}},\"colorscale\":{\"sequential\":[[0.0,\"#0d0887\"],[0.1111111111111111,\"#46039f\"],[0.2222222222222222,\"#7201a8\"],[0.3333333333333333,\"#9c179e\"],[0.4444444444444444,\"#bd3786\"],[0.5555555555555556,\"#d8576b\"],[0.6666666666666666,\"#ed7953\"],[0.7777777777777778,\"#fb9f3a\"],[0.8888888888888888,\"#fdca26\"],[1.0,\"#f0f921\"]],\"sequentialminus\":[[0.0,\"#0d0887\"],[0.1111111111111111,\"#46039f\"],[0.2222222222222222,\"#7201a8\"],[0.3333333333333333,\"#9c179e\"],[0.4444444444444444,\"#bd3786\"],[0.5555555555555556,\"#d8576b\"],[0.6666666666666666,\"#ed7953\"],[0.7777777777777778,\"#fb9f3a\"],[0.8888888888888888,\"#fdca26\"],[1.0,\"#f0f921\"]],\"diverging\":[[0,\"#8e0152\"],[0.1,\"#c51b7d\"],[0.2,\"#de77ae\"],[0.3,\"#f1b6da\"],[0.4,\"#fde0ef\"],[0.5,\"#f7f7f7\"],[0.6,\"#e6f5d0\"],[0.7,\"#b8e186\"],[0.8,\"#7fbc41\"],[0.9,\"#4d9221\"],[1,\"#276419\"]]},\"xaxis\":{\"gridcolor\":\"white\",\"linecolor\":\"white\",\"ticks\":\"\",\"title\":{\"standoff\":15},\"zerolinecolor\":\"white\",\"automargin\":true,\"zerolinewidth\":2},\"yaxis\":{\"gridcolor\":\"white\",\"linecolor\":\"white\",\"ticks\":\"\",\"title\":{\"standoff\":15},\"zerolinecolor\":\"white\",\"automargin\":true,\"zerolinewidth\":2},\"scene\":{\"xaxis\":{\"backgroundcolor\":\"#E5ECF6\",\"gridcolor\":\"white\",\"linecolor\":\"white\",\"showbackground\":true,\"ticks\":\"\",\"zerolinecolor\":\"white\",\"gridwidth\":2},\"yaxis\":{\"backgroundcolor\":\"#E5ECF6\",\"gridcolor\":\"white\",\"linecolor\":\"white\",\"showbackground\":true,\"ticks\":\"\",\"zerolinecolor\":\"white\",\"gridwidth\":2},\"zaxis\":{\"backgroundcolor\":\"#E5ECF6\",\"gridcolor\":\"white\",\"linecolor\":\"white\",\"showbackground\":true,\"ticks\":\"\",\"zerolinecolor\":\"white\",\"gridwidth\":2}},\"shapedefaults\":{\"line\":{\"color\":\"#2a3f5f\"}},\"annotationdefaults\":{\"arrowcolor\":\"#2a3f5f\",\"arrowhead\":0,\"arrowwidth\":1},\"geo\":{\"bgcolor\":\"white\",\"landcolor\":\"#E5ECF6\",\"subunitcolor\":\"white\",\"showland\":true,\"showlakes\":true,\"lakecolor\":\"white\"},\"title\":{\"x\":0.05},\"mapbox\":{\"style\":\"light\"}}},\"title\":{\"text\":\"Cluster 2 Weakness Chart\",\"x\":0.5,\"font\":{\"size\":20}},\"xaxis\":{\"title\":{\"text\":\"Poke Type\"}},\"yaxis\":{\"title\":{\"text\":\"Damage Multiplyer\"}},\"paper_bgcolor\":\"mintcream\"},                        {\"responsive\": true}                    ).then(function(){\n",
       "                            \n",
       "var gd = document.getElementById('1ea52c71-261e-4300-b026-77458aa9a9ac');\n",
       "var x = new MutationObserver(function (mutations, observer) {{\n",
       "        var display = window.getComputedStyle(gd).display;\n",
       "        if (!display || display === 'none') {{\n",
       "            console.log([gd, 'removed!']);\n",
       "            Plotly.purge(gd);\n",
       "            observer.disconnect();\n",
       "        }}\n",
       "}});\n",
       "\n",
       "// Listen for the removal of the full notebook cells\n",
       "var notebookContainer = gd.closest('#notebook-container');\n",
       "if (notebookContainer) {{\n",
       "    x.observe(notebookContainer, {childList: true});\n",
       "}}\n",
       "\n",
       "// Listen for the clearing of the current output cell\n",
       "var outputEl = gd.closest('.output');\n",
       "if (outputEl) {{\n",
       "    x.observe(outputEl, {childList: true});\n",
       "}}\n",
       "\n",
       "                        })                };                });            </script>        </div>"
      ]
     },
     "metadata": {},
     "output_type": "display_data"
    }
   ],
   "source": [
    "fig_country = go.Figure()\n",
    "fig_country.add_trace(go.Bar(x=type_effectiveness_cols,y=pts[1], marker=dict(color=list(range(20)), colorscale=\"Sunsetdark\")))\n",
    "\n",
    "fig_country.update_layout(title=\"Cluster 2 Weakness Chart\",\n",
    "                             xaxis_title=\"Poke Type\", yaxis_title=\"Damage Multiplyer\",title_x=0.5, paper_bgcolor=\"mintcream\",\n",
    "                             title_font_size=20)\n",
    "fig_country.show()"
   ]
  },
  {
   "cell_type": "markdown",
   "id": "36df6907",
   "metadata": {},
   "source": [
    "이 클러스터2에서는 불,비행,얼음에 약하고, 풀, 땅, 전기에 강합니다.\n",
    "이 클러스터 속하는 포켓몬으로 핫삼,  이상해꽃, 쁘사이저,나무킹,헤라크로스이 있다."
   ]
  },
  {
   "cell_type": "code",
   "execution_count": null,
   "id": "ff1372ce",
   "metadata": {},
   "outputs": [],
   "source": [
    "> 600으로 설정한이유는 (대회에서 쓸대 스탯 총합이 쎄야 되는데 그 기준이 600정도임 그래서 600으로 설정)\n",
    "> 전설의포켓몬은 대회에 못들어가서 제외함"
   ]
  },
  {
   "cell_type": "code",
   "execution_count": 324,
   "id": "946bcf3d",
   "metadata": {},
   "outputs": [
    {
     "data": {
      "text/plain": [
       "0     Bulbasaur\n",
       "1       Ivysaur\n",
       "2      Venusaur\n",
       "9      Caterpie\n",
       "10      Metapod\n",
       "Name: 이름, dtype: object"
      ]
     },
     "execution_count": 324,
     "metadata": {},
     "output_type": "execute_result"
    }
   ],
   "source": [
    "selected_pokemon = df1[(df1[\"clusters\"] == 1)]['이름'].head(5)\n",
    "selected_pokemon  #이상해씨, 이상해풀, 이상해꽃, 캐터피,단대기  "
   ]
  },
  {
   "cell_type": "code",
   "execution_count": 329,
   "id": "cb755d3f",
   "metadata": {},
   "outputs": [
    {
     "data": {
      "text/plain": [
       "211       Scizor\n",
       "2       Venusaur\n",
       "126       Pinsir\n",
       "253     Sceptile\n",
       "213    Heracross\n",
       "Name: 이름, dtype: object"
      ]
     },
     "execution_count": 329,
     "metadata": {},
     "output_type": "execute_result"
    }
   ],
   "source": [
    "selected_pokemon2 = df1[(df1[\"clusters\"] == 1) & (df1[\"스탯_총합\"] >= 600) & (df1['전설의_포켓몬_여부']==0)].sort_values(by='weakness_score')['이름'].head(5)\n",
    "selected_pokemon2  #핫삼,  이상해꽃, 쁘사이저,나무킹,헤라크로스"
   ]
  },
  {
   "cell_type": "code",
   "execution_count": 494,
   "id": "d60cfe3d",
   "metadata": {},
   "outputs": [
    {
     "data": {
      "text/html": [
       "<div>\n",
       "<style scoped>\n",
       "    .dataframe tbody tr th:only-of-type {\n",
       "        vertical-align: middle;\n",
       "    }\n",
       "\n",
       "    .dataframe tbody tr th {\n",
       "        vertical-align: top;\n",
       "    }\n",
       "\n",
       "    .dataframe thead th {\n",
       "        text-align: right;\n",
       "    }\n",
       "</style>\n",
       "<table border=\"1\" class=\"dataframe\">\n",
       "  <thead>\n",
       "    <tr style=\"text-align: right;\">\n",
       "      <th></th>\n",
       "      <th>능력</th>\n",
       "      <th>상성_벌레</th>\n",
       "      <th>상성_악</th>\n",
       "      <th>상성_드래곤</th>\n",
       "      <th>상성_전기</th>\n",
       "      <th>상성_페어리</th>\n",
       "      <th>상성_격투</th>\n",
       "      <th>상성_불</th>\n",
       "      <th>상성_비행</th>\n",
       "      <th>상성_고스트</th>\n",
       "      <th>...</th>\n",
       "      <th>수컷_비율</th>\n",
       "      <th>특수_공격</th>\n",
       "      <th>특수_방어</th>\n",
       "      <th>스피드</th>\n",
       "      <th>타입1</th>\n",
       "      <th>타입2</th>\n",
       "      <th>세대</th>\n",
       "      <th>전설의_포켓몬_여부</th>\n",
       "      <th>weakness_score</th>\n",
       "      <th>clusters</th>\n",
       "    </tr>\n",
       "  </thead>\n",
       "  <tbody>\n",
       "    <tr>\n",
       "      <th>2</th>\n",
       "      <td>['Overgrow', 'Chlorophyll']</td>\n",
       "      <td>1.0</td>\n",
       "      <td>1.0</td>\n",
       "      <td>1.0</td>\n",
       "      <td>0.5</td>\n",
       "      <td>0.5</td>\n",
       "      <td>0.5</td>\n",
       "      <td>2.0</td>\n",
       "      <td>2.0</td>\n",
       "      <td>1.0</td>\n",
       "      <td>...</td>\n",
       "      <td>88.1</td>\n",
       "      <td>122</td>\n",
       "      <td>120</td>\n",
       "      <td>80</td>\n",
       "      <td>풀</td>\n",
       "      <td>독</td>\n",
       "      <td>1</td>\n",
       "      <td>0</td>\n",
       "      <td>20.25</td>\n",
       "      <td>1</td>\n",
       "    </tr>\n",
       "    <tr>\n",
       "      <th>126</th>\n",
       "      <td>['Hyper Cutter', 'Mold Breaker', 'Moxie']</td>\n",
       "      <td>1.0</td>\n",
       "      <td>1.0</td>\n",
       "      <td>1.0</td>\n",
       "      <td>1.0</td>\n",
       "      <td>1.0</td>\n",
       "      <td>0.5</td>\n",
       "      <td>2.0</td>\n",
       "      <td>2.0</td>\n",
       "      <td>1.0</td>\n",
       "      <td>...</td>\n",
       "      <td>50.0</td>\n",
       "      <td>65</td>\n",
       "      <td>90</td>\n",
       "      <td>105</td>\n",
       "      <td>벌레</td>\n",
       "      <td>없음</td>\n",
       "      <td>1</td>\n",
       "      <td>0</td>\n",
       "      <td>20.50</td>\n",
       "      <td>1</td>\n",
       "    </tr>\n",
       "    <tr>\n",
       "      <th>211</th>\n",
       "      <td>['Swarm', 'Technician', 'Light Metal']</td>\n",
       "      <td>0.5</td>\n",
       "      <td>1.0</td>\n",
       "      <td>0.5</td>\n",
       "      <td>1.0</td>\n",
       "      <td>0.5</td>\n",
       "      <td>1.0</td>\n",
       "      <td>4.0</td>\n",
       "      <td>1.0</td>\n",
       "      <td>1.0</td>\n",
       "      <td>...</td>\n",
       "      <td>50.0</td>\n",
       "      <td>65</td>\n",
       "      <td>100</td>\n",
       "      <td>75</td>\n",
       "      <td>벌레</td>\n",
       "      <td>강철</td>\n",
       "      <td>2</td>\n",
       "      <td>0</td>\n",
       "      <td>16.75</td>\n",
       "      <td>1</td>\n",
       "    </tr>\n",
       "    <tr>\n",
       "      <th>213</th>\n",
       "      <td>['Swarm', 'Guts', 'Moxie']</td>\n",
       "      <td>0.5</td>\n",
       "      <td>0.5</td>\n",
       "      <td>1.0</td>\n",
       "      <td>1.0</td>\n",
       "      <td>2.0</td>\n",
       "      <td>0.5</td>\n",
       "      <td>2.0</td>\n",
       "      <td>4.0</td>\n",
       "      <td>1.0</td>\n",
       "      <td>...</td>\n",
       "      <td>50.0</td>\n",
       "      <td>40</td>\n",
       "      <td>105</td>\n",
       "      <td>75</td>\n",
       "      <td>벌레</td>\n",
       "      <td>격투</td>\n",
       "      <td>2</td>\n",
       "      <td>0</td>\n",
       "      <td>22.50</td>\n",
       "      <td>1</td>\n",
       "    </tr>\n",
       "    <tr>\n",
       "      <th>253</th>\n",
       "      <td>['Overgrow', 'Unburden']</td>\n",
       "      <td>2.0</td>\n",
       "      <td>1.0</td>\n",
       "      <td>1.0</td>\n",
       "      <td>0.5</td>\n",
       "      <td>1.0</td>\n",
       "      <td>1.0</td>\n",
       "      <td>2.0</td>\n",
       "      <td>2.0</td>\n",
       "      <td>1.0</td>\n",
       "      <td>...</td>\n",
       "      <td>88.1</td>\n",
       "      <td>145</td>\n",
       "      <td>85</td>\n",
       "      <td>145</td>\n",
       "      <td>풀</td>\n",
       "      <td>없음</td>\n",
       "      <td>3</td>\n",
       "      <td>0</td>\n",
       "      <td>22.00</td>\n",
       "      <td>1</td>\n",
       "    </tr>\n",
       "  </tbody>\n",
       "</table>\n",
       "<p>5 rows × 34 columns</p>\n",
       "</div>"
      ],
      "text/plain": [
       "                                            능력  상성_벌레  상성_악  상성_드래곤  상성_전기  \\\n",
       "2                  ['Overgrow', 'Chlorophyll']    1.0   1.0     1.0    0.5   \n",
       "126  ['Hyper Cutter', 'Mold Breaker', 'Moxie']    1.0   1.0     1.0    1.0   \n",
       "211     ['Swarm', 'Technician', 'Light Metal']    0.5   1.0     0.5    1.0   \n",
       "213                 ['Swarm', 'Guts', 'Moxie']    0.5   0.5     1.0    1.0   \n",
       "253                   ['Overgrow', 'Unburden']    2.0   1.0     1.0    0.5   \n",
       "\n",
       "     상성_페어리  상성_격투  상성_불  상성_비행  상성_고스트  ...  수컷_비율  특수_공격  특수_방어  스피드  타입1  \\\n",
       "2       0.5    0.5   2.0    2.0     1.0  ...   88.1    122    120   80    풀   \n",
       "126     1.0    0.5   2.0    2.0     1.0  ...   50.0     65     90  105   벌레   \n",
       "211     0.5    1.0   4.0    1.0     1.0  ...   50.0     65    100   75   벌레   \n",
       "213     2.0    0.5   2.0    4.0     1.0  ...   50.0     40    105   75   벌레   \n",
       "253     1.0    1.0   2.0    2.0     1.0  ...   88.1    145     85  145    풀   \n",
       "\n",
       "     타입2  세대  전설의_포켓몬_여부  weakness_score  clusters  \n",
       "2      독   1           0           20.25         1  \n",
       "126   없음   1           0           20.50         1  \n",
       "211   강철   2           0           16.75         1  \n",
       "213   격투   2           0           22.50         1  \n",
       "253   없음   3           0           22.00         1  \n",
       "\n",
       "[5 rows x 34 columns]"
      ]
     },
     "execution_count": 494,
     "metadata": {},
     "output_type": "execute_result"
    }
   ],
   "source": [
    "# 클러스터 4에 속한 5개의 포켓몬 선택\n",
    "cluster_2_pokemon = df1[(df1[\"clusters\"] == 1) & (df1[\"스탯_총합\"] >= 600) & (df1[\"전설의_포켓몬_여부\"] == 0)].head(5)\n",
    "cluster_2_pokemon"
   ]
  },
  {
   "cell_type": "code",
   "execution_count": 495,
   "id": "6f21f6c1",
   "metadata": {},
   "outputs": [
    {
     "name": "stdout",
     "output_type": "stream",
     "text": [
      "2      False\n",
      "126    False\n",
      "211    False\n",
      "213    False\n",
      "253     True\n",
      "Name: 이름, dtype: bool\n"
     ]
    }
   ],
   "source": [
    "print(cluster_2_pokemon['이름'] == 'Sceptile')"
   ]
  },
  {
   "cell_type": "code",
   "execution_count": 481,
   "id": "4b4a11b1",
   "metadata": {},
   "outputs": [],
   "source": [
    "# 역할에 따른 능력치 출력\n",
    "physical_sweeper_stats = cluster_2_pokemon[['이름', '공격', '스피드']]\n",
    "tanker_stats = cluster_2_pokemon[['이름', '체력', '방어', '특수_방어']]\n",
    "mixed_sweeper_stats = cluster_2_pokemon[['이름', '공격', '특수_공격', '스피드']]\n",
    "special_sweeper_stats = cluster_2_pokemon[['이름', '특수_공격', '스피드']]"
   ]
  },
  {
   "cell_type": "code",
   "execution_count": 485,
   "id": "44648f30",
   "metadata": {},
   "outputs": [],
   "source": [
    "# 능력치 합계 출력\n",
    "cluster_2_pokemon['physical_sweeper_score'] = cluster_2_pokemon['공격'] + cluster_2_pokemon['스피드']\n",
    "cluster_2_pokemon['tanker_score'] = cluster_2_pokemon['체력'] + cluster_2_pokemon['방어'] + cluster_2_pokemon['특수_방어']\n",
    "cluster_2_pokemon['mixed_sweeper_score'] = cluster_2_pokemon['공격'] + cluster_2_pokemon['특수_공격'] + cluster_2_pokemon['스피드']\n",
    "cluster_2_pokemon['special_sweeper_score'] = cluster_2_pokemon['특수_공격'] + cluster_2_pokemon['스피드']"
   ]
  },
  {
   "cell_type": "code",
   "execution_count": 486,
   "id": "aad6fcda",
   "metadata": {},
   "outputs": [
    {
     "name": "stdout",
     "output_type": "stream",
     "text": [
      "Physical Sweeper Stats2:\n",
      "            이름   공격  스피드\n",
      "2     Venusaur  100   80\n",
      "126     Pinsir  155  105\n",
      "211     Scizor  150   75\n",
      "213  Heracross  185   75\n",
      "253   Sceptile  110  145\n",
      "\n",
      "Physical Sweeper Scores2:\n",
      "            이름  physical_sweeper_score\n",
      "126     Pinsir                     260\n",
      "213  Heracross                     260\n",
      "253   Sceptile                     255\n",
      "211     Scizor                     225\n",
      "2     Venusaur                     180\n",
      "\n",
      "Tanker Stats2:\n",
      "            이름  체력   방어  특수_방어\n",
      "2     Venusaur  80  123    120\n",
      "126     Pinsir  65  120     90\n",
      "211     Scizor  70  140    100\n",
      "213  Heracross  80  115    105\n",
      "253   Sceptile  70   75     85\n",
      "\n",
      "Tanker Scores2:\n",
      "            이름  tanker_score\n",
      "2     Venusaur           323\n",
      "211     Scizor           310\n",
      "213  Heracross           300\n",
      "126     Pinsir           275\n",
      "253   Sceptile           230\n",
      "\n",
      "Mixed Sweeper Stats2:\n",
      "            이름   공격  특수_공격  스피드\n",
      "2     Venusaur  100    122   80\n",
      "126     Pinsir  155     65  105\n",
      "211     Scizor  150     65   75\n",
      "213  Heracross  185     40   75\n",
      "253   Sceptile  110    145  145\n",
      "\n",
      "Mixed Sweeper Scores2:\n",
      "            이름  mixed_sweeper_score\n",
      "253   Sceptile                  400\n",
      "126     Pinsir                  325\n",
      "2     Venusaur                  302\n",
      "213  Heracross                  300\n",
      "211     Scizor                  290\n",
      "\n",
      "Special Sweeper Stats2:\n",
      "            이름  특수_공격  스피드\n",
      "2     Venusaur    122   80\n",
      "126     Pinsir     65  105\n",
      "211     Scizor     65   75\n",
      "213  Heracross     40   75\n",
      "253   Sceptile    145  145\n",
      "\n",
      "Special Sweeper Scores2:\n",
      "            이름  special_sweeper_score\n",
      "253   Sceptile                    290\n",
      "2     Venusaur                    202\n",
      "126     Pinsir                    170\n",
      "211     Scizor                    140\n",
      "213  Heracross                    115\n"
     ]
    }
   ],
   "source": [
    "# 출력\n",
    "print(\"Physical Sweeper Stats2:\")\n",
    "print(physical_sweeper_stats)\n",
    "print(\"\\nPhysical Sweeper Scores2:\")\n",
    "print(cluster_2_pokemon[['이름', 'physical_sweeper_score']].sort_values(by='physical_sweeper_score', ascending=False).head(5))\n",
    "\n",
    "print(\"\\nTanker Stats2:\")\n",
    "print(tanker_stats)\n",
    "print(\"\\nTanker Scores2:\")\n",
    "print(cluster_2_pokemon[['이름', 'tanker_score']].sort_values(by='tanker_score', ascending=False).head(5))\n",
    "\n",
    "print(\"\\nMixed Sweeper Stats2:\")\n",
    "print(mixed_sweeper_stats)\n",
    "print(\"\\nMixed Sweeper Scores2:\")\n",
    "print(cluster_2_pokemon[['이름', 'mixed_sweeper_score']].sort_values(by='mixed_sweeper_score', ascending=False).head(5))\n",
    "\n",
    "print(\"\\nSpecial Sweeper Stats2:\")\n",
    "print(special_sweeper_stats)\n",
    "print(\"\\nSpecial Sweeper Scores2:\")\n",
    "print(cluster_2_pokemon[['이름', 'special_sweeper_score']].sort_values(by='special_sweeper_score', ascending=False).head(5))\n"
   ]
  },
  {
   "cell_type": "code",
   "execution_count": null,
   "id": "d14a649e",
   "metadata": {},
   "outputs": [],
   "source": []
  },
  {
   "cell_type": "code",
   "execution_count": 229,
   "id": "3e05e5d8",
   "metadata": {},
   "outputs": [],
   "source": [
    "#cluster3"
   ]
  },
  {
   "cell_type": "code",
   "execution_count": 299,
   "id": "94b1cde2",
   "metadata": {},
   "outputs": [
    {
     "data": {
      "application/vnd.plotly.v1+json": {
       "config": {
        "plotlyServerURL": "https://plot.ly"
       },
       "data": [
        {
         "marker": {
          "color": [
           0,
           1,
           2,
           3,
           4,
           5,
           6,
           7,
           8,
           9,
           10,
           11,
           12,
           13,
           14,
           15,
           16,
           17,
           18,
           19
          ],
          "colorscale": [
           [
            0,
            "rgb(252, 222, 156)"
           ],
           [
            0.16666666666666666,
            "rgb(250, 164, 118)"
           ],
           [
            0.3333333333333333,
            "rgb(240, 116, 110)"
           ],
           [
            0.5,
            "rgb(227, 79, 111)"
           ],
           [
            0.6666666666666666,
            "rgb(220, 57, 119)"
           ],
           [
            0.8333333333333334,
            "rgb(185, 37, 122)"
           ],
           [
            1,
            "rgb(124, 29, 111)"
           ]
          ]
         },
         "type": "bar",
         "x": [
          "상성_벌레",
          "상성_악",
          "상성_드래곤",
          "상성_전기",
          "상성_요정",
          "상성_격투",
          "상성_불",
          "상성_비행",
          "상성_고스트",
          "상성_풀",
          "상성_땅",
          "상성_얼음",
          "상성_노멀",
          "상성_독",
          "상성_에스퍼",
          "상성_바위",
          "상성_강철",
          "상성_물"
         ],
         "y": [
          0.536036036036036,
          1.0360360360360361,
          1.027027027027027,
          1.864864864864865,
          0.9954954954954955,
          0.5855855855855856,
          1.1576576576576576,
          1.2567567567567568,
          0.8153153153153153,
          0.4864864864864865,
          0.14864864864864866,
          1.8063063063063063,
          0.954954954954955,
          0.8918918918918919,
          1.063063063063063,
          2.3603603603603602,
          0.9594594594594594,
          1.054054054054054
         ]
        }
       ],
       "layout": {
        "paper_bgcolor": "mintcream",
        "template": {
         "data": {
          "bar": [
           {
            "error_x": {
             "color": "#2a3f5f"
            },
            "error_y": {
             "color": "#2a3f5f"
            },
            "marker": {
             "line": {
              "color": "#E5ECF6",
              "width": 0.5
             },
             "pattern": {
              "fillmode": "overlay",
              "size": 10,
              "solidity": 0.2
             }
            },
            "type": "bar"
           }
          ],
          "barpolar": [
           {
            "marker": {
             "line": {
              "color": "#E5ECF6",
              "width": 0.5
             },
             "pattern": {
              "fillmode": "overlay",
              "size": 10,
              "solidity": 0.2
             }
            },
            "type": "barpolar"
           }
          ],
          "carpet": [
           {
            "aaxis": {
             "endlinecolor": "#2a3f5f",
             "gridcolor": "white",
             "linecolor": "white",
             "minorgridcolor": "white",
             "startlinecolor": "#2a3f5f"
            },
            "baxis": {
             "endlinecolor": "#2a3f5f",
             "gridcolor": "white",
             "linecolor": "white",
             "minorgridcolor": "white",
             "startlinecolor": "#2a3f5f"
            },
            "type": "carpet"
           }
          ],
          "choropleth": [
           {
            "colorbar": {
             "outlinewidth": 0,
             "ticks": ""
            },
            "type": "choropleth"
           }
          ],
          "contour": [
           {
            "colorbar": {
             "outlinewidth": 0,
             "ticks": ""
            },
            "colorscale": [
             [
              0,
              "#0d0887"
             ],
             [
              0.1111111111111111,
              "#46039f"
             ],
             [
              0.2222222222222222,
              "#7201a8"
             ],
             [
              0.3333333333333333,
              "#9c179e"
             ],
             [
              0.4444444444444444,
              "#bd3786"
             ],
             [
              0.5555555555555556,
              "#d8576b"
             ],
             [
              0.6666666666666666,
              "#ed7953"
             ],
             [
              0.7777777777777778,
              "#fb9f3a"
             ],
             [
              0.8888888888888888,
              "#fdca26"
             ],
             [
              1,
              "#f0f921"
             ]
            ],
            "type": "contour"
           }
          ],
          "contourcarpet": [
           {
            "colorbar": {
             "outlinewidth": 0,
             "ticks": ""
            },
            "type": "contourcarpet"
           }
          ],
          "heatmap": [
           {
            "colorbar": {
             "outlinewidth": 0,
             "ticks": ""
            },
            "colorscale": [
             [
              0,
              "#0d0887"
             ],
             [
              0.1111111111111111,
              "#46039f"
             ],
             [
              0.2222222222222222,
              "#7201a8"
             ],
             [
              0.3333333333333333,
              "#9c179e"
             ],
             [
              0.4444444444444444,
              "#bd3786"
             ],
             [
              0.5555555555555556,
              "#d8576b"
             ],
             [
              0.6666666666666666,
              "#ed7953"
             ],
             [
              0.7777777777777778,
              "#fb9f3a"
             ],
             [
              0.8888888888888888,
              "#fdca26"
             ],
             [
              1,
              "#f0f921"
             ]
            ],
            "type": "heatmap"
           }
          ],
          "heatmapgl": [
           {
            "colorbar": {
             "outlinewidth": 0,
             "ticks": ""
            },
            "colorscale": [
             [
              0,
              "#0d0887"
             ],
             [
              0.1111111111111111,
              "#46039f"
             ],
             [
              0.2222222222222222,
              "#7201a8"
             ],
             [
              0.3333333333333333,
              "#9c179e"
             ],
             [
              0.4444444444444444,
              "#bd3786"
             ],
             [
              0.5555555555555556,
              "#d8576b"
             ],
             [
              0.6666666666666666,
              "#ed7953"
             ],
             [
              0.7777777777777778,
              "#fb9f3a"
             ],
             [
              0.8888888888888888,
              "#fdca26"
             ],
             [
              1,
              "#f0f921"
             ]
            ],
            "type": "heatmapgl"
           }
          ],
          "histogram": [
           {
            "marker": {
             "pattern": {
              "fillmode": "overlay",
              "size": 10,
              "solidity": 0.2
             }
            },
            "type": "histogram"
           }
          ],
          "histogram2d": [
           {
            "colorbar": {
             "outlinewidth": 0,
             "ticks": ""
            },
            "colorscale": [
             [
              0,
              "#0d0887"
             ],
             [
              0.1111111111111111,
              "#46039f"
             ],
             [
              0.2222222222222222,
              "#7201a8"
             ],
             [
              0.3333333333333333,
              "#9c179e"
             ],
             [
              0.4444444444444444,
              "#bd3786"
             ],
             [
              0.5555555555555556,
              "#d8576b"
             ],
             [
              0.6666666666666666,
              "#ed7953"
             ],
             [
              0.7777777777777778,
              "#fb9f3a"
             ],
             [
              0.8888888888888888,
              "#fdca26"
             ],
             [
              1,
              "#f0f921"
             ]
            ],
            "type": "histogram2d"
           }
          ],
          "histogram2dcontour": [
           {
            "colorbar": {
             "outlinewidth": 0,
             "ticks": ""
            },
            "colorscale": [
             [
              0,
              "#0d0887"
             ],
             [
              0.1111111111111111,
              "#46039f"
             ],
             [
              0.2222222222222222,
              "#7201a8"
             ],
             [
              0.3333333333333333,
              "#9c179e"
             ],
             [
              0.4444444444444444,
              "#bd3786"
             ],
             [
              0.5555555555555556,
              "#d8576b"
             ],
             [
              0.6666666666666666,
              "#ed7953"
             ],
             [
              0.7777777777777778,
              "#fb9f3a"
             ],
             [
              0.8888888888888888,
              "#fdca26"
             ],
             [
              1,
              "#f0f921"
             ]
            ],
            "type": "histogram2dcontour"
           }
          ],
          "mesh3d": [
           {
            "colorbar": {
             "outlinewidth": 0,
             "ticks": ""
            },
            "type": "mesh3d"
           }
          ],
          "parcoords": [
           {
            "line": {
             "colorbar": {
              "outlinewidth": 0,
              "ticks": ""
             }
            },
            "type": "parcoords"
           }
          ],
          "pie": [
           {
            "automargin": true,
            "type": "pie"
           }
          ],
          "scatter": [
           {
            "fillpattern": {
             "fillmode": "overlay",
             "size": 10,
             "solidity": 0.2
            },
            "type": "scatter"
           }
          ],
          "scatter3d": [
           {
            "line": {
             "colorbar": {
              "outlinewidth": 0,
              "ticks": ""
             }
            },
            "marker": {
             "colorbar": {
              "outlinewidth": 0,
              "ticks": ""
             }
            },
            "type": "scatter3d"
           }
          ],
          "scattercarpet": [
           {
            "marker": {
             "colorbar": {
              "outlinewidth": 0,
              "ticks": ""
             }
            },
            "type": "scattercarpet"
           }
          ],
          "scattergeo": [
           {
            "marker": {
             "colorbar": {
              "outlinewidth": 0,
              "ticks": ""
             }
            },
            "type": "scattergeo"
           }
          ],
          "scattergl": [
           {
            "marker": {
             "colorbar": {
              "outlinewidth": 0,
              "ticks": ""
             }
            },
            "type": "scattergl"
           }
          ],
          "scattermapbox": [
           {
            "marker": {
             "colorbar": {
              "outlinewidth": 0,
              "ticks": ""
             }
            },
            "type": "scattermapbox"
           }
          ],
          "scatterpolar": [
           {
            "marker": {
             "colorbar": {
              "outlinewidth": 0,
              "ticks": ""
             }
            },
            "type": "scatterpolar"
           }
          ],
          "scatterpolargl": [
           {
            "marker": {
             "colorbar": {
              "outlinewidth": 0,
              "ticks": ""
             }
            },
            "type": "scatterpolargl"
           }
          ],
          "scatterternary": [
           {
            "marker": {
             "colorbar": {
              "outlinewidth": 0,
              "ticks": ""
             }
            },
            "type": "scatterternary"
           }
          ],
          "surface": [
           {
            "colorbar": {
             "outlinewidth": 0,
             "ticks": ""
            },
            "colorscale": [
             [
              0,
              "#0d0887"
             ],
             [
              0.1111111111111111,
              "#46039f"
             ],
             [
              0.2222222222222222,
              "#7201a8"
             ],
             [
              0.3333333333333333,
              "#9c179e"
             ],
             [
              0.4444444444444444,
              "#bd3786"
             ],
             [
              0.5555555555555556,
              "#d8576b"
             ],
             [
              0.6666666666666666,
              "#ed7953"
             ],
             [
              0.7777777777777778,
              "#fb9f3a"
             ],
             [
              0.8888888888888888,
              "#fdca26"
             ],
             [
              1,
              "#f0f921"
             ]
            ],
            "type": "surface"
           }
          ],
          "table": [
           {
            "cells": {
             "fill": {
              "color": "#EBF0F8"
             },
             "line": {
              "color": "white"
             }
            },
            "header": {
             "fill": {
              "color": "#C8D4E3"
             },
             "line": {
              "color": "white"
             }
            },
            "type": "table"
           }
          ]
         },
         "layout": {
          "annotationdefaults": {
           "arrowcolor": "#2a3f5f",
           "arrowhead": 0,
           "arrowwidth": 1
          },
          "autotypenumbers": "strict",
          "coloraxis": {
           "colorbar": {
            "outlinewidth": 0,
            "ticks": ""
           }
          },
          "colorscale": {
           "diverging": [
            [
             0,
             "#8e0152"
            ],
            [
             0.1,
             "#c51b7d"
            ],
            [
             0.2,
             "#de77ae"
            ],
            [
             0.3,
             "#f1b6da"
            ],
            [
             0.4,
             "#fde0ef"
            ],
            [
             0.5,
             "#f7f7f7"
            ],
            [
             0.6,
             "#e6f5d0"
            ],
            [
             0.7,
             "#b8e186"
            ],
            [
             0.8,
             "#7fbc41"
            ],
            [
             0.9,
             "#4d9221"
            ],
            [
             1,
             "#276419"
            ]
           ],
           "sequential": [
            [
             0,
             "#0d0887"
            ],
            [
             0.1111111111111111,
             "#46039f"
            ],
            [
             0.2222222222222222,
             "#7201a8"
            ],
            [
             0.3333333333333333,
             "#9c179e"
            ],
            [
             0.4444444444444444,
             "#bd3786"
            ],
            [
             0.5555555555555556,
             "#d8576b"
            ],
            [
             0.6666666666666666,
             "#ed7953"
            ],
            [
             0.7777777777777778,
             "#fb9f3a"
            ],
            [
             0.8888888888888888,
             "#fdca26"
            ],
            [
             1,
             "#f0f921"
            ]
           ],
           "sequentialminus": [
            [
             0,
             "#0d0887"
            ],
            [
             0.1111111111111111,
             "#46039f"
            ],
            [
             0.2222222222222222,
             "#7201a8"
            ],
            [
             0.3333333333333333,
             "#9c179e"
            ],
            [
             0.4444444444444444,
             "#bd3786"
            ],
            [
             0.5555555555555556,
             "#d8576b"
            ],
            [
             0.6666666666666666,
             "#ed7953"
            ],
            [
             0.7777777777777778,
             "#fb9f3a"
            ],
            [
             0.8888888888888888,
             "#fdca26"
            ],
            [
             1,
             "#f0f921"
            ]
           ]
          },
          "colorway": [
           "#636efa",
           "#EF553B",
           "#00cc96",
           "#ab63fa",
           "#FFA15A",
           "#19d3f3",
           "#FF6692",
           "#B6E880",
           "#FF97FF",
           "#FECB52"
          ],
          "font": {
           "color": "#2a3f5f"
          },
          "geo": {
           "bgcolor": "white",
           "lakecolor": "white",
           "landcolor": "#E5ECF6",
           "showlakes": true,
           "showland": true,
           "subunitcolor": "white"
          },
          "hoverlabel": {
           "align": "left"
          },
          "hovermode": "closest",
          "mapbox": {
           "style": "light"
          },
          "paper_bgcolor": "white",
          "plot_bgcolor": "#E5ECF6",
          "polar": {
           "angularaxis": {
            "gridcolor": "white",
            "linecolor": "white",
            "ticks": ""
           },
           "bgcolor": "#E5ECF6",
           "radialaxis": {
            "gridcolor": "white",
            "linecolor": "white",
            "ticks": ""
           }
          },
          "scene": {
           "xaxis": {
            "backgroundcolor": "#E5ECF6",
            "gridcolor": "white",
            "gridwidth": 2,
            "linecolor": "white",
            "showbackground": true,
            "ticks": "",
            "zerolinecolor": "white"
           },
           "yaxis": {
            "backgroundcolor": "#E5ECF6",
            "gridcolor": "white",
            "gridwidth": 2,
            "linecolor": "white",
            "showbackground": true,
            "ticks": "",
            "zerolinecolor": "white"
           },
           "zaxis": {
            "backgroundcolor": "#E5ECF6",
            "gridcolor": "white",
            "gridwidth": 2,
            "linecolor": "white",
            "showbackground": true,
            "ticks": "",
            "zerolinecolor": "white"
           }
          },
          "shapedefaults": {
           "line": {
            "color": "#2a3f5f"
           }
          },
          "ternary": {
           "aaxis": {
            "gridcolor": "white",
            "linecolor": "white",
            "ticks": ""
           },
           "baxis": {
            "gridcolor": "white",
            "linecolor": "white",
            "ticks": ""
           },
           "bgcolor": "#E5ECF6",
           "caxis": {
            "gridcolor": "white",
            "linecolor": "white",
            "ticks": ""
           }
          },
          "title": {
           "x": 0.05
          },
          "xaxis": {
           "automargin": true,
           "gridcolor": "white",
           "linecolor": "white",
           "ticks": "",
           "title": {
            "standoff": 15
           },
           "zerolinecolor": "white",
           "zerolinewidth": 2
          },
          "yaxis": {
           "automargin": true,
           "gridcolor": "white",
           "linecolor": "white",
           "ticks": "",
           "title": {
            "standoff": 15
           },
           "zerolinecolor": "white",
           "zerolinewidth": 2
          }
         }
        },
        "title": {
         "font": {
          "size": 20
         },
         "text": "Cluster 3 Weakness Chart",
         "x": 0.5
        },
        "xaxis": {
         "title": {
          "text": "Poke Type"
         }
        },
        "yaxis": {
         "title": {
          "text": "Damage Multiplyer"
         }
        }
       }
      },
      "text/html": [
       "<div>                            <div id=\"0b4aee1b-aac5-47c6-8236-db2e71126d62\" class=\"plotly-graph-div\" style=\"height:525px; width:100%;\"></div>            <script type=\"text/javascript\">                require([\"plotly\"], function(Plotly) {                    window.PLOTLYENV=window.PLOTLYENV || {};                                    if (document.getElementById(\"0b4aee1b-aac5-47c6-8236-db2e71126d62\")) {                    Plotly.newPlot(                        \"0b4aee1b-aac5-47c6-8236-db2e71126d62\",                        [{\"marker\":{\"color\":[0,1,2,3,4,5,6,7,8,9,10,11,12,13,14,15,16,17,18,19],\"colorscale\":[[0.0,\"rgb(252, 222, 156)\"],[0.16666666666666666,\"rgb(250, 164, 118)\"],[0.3333333333333333,\"rgb(240, 116, 110)\"],[0.5,\"rgb(227, 79, 111)\"],[0.6666666666666666,\"rgb(220, 57, 119)\"],[0.8333333333333334,\"rgb(185, 37, 122)\"],[1.0,\"rgb(124, 29, 111)\"]]},\"x\":[\"\\uc0c1\\uc131_\\ubc8c\\ub808\",\"\\uc0c1\\uc131_\\uc545\",\"\\uc0c1\\uc131_\\ub4dc\\ub798\\uace4\",\"\\uc0c1\\uc131_\\uc804\\uae30\",\"\\uc0c1\\uc131_\\uc694\\uc815\",\"\\uc0c1\\uc131_\\uaca9\\ud22c\",\"\\uc0c1\\uc131_\\ubd88\",\"\\uc0c1\\uc131_\\ube44\\ud589\",\"\\uc0c1\\uc131_\\uace0\\uc2a4\\ud2b8\",\"\\uc0c1\\uc131_\\ud480\",\"\\uc0c1\\uc131_\\ub545\",\"\\uc0c1\\uc131_\\uc5bc\\uc74c\",\"\\uc0c1\\uc131_\\ub178\\uba40\",\"\\uc0c1\\uc131_\\ub3c5\",\"\\uc0c1\\uc131_\\uc5d0\\uc2a4\\ud37c\",\"\\uc0c1\\uc131_\\ubc14\\uc704\",\"\\uc0c1\\uc131_\\uac15\\ucca0\",\"\\uc0c1\\uc131_\\ubb3c\"],\"y\":[0.536036036036036,1.0360360360360361,1.027027027027027,1.864864864864865,0.9954954954954955,0.5855855855855856,1.1576576576576576,1.2567567567567568,0.8153153153153153,0.4864864864864865,0.14864864864864866,1.8063063063063063,0.954954954954955,0.8918918918918919,1.063063063063063,2.3603603603603602,0.9594594594594594,1.054054054054054],\"type\":\"bar\"}],                        {\"template\":{\"data\":{\"histogram2dcontour\":[{\"type\":\"histogram2dcontour\",\"colorbar\":{\"outlinewidth\":0,\"ticks\":\"\"},\"colorscale\":[[0.0,\"#0d0887\"],[0.1111111111111111,\"#46039f\"],[0.2222222222222222,\"#7201a8\"],[0.3333333333333333,\"#9c179e\"],[0.4444444444444444,\"#bd3786\"],[0.5555555555555556,\"#d8576b\"],[0.6666666666666666,\"#ed7953\"],[0.7777777777777778,\"#fb9f3a\"],[0.8888888888888888,\"#fdca26\"],[1.0,\"#f0f921\"]]}],\"choropleth\":[{\"type\":\"choropleth\",\"colorbar\":{\"outlinewidth\":0,\"ticks\":\"\"}}],\"histogram2d\":[{\"type\":\"histogram2d\",\"colorbar\":{\"outlinewidth\":0,\"ticks\":\"\"},\"colorscale\":[[0.0,\"#0d0887\"],[0.1111111111111111,\"#46039f\"],[0.2222222222222222,\"#7201a8\"],[0.3333333333333333,\"#9c179e\"],[0.4444444444444444,\"#bd3786\"],[0.5555555555555556,\"#d8576b\"],[0.6666666666666666,\"#ed7953\"],[0.7777777777777778,\"#fb9f3a\"],[0.8888888888888888,\"#fdca26\"],[1.0,\"#f0f921\"]]}],\"heatmap\":[{\"type\":\"heatmap\",\"colorbar\":{\"outlinewidth\":0,\"ticks\":\"\"},\"colorscale\":[[0.0,\"#0d0887\"],[0.1111111111111111,\"#46039f\"],[0.2222222222222222,\"#7201a8\"],[0.3333333333333333,\"#9c179e\"],[0.4444444444444444,\"#bd3786\"],[0.5555555555555556,\"#d8576b\"],[0.6666666666666666,\"#ed7953\"],[0.7777777777777778,\"#fb9f3a\"],[0.8888888888888888,\"#fdca26\"],[1.0,\"#f0f921\"]]}],\"heatmapgl\":[{\"type\":\"heatmapgl\",\"colorbar\":{\"outlinewidth\":0,\"ticks\":\"\"},\"colorscale\":[[0.0,\"#0d0887\"],[0.1111111111111111,\"#46039f\"],[0.2222222222222222,\"#7201a8\"],[0.3333333333333333,\"#9c179e\"],[0.4444444444444444,\"#bd3786\"],[0.5555555555555556,\"#d8576b\"],[0.6666666666666666,\"#ed7953\"],[0.7777777777777778,\"#fb9f3a\"],[0.8888888888888888,\"#fdca26\"],[1.0,\"#f0f921\"]]}],\"contourcarpet\":[{\"type\":\"contourcarpet\",\"colorbar\":{\"outlinewidth\":0,\"ticks\":\"\"}}],\"contour\":[{\"type\":\"contour\",\"colorbar\":{\"outlinewidth\":0,\"ticks\":\"\"},\"colorscale\":[[0.0,\"#0d0887\"],[0.1111111111111111,\"#46039f\"],[0.2222222222222222,\"#7201a8\"],[0.3333333333333333,\"#9c179e\"],[0.4444444444444444,\"#bd3786\"],[0.5555555555555556,\"#d8576b\"],[0.6666666666666666,\"#ed7953\"],[0.7777777777777778,\"#fb9f3a\"],[0.8888888888888888,\"#fdca26\"],[1.0,\"#f0f921\"]]}],\"surface\":[{\"type\":\"surface\",\"colorbar\":{\"outlinewidth\":0,\"ticks\":\"\"},\"colorscale\":[[0.0,\"#0d0887\"],[0.1111111111111111,\"#46039f\"],[0.2222222222222222,\"#7201a8\"],[0.3333333333333333,\"#9c179e\"],[0.4444444444444444,\"#bd3786\"],[0.5555555555555556,\"#d8576b\"],[0.6666666666666666,\"#ed7953\"],[0.7777777777777778,\"#fb9f3a\"],[0.8888888888888888,\"#fdca26\"],[1.0,\"#f0f921\"]]}],\"mesh3d\":[{\"type\":\"mesh3d\",\"colorbar\":{\"outlinewidth\":0,\"ticks\":\"\"}}],\"scatter\":[{\"fillpattern\":{\"fillmode\":\"overlay\",\"size\":10,\"solidity\":0.2},\"type\":\"scatter\"}],\"parcoords\":[{\"type\":\"parcoords\",\"line\":{\"colorbar\":{\"outlinewidth\":0,\"ticks\":\"\"}}}],\"scatterpolargl\":[{\"type\":\"scatterpolargl\",\"marker\":{\"colorbar\":{\"outlinewidth\":0,\"ticks\":\"\"}}}],\"bar\":[{\"error_x\":{\"color\":\"#2a3f5f\"},\"error_y\":{\"color\":\"#2a3f5f\"},\"marker\":{\"line\":{\"color\":\"#E5ECF6\",\"width\":0.5},\"pattern\":{\"fillmode\":\"overlay\",\"size\":10,\"solidity\":0.2}},\"type\":\"bar\"}],\"scattergeo\":[{\"type\":\"scattergeo\",\"marker\":{\"colorbar\":{\"outlinewidth\":0,\"ticks\":\"\"}}}],\"scatterpolar\":[{\"type\":\"scatterpolar\",\"marker\":{\"colorbar\":{\"outlinewidth\":0,\"ticks\":\"\"}}}],\"histogram\":[{\"marker\":{\"pattern\":{\"fillmode\":\"overlay\",\"size\":10,\"solidity\":0.2}},\"type\":\"histogram\"}],\"scattergl\":[{\"type\":\"scattergl\",\"marker\":{\"colorbar\":{\"outlinewidth\":0,\"ticks\":\"\"}}}],\"scatter3d\":[{\"type\":\"scatter3d\",\"line\":{\"colorbar\":{\"outlinewidth\":0,\"ticks\":\"\"}},\"marker\":{\"colorbar\":{\"outlinewidth\":0,\"ticks\":\"\"}}}],\"scattermapbox\":[{\"type\":\"scattermapbox\",\"marker\":{\"colorbar\":{\"outlinewidth\":0,\"ticks\":\"\"}}}],\"scatterternary\":[{\"type\":\"scatterternary\",\"marker\":{\"colorbar\":{\"outlinewidth\":0,\"ticks\":\"\"}}}],\"scattercarpet\":[{\"type\":\"scattercarpet\",\"marker\":{\"colorbar\":{\"outlinewidth\":0,\"ticks\":\"\"}}}],\"carpet\":[{\"aaxis\":{\"endlinecolor\":\"#2a3f5f\",\"gridcolor\":\"white\",\"linecolor\":\"white\",\"minorgridcolor\":\"white\",\"startlinecolor\":\"#2a3f5f\"},\"baxis\":{\"endlinecolor\":\"#2a3f5f\",\"gridcolor\":\"white\",\"linecolor\":\"white\",\"minorgridcolor\":\"white\",\"startlinecolor\":\"#2a3f5f\"},\"type\":\"carpet\"}],\"table\":[{\"cells\":{\"fill\":{\"color\":\"#EBF0F8\"},\"line\":{\"color\":\"white\"}},\"header\":{\"fill\":{\"color\":\"#C8D4E3\"},\"line\":{\"color\":\"white\"}},\"type\":\"table\"}],\"barpolar\":[{\"marker\":{\"line\":{\"color\":\"#E5ECF6\",\"width\":0.5},\"pattern\":{\"fillmode\":\"overlay\",\"size\":10,\"solidity\":0.2}},\"type\":\"barpolar\"}],\"pie\":[{\"automargin\":true,\"type\":\"pie\"}]},\"layout\":{\"autotypenumbers\":\"strict\",\"colorway\":[\"#636efa\",\"#EF553B\",\"#00cc96\",\"#ab63fa\",\"#FFA15A\",\"#19d3f3\",\"#FF6692\",\"#B6E880\",\"#FF97FF\",\"#FECB52\"],\"font\":{\"color\":\"#2a3f5f\"},\"hovermode\":\"closest\",\"hoverlabel\":{\"align\":\"left\"},\"paper_bgcolor\":\"white\",\"plot_bgcolor\":\"#E5ECF6\",\"polar\":{\"bgcolor\":\"#E5ECF6\",\"angularaxis\":{\"gridcolor\":\"white\",\"linecolor\":\"white\",\"ticks\":\"\"},\"radialaxis\":{\"gridcolor\":\"white\",\"linecolor\":\"white\",\"ticks\":\"\"}},\"ternary\":{\"bgcolor\":\"#E5ECF6\",\"aaxis\":{\"gridcolor\":\"white\",\"linecolor\":\"white\",\"ticks\":\"\"},\"baxis\":{\"gridcolor\":\"white\",\"linecolor\":\"white\",\"ticks\":\"\"},\"caxis\":{\"gridcolor\":\"white\",\"linecolor\":\"white\",\"ticks\":\"\"}},\"coloraxis\":{\"colorbar\":{\"outlinewidth\":0,\"ticks\":\"\"}},\"colorscale\":{\"sequential\":[[0.0,\"#0d0887\"],[0.1111111111111111,\"#46039f\"],[0.2222222222222222,\"#7201a8\"],[0.3333333333333333,\"#9c179e\"],[0.4444444444444444,\"#bd3786\"],[0.5555555555555556,\"#d8576b\"],[0.6666666666666666,\"#ed7953\"],[0.7777777777777778,\"#fb9f3a\"],[0.8888888888888888,\"#fdca26\"],[1.0,\"#f0f921\"]],\"sequentialminus\":[[0.0,\"#0d0887\"],[0.1111111111111111,\"#46039f\"],[0.2222222222222222,\"#7201a8\"],[0.3333333333333333,\"#9c179e\"],[0.4444444444444444,\"#bd3786\"],[0.5555555555555556,\"#d8576b\"],[0.6666666666666666,\"#ed7953\"],[0.7777777777777778,\"#fb9f3a\"],[0.8888888888888888,\"#fdca26\"],[1.0,\"#f0f921\"]],\"diverging\":[[0,\"#8e0152\"],[0.1,\"#c51b7d\"],[0.2,\"#de77ae\"],[0.3,\"#f1b6da\"],[0.4,\"#fde0ef\"],[0.5,\"#f7f7f7\"],[0.6,\"#e6f5d0\"],[0.7,\"#b8e186\"],[0.8,\"#7fbc41\"],[0.9,\"#4d9221\"],[1,\"#276419\"]]},\"xaxis\":{\"gridcolor\":\"white\",\"linecolor\":\"white\",\"ticks\":\"\",\"title\":{\"standoff\":15},\"zerolinecolor\":\"white\",\"automargin\":true,\"zerolinewidth\":2},\"yaxis\":{\"gridcolor\":\"white\",\"linecolor\":\"white\",\"ticks\":\"\",\"title\":{\"standoff\":15},\"zerolinecolor\":\"white\",\"automargin\":true,\"zerolinewidth\":2},\"scene\":{\"xaxis\":{\"backgroundcolor\":\"#E5ECF6\",\"gridcolor\":\"white\",\"linecolor\":\"white\",\"showbackground\":true,\"ticks\":\"\",\"zerolinecolor\":\"white\",\"gridwidth\":2},\"yaxis\":{\"backgroundcolor\":\"#E5ECF6\",\"gridcolor\":\"white\",\"linecolor\":\"white\",\"showbackground\":true,\"ticks\":\"\",\"zerolinecolor\":\"white\",\"gridwidth\":2},\"zaxis\":{\"backgroundcolor\":\"#E5ECF6\",\"gridcolor\":\"white\",\"linecolor\":\"white\",\"showbackground\":true,\"ticks\":\"\",\"zerolinecolor\":\"white\",\"gridwidth\":2}},\"shapedefaults\":{\"line\":{\"color\":\"#2a3f5f\"}},\"annotationdefaults\":{\"arrowcolor\":\"#2a3f5f\",\"arrowhead\":0,\"arrowwidth\":1},\"geo\":{\"bgcolor\":\"white\",\"landcolor\":\"#E5ECF6\",\"subunitcolor\":\"white\",\"showland\":true,\"showlakes\":true,\"lakecolor\":\"white\"},\"title\":{\"x\":0.05},\"mapbox\":{\"style\":\"light\"}}},\"title\":{\"text\":\"Cluster 3 Weakness Chart\",\"x\":0.5,\"font\":{\"size\":20}},\"xaxis\":{\"title\":{\"text\":\"Poke Type\"}},\"yaxis\":{\"title\":{\"text\":\"Damage Multiplyer\"}},\"paper_bgcolor\":\"mintcream\"},                        {\"responsive\": true}                    ).then(function(){\n",
       "                            \n",
       "var gd = document.getElementById('0b4aee1b-aac5-47c6-8236-db2e71126d62');\n",
       "var x = new MutationObserver(function (mutations, observer) {{\n",
       "        var display = window.getComputedStyle(gd).display;\n",
       "        if (!display || display === 'none') {{\n",
       "            console.log([gd, 'removed!']);\n",
       "            Plotly.purge(gd);\n",
       "            observer.disconnect();\n",
       "        }}\n",
       "}});\n",
       "\n",
       "// Listen for the removal of the full notebook cells\n",
       "var notebookContainer = gd.closest('#notebook-container');\n",
       "if (notebookContainer) {{\n",
       "    x.observe(notebookContainer, {childList: true});\n",
       "}}\n",
       "\n",
       "// Listen for the clearing of the current output cell\n",
       "var outputEl = gd.closest('.output');\n",
       "if (outputEl) {{\n",
       "    x.observe(outputEl, {childList: true});\n",
       "}}\n",
       "\n",
       "                        })                };                });            </script>        </div>"
      ]
     },
     "metadata": {},
     "output_type": "display_data"
    }
   ],
   "source": [
    "fig_country = go.Figure()\n",
    "fig_country.add_trace(go.Bar(x=type_effectiveness_cols,y=pts[2], marker=dict(color=list(range(20)), colorscale=\"Sunsetdark\")))\n",
    "\n",
    "fig_country.update_layout(title=\"Cluster 3 Weakness Chart\",\n",
    "                             xaxis_title=\"Poke Type\", yaxis_title=\"Damage Multiplyer\",title_x=0.5, paper_bgcolor=\"mintcream\",\n",
    "                             title_font_size=20)\n",
    "fig_country.show()"
   ]
  },
  {
   "cell_type": "markdown",
   "id": "f2dc2b2f",
   "metadata": {},
   "source": [
    "클러스터3에 속하는포켓몬들은 바위,얼음,전기 에 매우 약함. 땅, 격투, 벌레에 배우 강하거나 영향을 덜받음 \n",
    "그러한 종류로는 리자몽, 갸라도스, 프레타,망나뇽, 보만다 (드래곤 타입)"
   ]
  },
  {
   "cell_type": "code",
   "execution_count": 318,
   "id": "647d47f9",
   "metadata": {},
   "outputs": [
    {
     "data": {
      "text/plain": [
       "5      Charizard\n",
       "11    Butterfree\n",
       "12        Weedle\n",
       "13        Kakuna\n",
       "14      Beedrill\n",
       "Name: 이름, dtype: object"
      ]
     },
     "execution_count": 318,
     "metadata": {},
     "output_type": "execute_result"
    }
   ],
   "source": [
    "selected_pokemon = df1[(df1[\"clusters\"] == 2)]['이름'].head(5)\n",
    "selected_pokemon  # 클러스터 기준(그래서 바위에 약한가보다) (기준)  리자몽,버터플, 독침붕,딱충이,   (비행위주로 cluster )"
   ]
  },
  {
   "cell_type": "code",
   "execution_count": 330,
   "id": "2b876234",
   "metadata": {},
   "outputs": [
    {
     "data": {
      "text/plain": [
       "5       Charizard\n",
       "129      Gyarados\n",
       "141    Aerodactyl\n",
       "148     Dragonite\n",
       "372     Salamence\n",
       "Name: 이름, dtype: object"
      ]
     },
     "execution_count": 330,
     "metadata": {},
     "output_type": "execute_result"
    }
   ],
   "source": [
    "selected_pokemon3 = df1[(df1[\"clusters\"] == 2) & (df1[\"스탯_총합\"] >= 600) & (df1['전설의_포켓몬_여부']==0)].sort_values(by='weakness_score')['이름'].head(5)\n",
    "selected_pokemon3 "
   ]
  },
  {
   "cell_type": "code",
   "execution_count": 489,
   "id": "50b879cd",
   "metadata": {},
   "outputs": [
    {
     "name": "stdout",
     "output_type": "stream",
     "text": [
      "Physical Sweeper Stats:\n",
      "             이름   공격  스피드\n",
      "5     Charizard  104  100\n",
      "129    Gyarados  155   81\n",
      "141  Aerodactyl  135  150\n",
      "148   Dragonite  134   80\n",
      "372   Salamence  145  120\n",
      "\n",
      "Physical Sweeper Scores:\n",
      "             이름  physical_sweeper_score\n",
      "141  Aerodactyl                     285\n",
      "372   Salamence                     265\n",
      "129    Gyarados                     236\n",
      "148   Dragonite                     214\n",
      "5     Charizard                     204\n",
      "\n",
      "Tanker Stats:\n",
      "             이름  체력   방어  특수_방어\n",
      "5     Charizard  78   78    115\n",
      "129    Gyarados  95  109    130\n",
      "141  Aerodactyl  80   85     95\n",
      "148   Dragonite  91   95    100\n",
      "372   Salamence  95  130     90\n",
      "\n",
      "Tanker Scores:\n",
      "             이름  tanker_score\n",
      "129    Gyarados           334\n",
      "372   Salamence           315\n",
      "148   Dragonite           286\n",
      "5     Charizard           271\n",
      "141  Aerodactyl           260\n",
      "\n",
      "Mixed Sweeper Stats:\n",
      "             이름   공격  특수_공격  스피드\n",
      "5     Charizard  104    159  100\n",
      "129    Gyarados  155     70   81\n",
      "141  Aerodactyl  135     70  150\n",
      "148   Dragonite  134    100   80\n",
      "372   Salamence  145    120  120\n",
      "\n",
      "Mixed Sweeper Scores:\n",
      "             이름  mixed_sweeper_score\n",
      "372   Salamence                  385\n",
      "5     Charizard                  363\n",
      "141  Aerodactyl                  355\n",
      "148   Dragonite                  314\n",
      "129    Gyarados                  306\n",
      "\n",
      "Special Sweeper Stats:\n",
      "             이름  특수_공격  스피드\n",
      "5     Charizard    159  100\n",
      "129    Gyarados     70   81\n",
      "141  Aerodactyl     70  150\n",
      "148   Dragonite    100   80\n",
      "372   Salamence    120  120\n",
      "\n",
      "Special Sweeper Scores:\n",
      "             이름  special_sweeper_score\n",
      "5     Charizard                    259\n",
      "372   Salamence                    240\n",
      "141  Aerodactyl                    220\n",
      "148   Dragonite                    180\n",
      "129    Gyarados                    151\n"
     ]
    }
   ],
   "source": [
    "# 클러스터 4에 속한 5개의 포켓몬 선택\n",
    "cluster_3_pokemon = df1[(df1[\"clusters\"] == 2) & (df1[\"스탯_총합\"] >= 600) & (df1[\"전설의_포켓몬_여부\"] == 0)]\n",
    "\n",
    "# 역할에 따른 능력치 출력\n",
    "physical_sweeper_stats = cluster_3_pokemon[['이름', '공격', '스피드']]\n",
    "tanker_stats = cluster_3_pokemon[['이름', '체력', '방어', '특수_방어']]\n",
    "mixed_sweeper_stats = cluster_3_pokemon[['이름', '공격', '특수_공격', '스피드']]\n",
    "special_sweeper_stats = cluster_3_pokemon[['이름', '특수_공격', '스피드']]\n",
    "\n",
    "# 능력치 합계 출력\n",
    "cluster_3_pokemon['physical_sweeper_score'] = cluster_3_pokemon['공격'] + cluster_3_pokemon['스피드']\n",
    "cluster_3_pokemon['tanker_score'] = cluster_3_pokemon['체력'] + cluster_3_pokemon['방어'] + cluster_3_pokemon['특수_방어']\n",
    "cluster_3_pokemon['mixed_sweeper_score'] = cluster_3_pokemon['공격'] + cluster_3_pokemon['특수_공격'] + cluster_3_pokemon['스피드']\n",
    "cluster_3_pokemon['special_sweeper_score'] = cluster_3_pokemon['특수_공격'] + cluster_3_pokemon['스피드']\n",
    "\n",
    "# 출력\n",
    "print(\"Physical Sweeper Stats:\")\n",
    "print(physical_sweeper_stats)\n",
    "print(\"\\nPhysical Sweeper Scores:\")\n",
    "print(cluster_3_pokemon[['이름', 'physical_sweeper_score']].sort_values(by='physical_sweeper_score', ascending=False).head(5))\n",
    "\n",
    "print(\"\\nTanker Stats:\")\n",
    "print(tanker_stats)\n",
    "print(\"\\nTanker Scores:\")\n",
    "print(cluster_3_pokemon[['이름', 'tanker_score']].sort_values(by='tanker_score', ascending=False).head(5))\n",
    "\n",
    "print(\"\\nMixed Sweeper Stats:\")\n",
    "print(mixed_sweeper_stats)\n",
    "print(\"\\nMixed Sweeper Scores:\")\n",
    "print(cluster_3_pokemon[['이름', 'mixed_sweeper_score']].sort_values(by='mixed_sweeper_score', ascending=False).head(5))\n",
    "\n",
    "print(\"\\nSpecial Sweeper Stats:\")\n",
    "print(special_sweeper_stats)\n",
    "print(\"\\nSpecial Sweeper Scores:\")\n",
    "print(cluster_3_pokemon[['이름', 'special_sweeper_score']].sort_values(by='special_sweeper_score', ascending=False).head(5))\n"
   ]
  },
  {
   "cell_type": "code",
   "execution_count": 232,
   "id": "a14bcbea",
   "metadata": {},
   "outputs": [],
   "source": [
    "#cluster4"
   ]
  },
  {
   "cell_type": "code",
   "execution_count": 334,
   "id": "c82a11dd",
   "metadata": {
    "scrolled": false
   },
   "outputs": [
    {
     "data": {
      "application/vnd.plotly.v1+json": {
       "config": {
        "plotlyServerURL": "https://plot.ly"
       },
       "data": [
        {
         "marker": {
          "color": [
           0,
           1,
           2,
           3,
           4,
           5,
           6,
           7,
           8,
           9,
           10,
           11,
           12,
           13,
           14,
           15,
           16,
           17,
           18,
           19
          ],
          "colorscale": [
           [
            0,
            "rgb(252, 222, 156)"
           ],
           [
            0.16666666666666666,
            "rgb(250, 164, 118)"
           ],
           [
            0.3333333333333333,
            "rgb(240, 116, 110)"
           ],
           [
            0.5,
            "rgb(227, 79, 111)"
           ],
           [
            0.6666666666666666,
            "rgb(220, 57, 119)"
           ],
           [
            0.8333333333333334,
            "rgb(185, 37, 122)"
           ],
           [
            1,
            "rgb(124, 29, 111)"
           ]
          ]
         },
         "type": "bar",
         "x": [
          "상성_벌레",
          "상성_악",
          "상성_드래곤",
          "상성_전기",
          "상성_요정",
          "상성_격투",
          "상성_불",
          "상성_비행",
          "상성_고스트",
          "상성_풀",
          "상성_땅",
          "상성_얼음",
          "상성_노멀",
          "상성_독",
          "상성_에스퍼",
          "상성_바위",
          "상성_강철",
          "상성_물"
         ],
         "y": [
          1.3663366336633664,
          1.900990099009901,
          0.9108910891089109,
          0.9900990099009901,
          1.00990099009901,
          0.38613861386138615,
          1.0544554455445545,
          0.9752475247524752,
          2,
          1.0396039603960396,
          1.202970297029703,
          0.9653465346534653,
          0.6287128712871287,
          0.7797029702970297,
          0.6361386138613861,
          0.995049504950495,
          1.004950495049505,
          1.0792079207920793
         ]
        }
       ],
       "layout": {
        "paper_bgcolor": "mintcream",
        "template": {
         "data": {
          "bar": [
           {
            "error_x": {
             "color": "#2a3f5f"
            },
            "error_y": {
             "color": "#2a3f5f"
            },
            "marker": {
             "line": {
              "color": "#E5ECF6",
              "width": 0.5
             },
             "pattern": {
              "fillmode": "overlay",
              "size": 10,
              "solidity": 0.2
             }
            },
            "type": "bar"
           }
          ],
          "barpolar": [
           {
            "marker": {
             "line": {
              "color": "#E5ECF6",
              "width": 0.5
             },
             "pattern": {
              "fillmode": "overlay",
              "size": 10,
              "solidity": 0.2
             }
            },
            "type": "barpolar"
           }
          ],
          "carpet": [
           {
            "aaxis": {
             "endlinecolor": "#2a3f5f",
             "gridcolor": "white",
             "linecolor": "white",
             "minorgridcolor": "white",
             "startlinecolor": "#2a3f5f"
            },
            "baxis": {
             "endlinecolor": "#2a3f5f",
             "gridcolor": "white",
             "linecolor": "white",
             "minorgridcolor": "white",
             "startlinecolor": "#2a3f5f"
            },
            "type": "carpet"
           }
          ],
          "choropleth": [
           {
            "colorbar": {
             "outlinewidth": 0,
             "ticks": ""
            },
            "type": "choropleth"
           }
          ],
          "contour": [
           {
            "colorbar": {
             "outlinewidth": 0,
             "ticks": ""
            },
            "colorscale": [
             [
              0,
              "#0d0887"
             ],
             [
              0.1111111111111111,
              "#46039f"
             ],
             [
              0.2222222222222222,
              "#7201a8"
             ],
             [
              0.3333333333333333,
              "#9c179e"
             ],
             [
              0.4444444444444444,
              "#bd3786"
             ],
             [
              0.5555555555555556,
              "#d8576b"
             ],
             [
              0.6666666666666666,
              "#ed7953"
             ],
             [
              0.7777777777777778,
              "#fb9f3a"
             ],
             [
              0.8888888888888888,
              "#fdca26"
             ],
             [
              1,
              "#f0f921"
             ]
            ],
            "type": "contour"
           }
          ],
          "contourcarpet": [
           {
            "colorbar": {
             "outlinewidth": 0,
             "ticks": ""
            },
            "type": "contourcarpet"
           }
          ],
          "heatmap": [
           {
            "colorbar": {
             "outlinewidth": 0,
             "ticks": ""
            },
            "colorscale": [
             [
              0,
              "#0d0887"
             ],
             [
              0.1111111111111111,
              "#46039f"
             ],
             [
              0.2222222222222222,
              "#7201a8"
             ],
             [
              0.3333333333333333,
              "#9c179e"
             ],
             [
              0.4444444444444444,
              "#bd3786"
             ],
             [
              0.5555555555555556,
              "#d8576b"
             ],
             [
              0.6666666666666666,
              "#ed7953"
             ],
             [
              0.7777777777777778,
              "#fb9f3a"
             ],
             [
              0.8888888888888888,
              "#fdca26"
             ],
             [
              1,
              "#f0f921"
             ]
            ],
            "type": "heatmap"
           }
          ],
          "heatmapgl": [
           {
            "colorbar": {
             "outlinewidth": 0,
             "ticks": ""
            },
            "colorscale": [
             [
              0,
              "#0d0887"
             ],
             [
              0.1111111111111111,
              "#46039f"
             ],
             [
              0.2222222222222222,
              "#7201a8"
             ],
             [
              0.3333333333333333,
              "#9c179e"
             ],
             [
              0.4444444444444444,
              "#bd3786"
             ],
             [
              0.5555555555555556,
              "#d8576b"
             ],
             [
              0.6666666666666666,
              "#ed7953"
             ],
             [
              0.7777777777777778,
              "#fb9f3a"
             ],
             [
              0.8888888888888888,
              "#fdca26"
             ],
             [
              1,
              "#f0f921"
             ]
            ],
            "type": "heatmapgl"
           }
          ],
          "histogram": [
           {
            "marker": {
             "pattern": {
              "fillmode": "overlay",
              "size": 10,
              "solidity": 0.2
             }
            },
            "type": "histogram"
           }
          ],
          "histogram2d": [
           {
            "colorbar": {
             "outlinewidth": 0,
             "ticks": ""
            },
            "colorscale": [
             [
              0,
              "#0d0887"
             ],
             [
              0.1111111111111111,
              "#46039f"
             ],
             [
              0.2222222222222222,
              "#7201a8"
             ],
             [
              0.3333333333333333,
              "#9c179e"
             ],
             [
              0.4444444444444444,
              "#bd3786"
             ],
             [
              0.5555555555555556,
              "#d8576b"
             ],
             [
              0.6666666666666666,
              "#ed7953"
             ],
             [
              0.7777777777777778,
              "#fb9f3a"
             ],
             [
              0.8888888888888888,
              "#fdca26"
             ],
             [
              1,
              "#f0f921"
             ]
            ],
            "type": "histogram2d"
           }
          ],
          "histogram2dcontour": [
           {
            "colorbar": {
             "outlinewidth": 0,
             "ticks": ""
            },
            "colorscale": [
             [
              0,
              "#0d0887"
             ],
             [
              0.1111111111111111,
              "#46039f"
             ],
             [
              0.2222222222222222,
              "#7201a8"
             ],
             [
              0.3333333333333333,
              "#9c179e"
             ],
             [
              0.4444444444444444,
              "#bd3786"
             ],
             [
              0.5555555555555556,
              "#d8576b"
             ],
             [
              0.6666666666666666,
              "#ed7953"
             ],
             [
              0.7777777777777778,
              "#fb9f3a"
             ],
             [
              0.8888888888888888,
              "#fdca26"
             ],
             [
              1,
              "#f0f921"
             ]
            ],
            "type": "histogram2dcontour"
           }
          ],
          "mesh3d": [
           {
            "colorbar": {
             "outlinewidth": 0,
             "ticks": ""
            },
            "type": "mesh3d"
           }
          ],
          "parcoords": [
           {
            "line": {
             "colorbar": {
              "outlinewidth": 0,
              "ticks": ""
             }
            },
            "type": "parcoords"
           }
          ],
          "pie": [
           {
            "automargin": true,
            "type": "pie"
           }
          ],
          "scatter": [
           {
            "fillpattern": {
             "fillmode": "overlay",
             "size": 10,
             "solidity": 0.2
            },
            "type": "scatter"
           }
          ],
          "scatter3d": [
           {
            "line": {
             "colorbar": {
              "outlinewidth": 0,
              "ticks": ""
             }
            },
            "marker": {
             "colorbar": {
              "outlinewidth": 0,
              "ticks": ""
             }
            },
            "type": "scatter3d"
           }
          ],
          "scattercarpet": [
           {
            "marker": {
             "colorbar": {
              "outlinewidth": 0,
              "ticks": ""
             }
            },
            "type": "scattercarpet"
           }
          ],
          "scattergeo": [
           {
            "marker": {
             "colorbar": {
              "outlinewidth": 0,
              "ticks": ""
             }
            },
            "type": "scattergeo"
           }
          ],
          "scattergl": [
           {
            "marker": {
             "colorbar": {
              "outlinewidth": 0,
              "ticks": ""
             }
            },
            "type": "scattergl"
           }
          ],
          "scattermapbox": [
           {
            "marker": {
             "colorbar": {
              "outlinewidth": 0,
              "ticks": ""
             }
            },
            "type": "scattermapbox"
           }
          ],
          "scatterpolar": [
           {
            "marker": {
             "colorbar": {
              "outlinewidth": 0,
              "ticks": ""
             }
            },
            "type": "scatterpolar"
           }
          ],
          "scatterpolargl": [
           {
            "marker": {
             "colorbar": {
              "outlinewidth": 0,
              "ticks": ""
             }
            },
            "type": "scatterpolargl"
           }
          ],
          "scatterternary": [
           {
            "marker": {
             "colorbar": {
              "outlinewidth": 0,
              "ticks": ""
             }
            },
            "type": "scatterternary"
           }
          ],
          "surface": [
           {
            "colorbar": {
             "outlinewidth": 0,
             "ticks": ""
            },
            "colorscale": [
             [
              0,
              "#0d0887"
             ],
             [
              0.1111111111111111,
              "#46039f"
             ],
             [
              0.2222222222222222,
              "#7201a8"
             ],
             [
              0.3333333333333333,
              "#9c179e"
             ],
             [
              0.4444444444444444,
              "#bd3786"
             ],
             [
              0.5555555555555556,
              "#d8576b"
             ],
             [
              0.6666666666666666,
              "#ed7953"
             ],
             [
              0.7777777777777778,
              "#fb9f3a"
             ],
             [
              0.8888888888888888,
              "#fdca26"
             ],
             [
              1,
              "#f0f921"
             ]
            ],
            "type": "surface"
           }
          ],
          "table": [
           {
            "cells": {
             "fill": {
              "color": "#EBF0F8"
             },
             "line": {
              "color": "white"
             }
            },
            "header": {
             "fill": {
              "color": "#C8D4E3"
             },
             "line": {
              "color": "white"
             }
            },
            "type": "table"
           }
          ]
         },
         "layout": {
          "annotationdefaults": {
           "arrowcolor": "#2a3f5f",
           "arrowhead": 0,
           "arrowwidth": 1
          },
          "autotypenumbers": "strict",
          "coloraxis": {
           "colorbar": {
            "outlinewidth": 0,
            "ticks": ""
           }
          },
          "colorscale": {
           "diverging": [
            [
             0,
             "#8e0152"
            ],
            [
             0.1,
             "#c51b7d"
            ],
            [
             0.2,
             "#de77ae"
            ],
            [
             0.3,
             "#f1b6da"
            ],
            [
             0.4,
             "#fde0ef"
            ],
            [
             0.5,
             "#f7f7f7"
            ],
            [
             0.6,
             "#e6f5d0"
            ],
            [
             0.7,
             "#b8e186"
            ],
            [
             0.8,
             "#7fbc41"
            ],
            [
             0.9,
             "#4d9221"
            ],
            [
             1,
             "#276419"
            ]
           ],
           "sequential": [
            [
             0,
             "#0d0887"
            ],
            [
             0.1111111111111111,
             "#46039f"
            ],
            [
             0.2222222222222222,
             "#7201a8"
            ],
            [
             0.3333333333333333,
             "#9c179e"
            ],
            [
             0.4444444444444444,
             "#bd3786"
            ],
            [
             0.5555555555555556,
             "#d8576b"
            ],
            [
             0.6666666666666666,
             "#ed7953"
            ],
            [
             0.7777777777777778,
             "#fb9f3a"
            ],
            [
             0.8888888888888888,
             "#fdca26"
            ],
            [
             1,
             "#f0f921"
            ]
           ],
           "sequentialminus": [
            [
             0,
             "#0d0887"
            ],
            [
             0.1111111111111111,
             "#46039f"
            ],
            [
             0.2222222222222222,
             "#7201a8"
            ],
            [
             0.3333333333333333,
             "#9c179e"
            ],
            [
             0.4444444444444444,
             "#bd3786"
            ],
            [
             0.5555555555555556,
             "#d8576b"
            ],
            [
             0.6666666666666666,
             "#ed7953"
            ],
            [
             0.7777777777777778,
             "#fb9f3a"
            ],
            [
             0.8888888888888888,
             "#fdca26"
            ],
            [
             1,
             "#f0f921"
            ]
           ]
          },
          "colorway": [
           "#636efa",
           "#EF553B",
           "#00cc96",
           "#ab63fa",
           "#FFA15A",
           "#19d3f3",
           "#FF6692",
           "#B6E880",
           "#FF97FF",
           "#FECB52"
          ],
          "font": {
           "color": "#2a3f5f"
          },
          "geo": {
           "bgcolor": "white",
           "lakecolor": "white",
           "landcolor": "#E5ECF6",
           "showlakes": true,
           "showland": true,
           "subunitcolor": "white"
          },
          "hoverlabel": {
           "align": "left"
          },
          "hovermode": "closest",
          "mapbox": {
           "style": "light"
          },
          "paper_bgcolor": "white",
          "plot_bgcolor": "#E5ECF6",
          "polar": {
           "angularaxis": {
            "gridcolor": "white",
            "linecolor": "white",
            "ticks": ""
           },
           "bgcolor": "#E5ECF6",
           "radialaxis": {
            "gridcolor": "white",
            "linecolor": "white",
            "ticks": ""
           }
          },
          "scene": {
           "xaxis": {
            "backgroundcolor": "#E5ECF6",
            "gridcolor": "white",
            "gridwidth": 2,
            "linecolor": "white",
            "showbackground": true,
            "ticks": "",
            "zerolinecolor": "white"
           },
           "yaxis": {
            "backgroundcolor": "#E5ECF6",
            "gridcolor": "white",
            "gridwidth": 2,
            "linecolor": "white",
            "showbackground": true,
            "ticks": "",
            "zerolinecolor": "white"
           },
           "zaxis": {
            "backgroundcolor": "#E5ECF6",
            "gridcolor": "white",
            "gridwidth": 2,
            "linecolor": "white",
            "showbackground": true,
            "ticks": "",
            "zerolinecolor": "white"
           }
          },
          "shapedefaults": {
           "line": {
            "color": "#2a3f5f"
           }
          },
          "ternary": {
           "aaxis": {
            "gridcolor": "white",
            "linecolor": "white",
            "ticks": ""
           },
           "baxis": {
            "gridcolor": "white",
            "linecolor": "white",
            "ticks": ""
           },
           "bgcolor": "#E5ECF6",
           "caxis": {
            "gridcolor": "white",
            "linecolor": "white",
            "ticks": ""
           }
          },
          "title": {
           "x": 0.05
          },
          "xaxis": {
           "automargin": true,
           "gridcolor": "white",
           "linecolor": "white",
           "ticks": "",
           "title": {
            "standoff": 15
           },
           "zerolinecolor": "white",
           "zerolinewidth": 2
          },
          "yaxis": {
           "automargin": true,
           "gridcolor": "white",
           "linecolor": "white",
           "ticks": "",
           "title": {
            "standoff": 15
           },
           "zerolinecolor": "white",
           "zerolinewidth": 2
          }
         }
        },
        "title": {
         "font": {
          "size": 20
         },
         "text": "Cluster 4 Weakness Chart",
         "x": 0.5
        },
        "xaxis": {
         "title": {
          "text": "Poke Type"
         }
        },
        "yaxis": {
         "title": {
          "text": "Damage Multiplyer"
         }
        }
       }
      },
      "text/html": [
       "<div>                            <div id=\"fe54d56b-9ff0-4110-a268-4c73050fb39e\" class=\"plotly-graph-div\" style=\"height:525px; width:100%;\"></div>            <script type=\"text/javascript\">                require([\"plotly\"], function(Plotly) {                    window.PLOTLYENV=window.PLOTLYENV || {};                                    if (document.getElementById(\"fe54d56b-9ff0-4110-a268-4c73050fb39e\")) {                    Plotly.newPlot(                        \"fe54d56b-9ff0-4110-a268-4c73050fb39e\",                        [{\"marker\":{\"color\":[0,1,2,3,4,5,6,7,8,9,10,11,12,13,14,15,16,17,18,19],\"colorscale\":[[0.0,\"rgb(252, 222, 156)\"],[0.16666666666666666,\"rgb(250, 164, 118)\"],[0.3333333333333333,\"rgb(240, 116, 110)\"],[0.5,\"rgb(227, 79, 111)\"],[0.6666666666666666,\"rgb(220, 57, 119)\"],[0.8333333333333334,\"rgb(185, 37, 122)\"],[1.0,\"rgb(124, 29, 111)\"]]},\"x\":[\"\\uc0c1\\uc131_\\ubc8c\\ub808\",\"\\uc0c1\\uc131_\\uc545\",\"\\uc0c1\\uc131_\\ub4dc\\ub798\\uace4\",\"\\uc0c1\\uc131_\\uc804\\uae30\",\"\\uc0c1\\uc131_\\uc694\\uc815\",\"\\uc0c1\\uc131_\\uaca9\\ud22c\",\"\\uc0c1\\uc131_\\ubd88\",\"\\uc0c1\\uc131_\\ube44\\ud589\",\"\\uc0c1\\uc131_\\uace0\\uc2a4\\ud2b8\",\"\\uc0c1\\uc131_\\ud480\",\"\\uc0c1\\uc131_\\ub545\",\"\\uc0c1\\uc131_\\uc5bc\\uc74c\",\"\\uc0c1\\uc131_\\ub178\\uba40\",\"\\uc0c1\\uc131_\\ub3c5\",\"\\uc0c1\\uc131_\\uc5d0\\uc2a4\\ud37c\",\"\\uc0c1\\uc131_\\ubc14\\uc704\",\"\\uc0c1\\uc131_\\uac15\\ucca0\",\"\\uc0c1\\uc131_\\ubb3c\"],\"y\":[1.3663366336633664,1.900990099009901,0.9108910891089109,0.9900990099009901,1.00990099009901,0.38613861386138615,1.0544554455445545,0.9752475247524752,2.0,1.0396039603960396,1.202970297029703,0.9653465346534653,0.6287128712871287,0.7797029702970297,0.6361386138613861,0.995049504950495,1.004950495049505,1.0792079207920793],\"type\":\"bar\"}],                        {\"template\":{\"data\":{\"histogram2dcontour\":[{\"type\":\"histogram2dcontour\",\"colorbar\":{\"outlinewidth\":0,\"ticks\":\"\"},\"colorscale\":[[0.0,\"#0d0887\"],[0.1111111111111111,\"#46039f\"],[0.2222222222222222,\"#7201a8\"],[0.3333333333333333,\"#9c179e\"],[0.4444444444444444,\"#bd3786\"],[0.5555555555555556,\"#d8576b\"],[0.6666666666666666,\"#ed7953\"],[0.7777777777777778,\"#fb9f3a\"],[0.8888888888888888,\"#fdca26\"],[1.0,\"#f0f921\"]]}],\"choropleth\":[{\"type\":\"choropleth\",\"colorbar\":{\"outlinewidth\":0,\"ticks\":\"\"}}],\"histogram2d\":[{\"type\":\"histogram2d\",\"colorbar\":{\"outlinewidth\":0,\"ticks\":\"\"},\"colorscale\":[[0.0,\"#0d0887\"],[0.1111111111111111,\"#46039f\"],[0.2222222222222222,\"#7201a8\"],[0.3333333333333333,\"#9c179e\"],[0.4444444444444444,\"#bd3786\"],[0.5555555555555556,\"#d8576b\"],[0.6666666666666666,\"#ed7953\"],[0.7777777777777778,\"#fb9f3a\"],[0.8888888888888888,\"#fdca26\"],[1.0,\"#f0f921\"]]}],\"heatmap\":[{\"type\":\"heatmap\",\"colorbar\":{\"outlinewidth\":0,\"ticks\":\"\"},\"colorscale\":[[0.0,\"#0d0887\"],[0.1111111111111111,\"#46039f\"],[0.2222222222222222,\"#7201a8\"],[0.3333333333333333,\"#9c179e\"],[0.4444444444444444,\"#bd3786\"],[0.5555555555555556,\"#d8576b\"],[0.6666666666666666,\"#ed7953\"],[0.7777777777777778,\"#fb9f3a\"],[0.8888888888888888,\"#fdca26\"],[1.0,\"#f0f921\"]]}],\"heatmapgl\":[{\"type\":\"heatmapgl\",\"colorbar\":{\"outlinewidth\":0,\"ticks\":\"\"},\"colorscale\":[[0.0,\"#0d0887\"],[0.1111111111111111,\"#46039f\"],[0.2222222222222222,\"#7201a8\"],[0.3333333333333333,\"#9c179e\"],[0.4444444444444444,\"#bd3786\"],[0.5555555555555556,\"#d8576b\"],[0.6666666666666666,\"#ed7953\"],[0.7777777777777778,\"#fb9f3a\"],[0.8888888888888888,\"#fdca26\"],[1.0,\"#f0f921\"]]}],\"contourcarpet\":[{\"type\":\"contourcarpet\",\"colorbar\":{\"outlinewidth\":0,\"ticks\":\"\"}}],\"contour\":[{\"type\":\"contour\",\"colorbar\":{\"outlinewidth\":0,\"ticks\":\"\"},\"colorscale\":[[0.0,\"#0d0887\"],[0.1111111111111111,\"#46039f\"],[0.2222222222222222,\"#7201a8\"],[0.3333333333333333,\"#9c179e\"],[0.4444444444444444,\"#bd3786\"],[0.5555555555555556,\"#d8576b\"],[0.6666666666666666,\"#ed7953\"],[0.7777777777777778,\"#fb9f3a\"],[0.8888888888888888,\"#fdca26\"],[1.0,\"#f0f921\"]]}],\"surface\":[{\"type\":\"surface\",\"colorbar\":{\"outlinewidth\":0,\"ticks\":\"\"},\"colorscale\":[[0.0,\"#0d0887\"],[0.1111111111111111,\"#46039f\"],[0.2222222222222222,\"#7201a8\"],[0.3333333333333333,\"#9c179e\"],[0.4444444444444444,\"#bd3786\"],[0.5555555555555556,\"#d8576b\"],[0.6666666666666666,\"#ed7953\"],[0.7777777777777778,\"#fb9f3a\"],[0.8888888888888888,\"#fdca26\"],[1.0,\"#f0f921\"]]}],\"mesh3d\":[{\"type\":\"mesh3d\",\"colorbar\":{\"outlinewidth\":0,\"ticks\":\"\"}}],\"scatter\":[{\"fillpattern\":{\"fillmode\":\"overlay\",\"size\":10,\"solidity\":0.2},\"type\":\"scatter\"}],\"parcoords\":[{\"type\":\"parcoords\",\"line\":{\"colorbar\":{\"outlinewidth\":0,\"ticks\":\"\"}}}],\"scatterpolargl\":[{\"type\":\"scatterpolargl\",\"marker\":{\"colorbar\":{\"outlinewidth\":0,\"ticks\":\"\"}}}],\"bar\":[{\"error_x\":{\"color\":\"#2a3f5f\"},\"error_y\":{\"color\":\"#2a3f5f\"},\"marker\":{\"line\":{\"color\":\"#E5ECF6\",\"width\":0.5},\"pattern\":{\"fillmode\":\"overlay\",\"size\":10,\"solidity\":0.2}},\"type\":\"bar\"}],\"scattergeo\":[{\"type\":\"scattergeo\",\"marker\":{\"colorbar\":{\"outlinewidth\":0,\"ticks\":\"\"}}}],\"scatterpolar\":[{\"type\":\"scatterpolar\",\"marker\":{\"colorbar\":{\"outlinewidth\":0,\"ticks\":\"\"}}}],\"histogram\":[{\"marker\":{\"pattern\":{\"fillmode\":\"overlay\",\"size\":10,\"solidity\":0.2}},\"type\":\"histogram\"}],\"scattergl\":[{\"type\":\"scattergl\",\"marker\":{\"colorbar\":{\"outlinewidth\":0,\"ticks\":\"\"}}}],\"scatter3d\":[{\"type\":\"scatter3d\",\"line\":{\"colorbar\":{\"outlinewidth\":0,\"ticks\":\"\"}},\"marker\":{\"colorbar\":{\"outlinewidth\":0,\"ticks\":\"\"}}}],\"scattermapbox\":[{\"type\":\"scattermapbox\",\"marker\":{\"colorbar\":{\"outlinewidth\":0,\"ticks\":\"\"}}}],\"scatterternary\":[{\"type\":\"scatterternary\",\"marker\":{\"colorbar\":{\"outlinewidth\":0,\"ticks\":\"\"}}}],\"scattercarpet\":[{\"type\":\"scattercarpet\",\"marker\":{\"colorbar\":{\"outlinewidth\":0,\"ticks\":\"\"}}}],\"carpet\":[{\"aaxis\":{\"endlinecolor\":\"#2a3f5f\",\"gridcolor\":\"white\",\"linecolor\":\"white\",\"minorgridcolor\":\"white\",\"startlinecolor\":\"#2a3f5f\"},\"baxis\":{\"endlinecolor\":\"#2a3f5f\",\"gridcolor\":\"white\",\"linecolor\":\"white\",\"minorgridcolor\":\"white\",\"startlinecolor\":\"#2a3f5f\"},\"type\":\"carpet\"}],\"table\":[{\"cells\":{\"fill\":{\"color\":\"#EBF0F8\"},\"line\":{\"color\":\"white\"}},\"header\":{\"fill\":{\"color\":\"#C8D4E3\"},\"line\":{\"color\":\"white\"}},\"type\":\"table\"}],\"barpolar\":[{\"marker\":{\"line\":{\"color\":\"#E5ECF6\",\"width\":0.5},\"pattern\":{\"fillmode\":\"overlay\",\"size\":10,\"solidity\":0.2}},\"type\":\"barpolar\"}],\"pie\":[{\"automargin\":true,\"type\":\"pie\"}]},\"layout\":{\"autotypenumbers\":\"strict\",\"colorway\":[\"#636efa\",\"#EF553B\",\"#00cc96\",\"#ab63fa\",\"#FFA15A\",\"#19d3f3\",\"#FF6692\",\"#B6E880\",\"#FF97FF\",\"#FECB52\"],\"font\":{\"color\":\"#2a3f5f\"},\"hovermode\":\"closest\",\"hoverlabel\":{\"align\":\"left\"},\"paper_bgcolor\":\"white\",\"plot_bgcolor\":\"#E5ECF6\",\"polar\":{\"bgcolor\":\"#E5ECF6\",\"angularaxis\":{\"gridcolor\":\"white\",\"linecolor\":\"white\",\"ticks\":\"\"},\"radialaxis\":{\"gridcolor\":\"white\",\"linecolor\":\"white\",\"ticks\":\"\"}},\"ternary\":{\"bgcolor\":\"#E5ECF6\",\"aaxis\":{\"gridcolor\":\"white\",\"linecolor\":\"white\",\"ticks\":\"\"},\"baxis\":{\"gridcolor\":\"white\",\"linecolor\":\"white\",\"ticks\":\"\"},\"caxis\":{\"gridcolor\":\"white\",\"linecolor\":\"white\",\"ticks\":\"\"}},\"coloraxis\":{\"colorbar\":{\"outlinewidth\":0,\"ticks\":\"\"}},\"colorscale\":{\"sequential\":[[0.0,\"#0d0887\"],[0.1111111111111111,\"#46039f\"],[0.2222222222222222,\"#7201a8\"],[0.3333333333333333,\"#9c179e\"],[0.4444444444444444,\"#bd3786\"],[0.5555555555555556,\"#d8576b\"],[0.6666666666666666,\"#ed7953\"],[0.7777777777777778,\"#fb9f3a\"],[0.8888888888888888,\"#fdca26\"],[1.0,\"#f0f921\"]],\"sequentialminus\":[[0.0,\"#0d0887\"],[0.1111111111111111,\"#46039f\"],[0.2222222222222222,\"#7201a8\"],[0.3333333333333333,\"#9c179e\"],[0.4444444444444444,\"#bd3786\"],[0.5555555555555556,\"#d8576b\"],[0.6666666666666666,\"#ed7953\"],[0.7777777777777778,\"#fb9f3a\"],[0.8888888888888888,\"#fdca26\"],[1.0,\"#f0f921\"]],\"diverging\":[[0,\"#8e0152\"],[0.1,\"#c51b7d\"],[0.2,\"#de77ae\"],[0.3,\"#f1b6da\"],[0.4,\"#fde0ef\"],[0.5,\"#f7f7f7\"],[0.6,\"#e6f5d0\"],[0.7,\"#b8e186\"],[0.8,\"#7fbc41\"],[0.9,\"#4d9221\"],[1,\"#276419\"]]},\"xaxis\":{\"gridcolor\":\"white\",\"linecolor\":\"white\",\"ticks\":\"\",\"title\":{\"standoff\":15},\"zerolinecolor\":\"white\",\"automargin\":true,\"zerolinewidth\":2},\"yaxis\":{\"gridcolor\":\"white\",\"linecolor\":\"white\",\"ticks\":\"\",\"title\":{\"standoff\":15},\"zerolinecolor\":\"white\",\"automargin\":true,\"zerolinewidth\":2},\"scene\":{\"xaxis\":{\"backgroundcolor\":\"#E5ECF6\",\"gridcolor\":\"white\",\"linecolor\":\"white\",\"showbackground\":true,\"ticks\":\"\",\"zerolinecolor\":\"white\",\"gridwidth\":2},\"yaxis\":{\"backgroundcolor\":\"#E5ECF6\",\"gridcolor\":\"white\",\"linecolor\":\"white\",\"showbackground\":true,\"ticks\":\"\",\"zerolinecolor\":\"white\",\"gridwidth\":2},\"zaxis\":{\"backgroundcolor\":\"#E5ECF6\",\"gridcolor\":\"white\",\"linecolor\":\"white\",\"showbackground\":true,\"ticks\":\"\",\"zerolinecolor\":\"white\",\"gridwidth\":2}},\"shapedefaults\":{\"line\":{\"color\":\"#2a3f5f\"}},\"annotationdefaults\":{\"arrowcolor\":\"#2a3f5f\",\"arrowhead\":0,\"arrowwidth\":1},\"geo\":{\"bgcolor\":\"white\",\"landcolor\":\"#E5ECF6\",\"subunitcolor\":\"white\",\"showland\":true,\"showlakes\":true,\"lakecolor\":\"white\"},\"title\":{\"x\":0.05},\"mapbox\":{\"style\":\"light\"}}},\"title\":{\"text\":\"Cluster 4 Weakness Chart\",\"x\":0.5,\"font\":{\"size\":20}},\"xaxis\":{\"title\":{\"text\":\"Poke Type\"}},\"yaxis\":{\"title\":{\"text\":\"Damage Multiplyer\"}},\"paper_bgcolor\":\"mintcream\"},                        {\"responsive\": true}                    ).then(function(){\n",
       "                            \n",
       "var gd = document.getElementById('fe54d56b-9ff0-4110-a268-4c73050fb39e');\n",
       "var x = new MutationObserver(function (mutations, observer) {{\n",
       "        var display = window.getComputedStyle(gd).display;\n",
       "        if (!display || display === 'none') {{\n",
       "            console.log([gd, 'removed!']);\n",
       "            Plotly.purge(gd);\n",
       "            observer.disconnect();\n",
       "        }}\n",
       "}});\n",
       "\n",
       "// Listen for the removal of the full notebook cells\n",
       "var notebookContainer = gd.closest('#notebook-container');\n",
       "if (notebookContainer) {{\n",
       "    x.observe(notebookContainer, {childList: true});\n",
       "}}\n",
       "\n",
       "// Listen for the clearing of the current output cell\n",
       "var outputEl = gd.closest('.output');\n",
       "if (outputEl) {{\n",
       "    x.observe(outputEl, {childList: true});\n",
       "}}\n",
       "\n",
       "                        })                };                });            </script>        </div>"
      ]
     },
     "metadata": {},
     "output_type": "display_data"
    }
   ],
   "source": [
    "fig_country = go.Figure()\n",
    "fig_country.add_trace(go.Bar(x=type_effectiveness_cols,y=pts[3], marker=dict(color=list(range(20)), colorscale=\"Sunsetdark\")))\n",
    "\n",
    "fig_country.update_layout(title=\"Cluster 4 Weakness Chart\",\n",
    "                             xaxis_title=\"Poke Type\", yaxis_title=\"Damage Multiplyer\",title_x=0.5, paper_bgcolor=\"mintcream\",\n",
    "                             title_font_size=20)\n",
    "fig_country.show()"
   ]
  },
  {
   "cell_type": "markdown",
   "id": "2d7e2535",
   "metadata": {},
   "source": [
    "군집 4)\n",
    "고스트 악 벌레에 약함\n",
    "격투 노멀 에스퍼 독에 강함  \n",
    "종류로는  메타그로스 ,팬텀 , 가디안,후딘,엘레이드 "
   ]
  },
  {
   "cell_type": "code",
   "execution_count": 335,
   "id": "471ec0cc",
   "metadata": {},
   "outputs": [
    {
     "data": {
      "text/plain": [
       "62        Abra\n",
       "63     Kadabra\n",
       "64    Alakazam\n",
       "78    Slowpoke\n",
       "79     Slowbro\n",
       "Name: 이름, dtype: object"
      ]
     },
     "execution_count": 335,
     "metadata": {},
     "output_type": "execute_result"
    }
   ],
   "source": [
    "selected_pokemon = df1[(df1[\"clusters\"] == 3)]['이름'].head(5)\n",
    "selected_pokemon #케이시, 윤겔라, 후딘, 야돈, 야도란 "
   ]
  },
  {
   "cell_type": "code",
   "execution_count": 336,
   "id": "978b5cc8",
   "metadata": {},
   "outputs": [
    {
     "data": {
      "text/plain": [
       "375    Metagross\n",
       "93        Gengar\n",
       "281    Gardevoir\n",
       "64      Alakazam\n",
       "474      Gallade\n",
       "Name: 이름, dtype: object"
      ]
     },
     "execution_count": 336,
     "metadata": {},
     "output_type": "execute_result"
    }
   ],
   "source": [
    "selected_pokemon4 = df1[(df1[\"clusters\"] == 3) & (df1[\"스탯_총합\"] >= 600) & (df1['전설의_포켓몬_여부']==0)].sort_values(by='weakness_score')['이름'].head(5)\n",
    "selected_pokemon4"
   ]
  },
  {
   "cell_type": "code",
   "execution_count": 490,
   "id": "8aa31788",
   "metadata": {},
   "outputs": [
    {
     "name": "stdout",
     "output_type": "stream",
     "text": [
      "Physical Sweeper Stats:\n",
      "            이름   공격  스피드\n",
      "64    Alakazam   50  150\n",
      "93      Gengar   65  130\n",
      "281  Gardevoir   85  100\n",
      "375  Metagross  145  110\n",
      "474    Gallade  165  110\n",
      "\n",
      "Physical Sweeper Scores:\n",
      "            이름  physical_sweeper_score\n",
      "474    Gallade                     275\n",
      "375  Metagross                     255\n",
      "64    Alakazam                     200\n",
      "93      Gengar                     195\n",
      "281  Gardevoir                     185\n",
      "\n",
      "Tanker Stats:\n",
      "            이름  체력   방어  특수_방어\n",
      "64    Alakazam  55   65    105\n",
      "93      Gengar  60   80     95\n",
      "281  Gardevoir  68   65    135\n",
      "375  Metagross  80  150    110\n",
      "474    Gallade  68   95    115\n",
      "\n",
      "Tanker Scores:\n",
      "            이름  tanker_score\n",
      "375  Metagross           340\n",
      "474    Gallade           278\n",
      "281  Gardevoir           268\n",
      "93      Gengar           235\n",
      "64    Alakazam           225\n",
      "\n",
      "Mixed Sweeper Stats:\n",
      "            이름   공격  특수_공격  스피드\n",
      "64    Alakazam   50    175  150\n",
      "93      Gengar   65    170  130\n",
      "281  Gardevoir   85    165  100\n",
      "375  Metagross  145    105  110\n",
      "474    Gallade  165     65  110\n",
      "\n",
      "Mixed Sweeper Scores:\n",
      "            이름  mixed_sweeper_score\n",
      "64    Alakazam                  375\n",
      "93      Gengar                  365\n",
      "375  Metagross                  360\n",
      "281  Gardevoir                  350\n",
      "474    Gallade                  340\n",
      "\n",
      "Special Sweeper Stats:\n",
      "            이름  특수_공격  스피드\n",
      "64    Alakazam    175  150\n",
      "93      Gengar    170  130\n",
      "281  Gardevoir    165  100\n",
      "375  Metagross    105  110\n",
      "474    Gallade     65  110\n",
      "\n",
      "Special Sweeper Scores:\n",
      "            이름  special_sweeper_score\n",
      "64    Alakazam                    325\n",
      "93      Gengar                    300\n",
      "281  Gardevoir                    265\n",
      "375  Metagross                    215\n",
      "474    Gallade                    175\n"
     ]
    }
   ],
   "source": [
    "# 클러스터 4에 속한 5개의 포켓몬 선택\n",
    "cluster_4_pokemon = df1[(df1[\"clusters\"] == 3) & (df1[\"스탯_총합\"] >= 600) & (df1[\"전설의_포켓몬_여부\"] == 0)]\n",
    "\n",
    "# 역할에 따른 능력치 출력\n",
    "physical_sweeper_stats = cluster_4_pokemon[['이름', '공격', '스피드']]\n",
    "tanker_stats = cluster_4_pokemon[['이름', '체력', '방어', '특수_방어']]\n",
    "mixed_sweeper_stats = cluster_4_pokemon[['이름', '공격', '특수_공격', '스피드']]\n",
    "special_sweeper_stats = cluster_4_pokemon[['이름', '특수_공격', '스피드']]\n",
    "\n",
    "# 능력치 합계 출력\n",
    "cluster_4_pokemon['physical_sweeper_score'] = cluster_4_pokemon['공격'] + cluster_4_pokemon['스피드']\n",
    "cluster_4_pokemon['tanker_score'] = cluster_4_pokemon['체력'] + cluster_4_pokemon['방어'] + cluster_4_pokemon['특수_방어']\n",
    "cluster_4_pokemon['mixed_sweeper_score'] = cluster_4_pokemon['공격'] + cluster_4_pokemon['특수_공격'] + cluster_4_pokemon['스피드']\n",
    "cluster_4_pokemon['special_sweeper_score'] = cluster_4_pokemon['특수_공격'] + cluster_4_pokemon['스피드']\n",
    "\n",
    "# 출력\n",
    "print(\"Physical Sweeper Stats:\")\n",
    "print(physical_sweeper_stats)\n",
    "print(\"\\nPhysical Sweeper Scores:\")\n",
    "print(cluster_4_pokemon[['이름', 'physical_sweeper_score']].sort_values(by='physical_sweeper_score', ascending=False).head(5))\n",
    "\n",
    "print(\"\\nTanker Stats:\")\n",
    "print(tanker_stats)\n",
    "print(\"\\nTanker Scores:\")\n",
    "print(cluster_4_pokemon[['이름', 'tanker_score']].sort_values(by='tanker_score', ascending=False).head(5))\n",
    "\n",
    "print(\"\\nMixed Sweeper Stats:\")\n",
    "print(mixed_sweeper_stats)\n",
    "print(\"\\nMixed Sweeper Scores:\")\n",
    "print(cluster_4_pokemon[['이름', 'mixed_sweeper_score']].sort_values(by='mixed_sweeper_score', ascending=False).head(5))\n",
    "\n",
    "print(\"\\nSpecial Sweeper Stats:\")\n",
    "print(special_sweeper_stats)\n",
    "print(\"\\nSpecial Sweeper Scores:\")\n",
    "print(cluster_4_pokemon[['이름', 'special_sweeper_score']].sort_values(by='special_sweeper_score', ascending=False).head(5))\n"
   ]
  },
  {
   "cell_type": "code",
   "execution_count": 235,
   "id": "74675aed",
   "metadata": {},
   "outputs": [],
   "source": [
    "#cluster5"
   ]
  },
  {
   "cell_type": "code",
   "execution_count": 236,
   "id": "e6486071",
   "metadata": {},
   "outputs": [
    {
     "data": {
      "application/vnd.plotly.v1+json": {
       "config": {
        "plotlyServerURL": "https://plot.ly"
       },
       "data": [
        {
         "marker": {
          "color": [
           0,
           1,
           2,
           3,
           4,
           5,
           6,
           7,
           8,
           9,
           10,
           11,
           12,
           13,
           14,
           15,
           16,
           17,
           18,
           19
          ],
          "colorscale": [
           [
            0,
            "rgb(252, 222, 156)"
           ],
           [
            0.16666666666666666,
            "rgb(250, 164, 118)"
           ],
           [
            0.3333333333333333,
            "rgb(240, 116, 110)"
           ],
           [
            0.5,
            "rgb(227, 79, 111)"
           ],
           [
            0.6666666666666666,
            "rgb(220, 57, 119)"
           ],
           [
            0.8333333333333334,
            "rgb(185, 37, 122)"
           ],
           [
            1,
            "rgb(124, 29, 111)"
           ]
          ]
         },
         "type": "bar",
         "x": [
          "상성_벌레",
          "상성_악",
          "상성_드래곤",
          "상성_전기",
          "상성_요정",
          "상성_격투",
          "상성_불",
          "상성_비행",
          "상성_고스트",
          "상성_풀",
          "상성_땅",
          "상성_얼음",
          "상성_노멀",
          "상성_독",
          "상성_에스퍼",
          "상성_바위",
          "상성_강철",
          "상성_물"
         ],
         "y": [
          0.6834170854271356,
          0.8994974874371859,
          0.8492462311557789,
          0.7713567839195979,
          0.792713567839196,
          1.2412060301507537,
          0.8844221105527639,
          0.8266331658291457,
          0.964824120603015,
          1.099246231155779,
          1.9547738693467336,
          0.9510050251256281,
          0.8517587939698492,
          0.7487437185929648,
          1.1155778894472361,
          1.1030150753768844,
          1.0339195979899498,
          1.635678391959799
         ]
        }
       ],
       "layout": {
        "paper_bgcolor": "mintcream",
        "template": {
         "data": {
          "bar": [
           {
            "error_x": {
             "color": "#2a3f5f"
            },
            "error_y": {
             "color": "#2a3f5f"
            },
            "marker": {
             "line": {
              "color": "#E5ECF6",
              "width": 0.5
             },
             "pattern": {
              "fillmode": "overlay",
              "size": 10,
              "solidity": 0.2
             }
            },
            "type": "bar"
           }
          ],
          "barpolar": [
           {
            "marker": {
             "line": {
              "color": "#E5ECF6",
              "width": 0.5
             },
             "pattern": {
              "fillmode": "overlay",
              "size": 10,
              "solidity": 0.2
             }
            },
            "type": "barpolar"
           }
          ],
          "carpet": [
           {
            "aaxis": {
             "endlinecolor": "#2a3f5f",
             "gridcolor": "white",
             "linecolor": "white",
             "minorgridcolor": "white",
             "startlinecolor": "#2a3f5f"
            },
            "baxis": {
             "endlinecolor": "#2a3f5f",
             "gridcolor": "white",
             "linecolor": "white",
             "minorgridcolor": "white",
             "startlinecolor": "#2a3f5f"
            },
            "type": "carpet"
           }
          ],
          "choropleth": [
           {
            "colorbar": {
             "outlinewidth": 0,
             "ticks": ""
            },
            "type": "choropleth"
           }
          ],
          "contour": [
           {
            "colorbar": {
             "outlinewidth": 0,
             "ticks": ""
            },
            "colorscale": [
             [
              0,
              "#0d0887"
             ],
             [
              0.1111111111111111,
              "#46039f"
             ],
             [
              0.2222222222222222,
              "#7201a8"
             ],
             [
              0.3333333333333333,
              "#9c179e"
             ],
             [
              0.4444444444444444,
              "#bd3786"
             ],
             [
              0.5555555555555556,
              "#d8576b"
             ],
             [
              0.6666666666666666,
              "#ed7953"
             ],
             [
              0.7777777777777778,
              "#fb9f3a"
             ],
             [
              0.8888888888888888,
              "#fdca26"
             ],
             [
              1,
              "#f0f921"
             ]
            ],
            "type": "contour"
           }
          ],
          "contourcarpet": [
           {
            "colorbar": {
             "outlinewidth": 0,
             "ticks": ""
            },
            "type": "contourcarpet"
           }
          ],
          "heatmap": [
           {
            "colorbar": {
             "outlinewidth": 0,
             "ticks": ""
            },
            "colorscale": [
             [
              0,
              "#0d0887"
             ],
             [
              0.1111111111111111,
              "#46039f"
             ],
             [
              0.2222222222222222,
              "#7201a8"
             ],
             [
              0.3333333333333333,
              "#9c179e"
             ],
             [
              0.4444444444444444,
              "#bd3786"
             ],
             [
              0.5555555555555556,
              "#d8576b"
             ],
             [
              0.6666666666666666,
              "#ed7953"
             ],
             [
              0.7777777777777778,
              "#fb9f3a"
             ],
             [
              0.8888888888888888,
              "#fdca26"
             ],
             [
              1,
              "#f0f921"
             ]
            ],
            "type": "heatmap"
           }
          ],
          "heatmapgl": [
           {
            "colorbar": {
             "outlinewidth": 0,
             "ticks": ""
            },
            "colorscale": [
             [
              0,
              "#0d0887"
             ],
             [
              0.1111111111111111,
              "#46039f"
             ],
             [
              0.2222222222222222,
              "#7201a8"
             ],
             [
              0.3333333333333333,
              "#9c179e"
             ],
             [
              0.4444444444444444,
              "#bd3786"
             ],
             [
              0.5555555555555556,
              "#d8576b"
             ],
             [
              0.6666666666666666,
              "#ed7953"
             ],
             [
              0.7777777777777778,
              "#fb9f3a"
             ],
             [
              0.8888888888888888,
              "#fdca26"
             ],
             [
              1,
              "#f0f921"
             ]
            ],
            "type": "heatmapgl"
           }
          ],
          "histogram": [
           {
            "marker": {
             "pattern": {
              "fillmode": "overlay",
              "size": 10,
              "solidity": 0.2
             }
            },
            "type": "histogram"
           }
          ],
          "histogram2d": [
           {
            "colorbar": {
             "outlinewidth": 0,
             "ticks": ""
            },
            "colorscale": [
             [
              0,
              "#0d0887"
             ],
             [
              0.1111111111111111,
              "#46039f"
             ],
             [
              0.2222222222222222,
              "#7201a8"
             ],
             [
              0.3333333333333333,
              "#9c179e"
             ],
             [
              0.4444444444444444,
              "#bd3786"
             ],
             [
              0.5555555555555556,
              "#d8576b"
             ],
             [
              0.6666666666666666,
              "#ed7953"
             ],
             [
              0.7777777777777778,
              "#fb9f3a"
             ],
             [
              0.8888888888888888,
              "#fdca26"
             ],
             [
              1,
              "#f0f921"
             ]
            ],
            "type": "histogram2d"
           }
          ],
          "histogram2dcontour": [
           {
            "colorbar": {
             "outlinewidth": 0,
             "ticks": ""
            },
            "colorscale": [
             [
              0,
              "#0d0887"
             ],
             [
              0.1111111111111111,
              "#46039f"
             ],
             [
              0.2222222222222222,
              "#7201a8"
             ],
             [
              0.3333333333333333,
              "#9c179e"
             ],
             [
              0.4444444444444444,
              "#bd3786"
             ],
             [
              0.5555555555555556,
              "#d8576b"
             ],
             [
              0.6666666666666666,
              "#ed7953"
             ],
             [
              0.7777777777777778,
              "#fb9f3a"
             ],
             [
              0.8888888888888888,
              "#fdca26"
             ],
             [
              1,
              "#f0f921"
             ]
            ],
            "type": "histogram2dcontour"
           }
          ],
          "mesh3d": [
           {
            "colorbar": {
             "outlinewidth": 0,
             "ticks": ""
            },
            "type": "mesh3d"
           }
          ],
          "parcoords": [
           {
            "line": {
             "colorbar": {
              "outlinewidth": 0,
              "ticks": ""
             }
            },
            "type": "parcoords"
           }
          ],
          "pie": [
           {
            "automargin": true,
            "type": "pie"
           }
          ],
          "scatter": [
           {
            "fillpattern": {
             "fillmode": "overlay",
             "size": 10,
             "solidity": 0.2
            },
            "type": "scatter"
           }
          ],
          "scatter3d": [
           {
            "line": {
             "colorbar": {
              "outlinewidth": 0,
              "ticks": ""
             }
            },
            "marker": {
             "colorbar": {
              "outlinewidth": 0,
              "ticks": ""
             }
            },
            "type": "scatter3d"
           }
          ],
          "scattercarpet": [
           {
            "marker": {
             "colorbar": {
              "outlinewidth": 0,
              "ticks": ""
             }
            },
            "type": "scattercarpet"
           }
          ],
          "scattergeo": [
           {
            "marker": {
             "colorbar": {
              "outlinewidth": 0,
              "ticks": ""
             }
            },
            "type": "scattergeo"
           }
          ],
          "scattergl": [
           {
            "marker": {
             "colorbar": {
              "outlinewidth": 0,
              "ticks": ""
             }
            },
            "type": "scattergl"
           }
          ],
          "scattermapbox": [
           {
            "marker": {
             "colorbar": {
              "outlinewidth": 0,
              "ticks": ""
             }
            },
            "type": "scattermapbox"
           }
          ],
          "scatterpolar": [
           {
            "marker": {
             "colorbar": {
              "outlinewidth": 0,
              "ticks": ""
             }
            },
            "type": "scatterpolar"
           }
          ],
          "scatterpolargl": [
           {
            "marker": {
             "colorbar": {
              "outlinewidth": 0,
              "ticks": ""
             }
            },
            "type": "scatterpolargl"
           }
          ],
          "scatterternary": [
           {
            "marker": {
             "colorbar": {
              "outlinewidth": 0,
              "ticks": ""
             }
            },
            "type": "scatterternary"
           }
          ],
          "surface": [
           {
            "colorbar": {
             "outlinewidth": 0,
             "ticks": ""
            },
            "colorscale": [
             [
              0,
              "#0d0887"
             ],
             [
              0.1111111111111111,
              "#46039f"
             ],
             [
              0.2222222222222222,
              "#7201a8"
             ],
             [
              0.3333333333333333,
              "#9c179e"
             ],
             [
              0.4444444444444444,
              "#bd3786"
             ],
             [
              0.5555555555555556,
              "#d8576b"
             ],
             [
              0.6666666666666666,
              "#ed7953"
             ],
             [
              0.7777777777777778,
              "#fb9f3a"
             ],
             [
              0.8888888888888888,
              "#fdca26"
             ],
             [
              1,
              "#f0f921"
             ]
            ],
            "type": "surface"
           }
          ],
          "table": [
           {
            "cells": {
             "fill": {
              "color": "#EBF0F8"
             },
             "line": {
              "color": "white"
             }
            },
            "header": {
             "fill": {
              "color": "#C8D4E3"
             },
             "line": {
              "color": "white"
             }
            },
            "type": "table"
           }
          ]
         },
         "layout": {
          "annotationdefaults": {
           "arrowcolor": "#2a3f5f",
           "arrowhead": 0,
           "arrowwidth": 1
          },
          "autotypenumbers": "strict",
          "coloraxis": {
           "colorbar": {
            "outlinewidth": 0,
            "ticks": ""
           }
          },
          "colorscale": {
           "diverging": [
            [
             0,
             "#8e0152"
            ],
            [
             0.1,
             "#c51b7d"
            ],
            [
             0.2,
             "#de77ae"
            ],
            [
             0.3,
             "#f1b6da"
            ],
            [
             0.4,
             "#fde0ef"
            ],
            [
             0.5,
             "#f7f7f7"
            ],
            [
             0.6,
             "#e6f5d0"
            ],
            [
             0.7,
             "#b8e186"
            ],
            [
             0.8,
             "#7fbc41"
            ],
            [
             0.9,
             "#4d9221"
            ],
            [
             1,
             "#276419"
            ]
           ],
           "sequential": [
            [
             0,
             "#0d0887"
            ],
            [
             0.1111111111111111,
             "#46039f"
            ],
            [
             0.2222222222222222,
             "#7201a8"
            ],
            [
             0.3333333333333333,
             "#9c179e"
            ],
            [
             0.4444444444444444,
             "#bd3786"
            ],
            [
             0.5555555555555556,
             "#d8576b"
            ],
            [
             0.6666666666666666,
             "#ed7953"
            ],
            [
             0.7777777777777778,
             "#fb9f3a"
            ],
            [
             0.8888888888888888,
             "#fdca26"
            ],
            [
             1,
             "#f0f921"
            ]
           ],
           "sequentialminus": [
            [
             0,
             "#0d0887"
            ],
            [
             0.1111111111111111,
             "#46039f"
            ],
            [
             0.2222222222222222,
             "#7201a8"
            ],
            [
             0.3333333333333333,
             "#9c179e"
            ],
            [
             0.4444444444444444,
             "#bd3786"
            ],
            [
             0.5555555555555556,
             "#d8576b"
            ],
            [
             0.6666666666666666,
             "#ed7953"
            ],
            [
             0.7777777777777778,
             "#fb9f3a"
            ],
            [
             0.8888888888888888,
             "#fdca26"
            ],
            [
             1,
             "#f0f921"
            ]
           ]
          },
          "colorway": [
           "#636efa",
           "#EF553B",
           "#00cc96",
           "#ab63fa",
           "#FFA15A",
           "#19d3f3",
           "#FF6692",
           "#B6E880",
           "#FF97FF",
           "#FECB52"
          ],
          "font": {
           "color": "#2a3f5f"
          },
          "geo": {
           "bgcolor": "white",
           "lakecolor": "white",
           "landcolor": "#E5ECF6",
           "showlakes": true,
           "showland": true,
           "subunitcolor": "white"
          },
          "hoverlabel": {
           "align": "left"
          },
          "hovermode": "closest",
          "mapbox": {
           "style": "light"
          },
          "paper_bgcolor": "white",
          "plot_bgcolor": "#E5ECF6",
          "polar": {
           "angularaxis": {
            "gridcolor": "white",
            "linecolor": "white",
            "ticks": ""
           },
           "bgcolor": "#E5ECF6",
           "radialaxis": {
            "gridcolor": "white",
            "linecolor": "white",
            "ticks": ""
           }
          },
          "scene": {
           "xaxis": {
            "backgroundcolor": "#E5ECF6",
            "gridcolor": "white",
            "gridwidth": 2,
            "linecolor": "white",
            "showbackground": true,
            "ticks": "",
            "zerolinecolor": "white"
           },
           "yaxis": {
            "backgroundcolor": "#E5ECF6",
            "gridcolor": "white",
            "gridwidth": 2,
            "linecolor": "white",
            "showbackground": true,
            "ticks": "",
            "zerolinecolor": "white"
           },
           "zaxis": {
            "backgroundcolor": "#E5ECF6",
            "gridcolor": "white",
            "gridwidth": 2,
            "linecolor": "white",
            "showbackground": true,
            "ticks": "",
            "zerolinecolor": "white"
           }
          },
          "shapedefaults": {
           "line": {
            "color": "#2a3f5f"
           }
          },
          "ternary": {
           "aaxis": {
            "gridcolor": "white",
            "linecolor": "white",
            "ticks": ""
           },
           "baxis": {
            "gridcolor": "white",
            "linecolor": "white",
            "ticks": ""
           },
           "bgcolor": "#E5ECF6",
           "caxis": {
            "gridcolor": "white",
            "linecolor": "white",
            "ticks": ""
           }
          },
          "title": {
           "x": 0.05
          },
          "xaxis": {
           "automargin": true,
           "gridcolor": "white",
           "linecolor": "white",
           "ticks": "",
           "title": {
            "standoff": 15
           },
           "zerolinecolor": "white",
           "zerolinewidth": 2
          },
          "yaxis": {
           "automargin": true,
           "gridcolor": "white",
           "linecolor": "white",
           "ticks": "",
           "title": {
            "standoff": 15
           },
           "zerolinecolor": "white",
           "zerolinewidth": 2
          }
         }
        },
        "title": {
         "font": {
          "size": 20
         },
         "text": "Cluster 5 Weakness Chart",
         "x": 0.5
        },
        "xaxis": {
         "title": {
          "text": "Poke Type"
         }
        },
        "yaxis": {
         "title": {
          "text": "Damage Multiplyer"
         }
        }
       }
      },
      "text/html": [
       "<div>                            <div id=\"829d81d9-3caa-4665-a0ca-c1730c2cfb7e\" class=\"plotly-graph-div\" style=\"height:525px; width:100%;\"></div>            <script type=\"text/javascript\">                require([\"plotly\"], function(Plotly) {                    window.PLOTLYENV=window.PLOTLYENV || {};                                    if (document.getElementById(\"829d81d9-3caa-4665-a0ca-c1730c2cfb7e\")) {                    Plotly.newPlot(                        \"829d81d9-3caa-4665-a0ca-c1730c2cfb7e\",                        [{\"marker\":{\"color\":[0,1,2,3,4,5,6,7,8,9,10,11,12,13,14,15,16,17,18,19],\"colorscale\":[[0.0,\"rgb(252, 222, 156)\"],[0.16666666666666666,\"rgb(250, 164, 118)\"],[0.3333333333333333,\"rgb(240, 116, 110)\"],[0.5,\"rgb(227, 79, 111)\"],[0.6666666666666666,\"rgb(220, 57, 119)\"],[0.8333333333333334,\"rgb(185, 37, 122)\"],[1.0,\"rgb(124, 29, 111)\"]]},\"x\":[\"\\uc0c1\\uc131_\\ubc8c\\ub808\",\"\\uc0c1\\uc131_\\uc545\",\"\\uc0c1\\uc131_\\ub4dc\\ub798\\uace4\",\"\\uc0c1\\uc131_\\uc804\\uae30\",\"\\uc0c1\\uc131_\\uc694\\uc815\",\"\\uc0c1\\uc131_\\uaca9\\ud22c\",\"\\uc0c1\\uc131_\\ubd88\",\"\\uc0c1\\uc131_\\ube44\\ud589\",\"\\uc0c1\\uc131_\\uace0\\uc2a4\\ud2b8\",\"\\uc0c1\\uc131_\\ud480\",\"\\uc0c1\\uc131_\\ub545\",\"\\uc0c1\\uc131_\\uc5bc\\uc74c\",\"\\uc0c1\\uc131_\\ub178\\uba40\",\"\\uc0c1\\uc131_\\ub3c5\",\"\\uc0c1\\uc131_\\uc5d0\\uc2a4\\ud37c\",\"\\uc0c1\\uc131_\\ubc14\\uc704\",\"\\uc0c1\\uc131_\\uac15\\ucca0\",\"\\uc0c1\\uc131_\\ubb3c\"],\"y\":[0.6834170854271356,0.8994974874371859,0.8492462311557789,0.7713567839195979,0.792713567839196,1.2412060301507537,0.8844221105527639,0.8266331658291457,0.964824120603015,1.099246231155779,1.9547738693467336,0.9510050251256281,0.8517587939698492,0.7487437185929648,1.1155778894472361,1.1030150753768844,1.0339195979899498,1.635678391959799],\"type\":\"bar\"}],                        {\"template\":{\"data\":{\"histogram2dcontour\":[{\"type\":\"histogram2dcontour\",\"colorbar\":{\"outlinewidth\":0,\"ticks\":\"\"},\"colorscale\":[[0.0,\"#0d0887\"],[0.1111111111111111,\"#46039f\"],[0.2222222222222222,\"#7201a8\"],[0.3333333333333333,\"#9c179e\"],[0.4444444444444444,\"#bd3786\"],[0.5555555555555556,\"#d8576b\"],[0.6666666666666666,\"#ed7953\"],[0.7777777777777778,\"#fb9f3a\"],[0.8888888888888888,\"#fdca26\"],[1.0,\"#f0f921\"]]}],\"choropleth\":[{\"type\":\"choropleth\",\"colorbar\":{\"outlinewidth\":0,\"ticks\":\"\"}}],\"histogram2d\":[{\"type\":\"histogram2d\",\"colorbar\":{\"outlinewidth\":0,\"ticks\":\"\"},\"colorscale\":[[0.0,\"#0d0887\"],[0.1111111111111111,\"#46039f\"],[0.2222222222222222,\"#7201a8\"],[0.3333333333333333,\"#9c179e\"],[0.4444444444444444,\"#bd3786\"],[0.5555555555555556,\"#d8576b\"],[0.6666666666666666,\"#ed7953\"],[0.7777777777777778,\"#fb9f3a\"],[0.8888888888888888,\"#fdca26\"],[1.0,\"#f0f921\"]]}],\"heatmap\":[{\"type\":\"heatmap\",\"colorbar\":{\"outlinewidth\":0,\"ticks\":\"\"},\"colorscale\":[[0.0,\"#0d0887\"],[0.1111111111111111,\"#46039f\"],[0.2222222222222222,\"#7201a8\"],[0.3333333333333333,\"#9c179e\"],[0.4444444444444444,\"#bd3786\"],[0.5555555555555556,\"#d8576b\"],[0.6666666666666666,\"#ed7953\"],[0.7777777777777778,\"#fb9f3a\"],[0.8888888888888888,\"#fdca26\"],[1.0,\"#f0f921\"]]}],\"heatmapgl\":[{\"type\":\"heatmapgl\",\"colorbar\":{\"outlinewidth\":0,\"ticks\":\"\"},\"colorscale\":[[0.0,\"#0d0887\"],[0.1111111111111111,\"#46039f\"],[0.2222222222222222,\"#7201a8\"],[0.3333333333333333,\"#9c179e\"],[0.4444444444444444,\"#bd3786\"],[0.5555555555555556,\"#d8576b\"],[0.6666666666666666,\"#ed7953\"],[0.7777777777777778,\"#fb9f3a\"],[0.8888888888888888,\"#fdca26\"],[1.0,\"#f0f921\"]]}],\"contourcarpet\":[{\"type\":\"contourcarpet\",\"colorbar\":{\"outlinewidth\":0,\"ticks\":\"\"}}],\"contour\":[{\"type\":\"contour\",\"colorbar\":{\"outlinewidth\":0,\"ticks\":\"\"},\"colorscale\":[[0.0,\"#0d0887\"],[0.1111111111111111,\"#46039f\"],[0.2222222222222222,\"#7201a8\"],[0.3333333333333333,\"#9c179e\"],[0.4444444444444444,\"#bd3786\"],[0.5555555555555556,\"#d8576b\"],[0.6666666666666666,\"#ed7953\"],[0.7777777777777778,\"#fb9f3a\"],[0.8888888888888888,\"#fdca26\"],[1.0,\"#f0f921\"]]}],\"surface\":[{\"type\":\"surface\",\"colorbar\":{\"outlinewidth\":0,\"ticks\":\"\"},\"colorscale\":[[0.0,\"#0d0887\"],[0.1111111111111111,\"#46039f\"],[0.2222222222222222,\"#7201a8\"],[0.3333333333333333,\"#9c179e\"],[0.4444444444444444,\"#bd3786\"],[0.5555555555555556,\"#d8576b\"],[0.6666666666666666,\"#ed7953\"],[0.7777777777777778,\"#fb9f3a\"],[0.8888888888888888,\"#fdca26\"],[1.0,\"#f0f921\"]]}],\"mesh3d\":[{\"type\":\"mesh3d\",\"colorbar\":{\"outlinewidth\":0,\"ticks\":\"\"}}],\"scatter\":[{\"fillpattern\":{\"fillmode\":\"overlay\",\"size\":10,\"solidity\":0.2},\"type\":\"scatter\"}],\"parcoords\":[{\"type\":\"parcoords\",\"line\":{\"colorbar\":{\"outlinewidth\":0,\"ticks\":\"\"}}}],\"scatterpolargl\":[{\"type\":\"scatterpolargl\",\"marker\":{\"colorbar\":{\"outlinewidth\":0,\"ticks\":\"\"}}}],\"bar\":[{\"error_x\":{\"color\":\"#2a3f5f\"},\"error_y\":{\"color\":\"#2a3f5f\"},\"marker\":{\"line\":{\"color\":\"#E5ECF6\",\"width\":0.5},\"pattern\":{\"fillmode\":\"overlay\",\"size\":10,\"solidity\":0.2}},\"type\":\"bar\"}],\"scattergeo\":[{\"type\":\"scattergeo\",\"marker\":{\"colorbar\":{\"outlinewidth\":0,\"ticks\":\"\"}}}],\"scatterpolar\":[{\"type\":\"scatterpolar\",\"marker\":{\"colorbar\":{\"outlinewidth\":0,\"ticks\":\"\"}}}],\"histogram\":[{\"marker\":{\"pattern\":{\"fillmode\":\"overlay\",\"size\":10,\"solidity\":0.2}},\"type\":\"histogram\"}],\"scattergl\":[{\"type\":\"scattergl\",\"marker\":{\"colorbar\":{\"outlinewidth\":0,\"ticks\":\"\"}}}],\"scatter3d\":[{\"type\":\"scatter3d\",\"line\":{\"colorbar\":{\"outlinewidth\":0,\"ticks\":\"\"}},\"marker\":{\"colorbar\":{\"outlinewidth\":0,\"ticks\":\"\"}}}],\"scattermapbox\":[{\"type\":\"scattermapbox\",\"marker\":{\"colorbar\":{\"outlinewidth\":0,\"ticks\":\"\"}}}],\"scatterternary\":[{\"type\":\"scatterternary\",\"marker\":{\"colorbar\":{\"outlinewidth\":0,\"ticks\":\"\"}}}],\"scattercarpet\":[{\"type\":\"scattercarpet\",\"marker\":{\"colorbar\":{\"outlinewidth\":0,\"ticks\":\"\"}}}],\"carpet\":[{\"aaxis\":{\"endlinecolor\":\"#2a3f5f\",\"gridcolor\":\"white\",\"linecolor\":\"white\",\"minorgridcolor\":\"white\",\"startlinecolor\":\"#2a3f5f\"},\"baxis\":{\"endlinecolor\":\"#2a3f5f\",\"gridcolor\":\"white\",\"linecolor\":\"white\",\"minorgridcolor\":\"white\",\"startlinecolor\":\"#2a3f5f\"},\"type\":\"carpet\"}],\"table\":[{\"cells\":{\"fill\":{\"color\":\"#EBF0F8\"},\"line\":{\"color\":\"white\"}},\"header\":{\"fill\":{\"color\":\"#C8D4E3\"},\"line\":{\"color\":\"white\"}},\"type\":\"table\"}],\"barpolar\":[{\"marker\":{\"line\":{\"color\":\"#E5ECF6\",\"width\":0.5},\"pattern\":{\"fillmode\":\"overlay\",\"size\":10,\"solidity\":0.2}},\"type\":\"barpolar\"}],\"pie\":[{\"automargin\":true,\"type\":\"pie\"}]},\"layout\":{\"autotypenumbers\":\"strict\",\"colorway\":[\"#636efa\",\"#EF553B\",\"#00cc96\",\"#ab63fa\",\"#FFA15A\",\"#19d3f3\",\"#FF6692\",\"#B6E880\",\"#FF97FF\",\"#FECB52\"],\"font\":{\"color\":\"#2a3f5f\"},\"hovermode\":\"closest\",\"hoverlabel\":{\"align\":\"left\"},\"paper_bgcolor\":\"white\",\"plot_bgcolor\":\"#E5ECF6\",\"polar\":{\"bgcolor\":\"#E5ECF6\",\"angularaxis\":{\"gridcolor\":\"white\",\"linecolor\":\"white\",\"ticks\":\"\"},\"radialaxis\":{\"gridcolor\":\"white\",\"linecolor\":\"white\",\"ticks\":\"\"}},\"ternary\":{\"bgcolor\":\"#E5ECF6\",\"aaxis\":{\"gridcolor\":\"white\",\"linecolor\":\"white\",\"ticks\":\"\"},\"baxis\":{\"gridcolor\":\"white\",\"linecolor\":\"white\",\"ticks\":\"\"},\"caxis\":{\"gridcolor\":\"white\",\"linecolor\":\"white\",\"ticks\":\"\"}},\"coloraxis\":{\"colorbar\":{\"outlinewidth\":0,\"ticks\":\"\"}},\"colorscale\":{\"sequential\":[[0.0,\"#0d0887\"],[0.1111111111111111,\"#46039f\"],[0.2222222222222222,\"#7201a8\"],[0.3333333333333333,\"#9c179e\"],[0.4444444444444444,\"#bd3786\"],[0.5555555555555556,\"#d8576b\"],[0.6666666666666666,\"#ed7953\"],[0.7777777777777778,\"#fb9f3a\"],[0.8888888888888888,\"#fdca26\"],[1.0,\"#f0f921\"]],\"sequentialminus\":[[0.0,\"#0d0887\"],[0.1111111111111111,\"#46039f\"],[0.2222222222222222,\"#7201a8\"],[0.3333333333333333,\"#9c179e\"],[0.4444444444444444,\"#bd3786\"],[0.5555555555555556,\"#d8576b\"],[0.6666666666666666,\"#ed7953\"],[0.7777777777777778,\"#fb9f3a\"],[0.8888888888888888,\"#fdca26\"],[1.0,\"#f0f921\"]],\"diverging\":[[0,\"#8e0152\"],[0.1,\"#c51b7d\"],[0.2,\"#de77ae\"],[0.3,\"#f1b6da\"],[0.4,\"#fde0ef\"],[0.5,\"#f7f7f7\"],[0.6,\"#e6f5d0\"],[0.7,\"#b8e186\"],[0.8,\"#7fbc41\"],[0.9,\"#4d9221\"],[1,\"#276419\"]]},\"xaxis\":{\"gridcolor\":\"white\",\"linecolor\":\"white\",\"ticks\":\"\",\"title\":{\"standoff\":15},\"zerolinecolor\":\"white\",\"automargin\":true,\"zerolinewidth\":2},\"yaxis\":{\"gridcolor\":\"white\",\"linecolor\":\"white\",\"ticks\":\"\",\"title\":{\"standoff\":15},\"zerolinecolor\":\"white\",\"automargin\":true,\"zerolinewidth\":2},\"scene\":{\"xaxis\":{\"backgroundcolor\":\"#E5ECF6\",\"gridcolor\":\"white\",\"linecolor\":\"white\",\"showbackground\":true,\"ticks\":\"\",\"zerolinecolor\":\"white\",\"gridwidth\":2},\"yaxis\":{\"backgroundcolor\":\"#E5ECF6\",\"gridcolor\":\"white\",\"linecolor\":\"white\",\"showbackground\":true,\"ticks\":\"\",\"zerolinecolor\":\"white\",\"gridwidth\":2},\"zaxis\":{\"backgroundcolor\":\"#E5ECF6\",\"gridcolor\":\"white\",\"linecolor\":\"white\",\"showbackground\":true,\"ticks\":\"\",\"zerolinecolor\":\"white\",\"gridwidth\":2}},\"shapedefaults\":{\"line\":{\"color\":\"#2a3f5f\"}},\"annotationdefaults\":{\"arrowcolor\":\"#2a3f5f\",\"arrowhead\":0,\"arrowwidth\":1},\"geo\":{\"bgcolor\":\"white\",\"landcolor\":\"#E5ECF6\",\"subunitcolor\":\"white\",\"showland\":true,\"showlakes\":true,\"lakecolor\":\"white\"},\"title\":{\"x\":0.05},\"mapbox\":{\"style\":\"light\"}}},\"title\":{\"text\":\"Cluster 5 Weakness Chart\",\"x\":0.5,\"font\":{\"size\":20}},\"xaxis\":{\"title\":{\"text\":\"Poke Type\"}},\"yaxis\":{\"title\":{\"text\":\"Damage Multiplyer\"}},\"paper_bgcolor\":\"mintcream\"},                        {\"responsive\": true}                    ).then(function(){\n",
       "                            \n",
       "var gd = document.getElementById('829d81d9-3caa-4665-a0ca-c1730c2cfb7e');\n",
       "var x = new MutationObserver(function (mutations, observer) {{\n",
       "        var display = window.getComputedStyle(gd).display;\n",
       "        if (!display || display === 'none') {{\n",
       "            console.log([gd, 'removed!']);\n",
       "            Plotly.purge(gd);\n",
       "            observer.disconnect();\n",
       "        }}\n",
       "}});\n",
       "\n",
       "// Listen for the removal of the full notebook cells\n",
       "var notebookContainer = gd.closest('#notebook-container');\n",
       "if (notebookContainer) {{\n",
       "    x.observe(notebookContainer, {childList: true});\n",
       "}}\n",
       "\n",
       "// Listen for the clearing of the current output cell\n",
       "var outputEl = gd.closest('.output');\n",
       "if (outputEl) {{\n",
       "    x.observe(outputEl, {childList: true});\n",
       "}}\n",
       "\n",
       "                        })                };                });            </script>        </div>"
      ]
     },
     "metadata": {},
     "output_type": "display_data"
    }
   ],
   "source": [
    "fig_country = go.Figure()\n",
    "fig_country.add_trace(go.Bar(x=type_effectiveness_cols,y=pts[4], marker=dict(color=list(range(20)), colorscale=\"Sunsetdark\")))\n",
    "\n",
    "fig_country.update_layout(title=\"Cluster 5 Weakness Chart\",\n",
    "                             xaxis_title=\"Poke Type\", yaxis_title=\"Damage Multiplyer\",title_x=0.5, paper_bgcolor=\"mintcream\",\n",
    "                             title_font_size=20)\n",
    "fig_country.show()"
   ]
  },
  {
   "cell_type": "markdown",
   "id": "119d713b",
   "metadata": {},
   "source": [
    "군집5 \n",
    "땅 물 격투에 약함 \n",
    "벌레 독에 강함\n",
    "종류로는 루카리오, 강철톤, 전룡, 헬가, 번치코 "
   ]
  },
  {
   "cell_type": "code",
   "execution_count": 322,
   "id": "95b1b63b",
   "metadata": {},
   "outputs": [
    {
     "data": {
      "text/plain": [
       "3     Charmander\n",
       "4     Charmeleon\n",
       "22         Ekans\n",
       "23         Arbok\n",
       "24       Pikachu\n",
       "Name: 이름, dtype: object"
      ]
     },
     "execution_count": 322,
     "metadata": {},
     "output_type": "execute_result"
    }
   ],
   "source": [
    "selected_pokemon = df1[(df1[\"clusters\"] == 4)]['이름'].head(5)\n",
    "selected_pokemon #파이리, 리자드, 아보, 아보크, 피카추 "
   ]
  },
  {
   "cell_type": "code",
   "execution_count": 337,
   "id": "67122f8a",
   "metadata": {},
   "outputs": [
    {
     "data": {
      "text/plain": [
       "447     Lucario\n",
       "207     Steelix\n",
       "180    Ampharos\n",
       "228    Houndoom\n",
       "256    Blaziken\n",
       "Name: 이름, dtype: object"
      ]
     },
     "execution_count": 337,
     "metadata": {},
     "output_type": "execute_result"
    }
   ],
   "source": [
    "selected_pokemon5 = df1[(df1[\"clusters\"] == 4) & (df1[\"스탯_총합\"] >= 600) & (df1['전설의_포켓몬_여부']==0)].sort_values(by='weakness_score')['이름'].head(5)\n",
    "selected_pokemon5 "
   ]
  },
  {
   "cell_type": "code",
   "execution_count": null,
   "id": "1e7a7e98",
   "metadata": {},
   "outputs": [],
   "source": []
  },
  {
   "cell_type": "code",
   "execution_count": 491,
   "id": "b8b496b6",
   "metadata": {},
   "outputs": [
    {
     "name": "stdout",
     "output_type": "stream",
     "text": [
      "Physical Sweeper Stats:\n",
      "           이름   공격  스피드\n",
      "180  Ampharos   95   45\n",
      "207   Steelix  125   30\n",
      "228  Houndoom   90  115\n",
      "256  Blaziken  160  100\n",
      "305    Aggron  140   50\n",
      "447   Lucario  145  112\n",
      "\n",
      "Physical Sweeper Scores:\n",
      "           이름  physical_sweeper_score\n",
      "256  Blaziken                     260\n",
      "447   Lucario                     257\n",
      "228  Houndoom                     205\n",
      "305    Aggron                     190\n",
      "207   Steelix                     155\n",
      "\n",
      "Tanker Stats:\n",
      "           이름  체력   방어  특수_방어\n",
      "180  Ampharos  90  105    110\n",
      "207   Steelix  75  230     95\n",
      "228  Houndoom  75   90     90\n",
      "256  Blaziken  80   80     80\n",
      "305    Aggron  70  230     80\n",
      "447   Lucario  70   88     70\n",
      "\n",
      "Tanker Scores:\n",
      "           이름  tanker_score\n",
      "207   Steelix           400\n",
      "305    Aggron           380\n",
      "180  Ampharos           305\n",
      "228  Houndoom           255\n",
      "256  Blaziken           240\n",
      "\n",
      "Mixed Sweeper Stats:\n",
      "           이름   공격  특수_공격  스피드\n",
      "180  Ampharos   95    165   45\n",
      "207   Steelix  125     55   30\n",
      "228  Houndoom   90    140  115\n",
      "256  Blaziken  160    130  100\n",
      "305    Aggron  140     60   50\n",
      "447   Lucario  145    140  112\n",
      "\n",
      "Mixed Sweeper Scores:\n",
      "           이름  mixed_sweeper_score\n",
      "447   Lucario                  397\n",
      "256  Blaziken                  390\n",
      "228  Houndoom                  345\n",
      "180  Ampharos                  305\n",
      "305    Aggron                  250\n",
      "\n",
      "Special Sweeper Stats:\n",
      "           이름  특수_공격  스피드\n",
      "180  Ampharos    165   45\n",
      "207   Steelix     55   30\n",
      "228  Houndoom    140  115\n",
      "256  Blaziken    130  100\n",
      "305    Aggron     60   50\n",
      "447   Lucario    140  112\n",
      "\n",
      "Special Sweeper Scores:\n",
      "           이름  special_sweeper_score\n",
      "228  Houndoom                    255\n",
      "447   Lucario                    252\n",
      "256  Blaziken                    230\n",
      "180  Ampharos                    210\n",
      "305    Aggron                    110\n"
     ]
    }
   ],
   "source": [
    "# 클러스터 4에 속한 5개의 포켓몬 선택\n",
    "cluster_5_pokemon = df1[(df1[\"clusters\"] == 4) & (df1[\"스탯_총합\"] >= 600) & (df1[\"전설의_포켓몬_여부\"] == 0)]\n",
    "\n",
    "# 역할에 따른 능력치 출력\n",
    "physical_sweeper_stats = cluster_5_pokemon[['이름', '공격', '스피드']]\n",
    "tanker_stats = cluster_5_pokemon[['이름', '체력', '방어', '특수_방어']]\n",
    "mixed_sweeper_stats = cluster_5_pokemon[['이름', '공격', '특수_공격', '스피드']]\n",
    "special_sweeper_stats = cluster_5_pokemon[['이름', '특수_공격', '스피드']]\n",
    "\n",
    "# 능력치 합계 출력\n",
    "cluster_5_pokemon['physical_sweeper_score'] = cluster_5_pokemon['공격'] + cluster_5_pokemon['스피드']\n",
    "cluster_5_pokemon['tanker_score'] = cluster_5_pokemon['체력'] + cluster_5_pokemon['방어'] + cluster_5_pokemon['특수_방어']\n",
    "cluster_5_pokemon['mixed_sweeper_score'] = cluster_5_pokemon['공격'] + cluster_5_pokemon['특수_공격'] + cluster_5_pokemon['스피드']\n",
    "cluster_5_pokemon['special_sweeper_score'] = cluster_5_pokemon['특수_공격'] + cluster_5_pokemon['스피드']\n",
    "\n",
    "# 출력\n",
    "print(\"Physical Sweeper Stats:\")\n",
    "print(physical_sweeper_stats)\n",
    "print(\"\\nPhysical Sweeper Scores:\")\n",
    "print(cluster_5_pokemon[['이름', 'physical_sweeper_score']].sort_values(by='physical_sweeper_score', ascending=False).head(5))\n",
    "\n",
    "print(\"\\nTanker Stats:\")\n",
    "print(tanker_stats)\n",
    "print(\"\\nTanker Scores:\")\n",
    "print(cluster_5_pokemon[['이름', 'tanker_score']].sort_values(by='tanker_score', ascending=False).head(5))\n",
    "\n",
    "print(\"\\nMixed Sweeper Stats:\")\n",
    "print(mixed_sweeper_stats)\n",
    "print(\"\\nMixed Sweeper Scores:\")\n",
    "print(cluster_5_pokemon[['이름', 'mixed_sweeper_score']].sort_values(by='mixed_sweeper_score', ascending=False).head(5))\n",
    "\n",
    "print(\"\\nSpecial Sweeper Stats:\")\n",
    "print(special_sweeper_stats)\n",
    "print(\"\\nSpecial Sweeper Scores:\")\n",
    "print(cluster_5_pokemon[['이름', 'special_sweeper_score']].sort_values(by='special_sweeper_score', ascending=False).head(5))\n"
   ]
  },
  {
   "cell_type": "code",
   "execution_count": null,
   "id": "528fe3e7",
   "metadata": {},
   "outputs": [],
   "source": []
  },
  {
   "cell_type": "markdown",
   "id": "5c3b9c07",
   "metadata": {},
   "source": [
    "결론적으로 포켓몬 데이터 세트를 사용하여 포켓몬 타입과 그 조합을 더 잘 이해할 수 있었습니다. 먼저 타입 매치업 점수에서 총 점수를 계산하여 가장 약한 포켓몬과 가장 강한 포켓몬 타입 조합을 찾았습니다. 그런 다음 K-Means 군집 분석을 사용하여 비슷한 유형 조합을 그룹화하여 가장 유사한 유형을 더 잘 이해하고 포켓몬 팀을 선택하는 데 도움이 되도록 했습니다. "
   ]
  },
  {
   "cell_type": "markdown",
   "id": "bff00ad8",
   "metadata": {},
   "source": [
    "모델링을 통해서 포켓몬 상성에 맞는 최고 조합의  포켓몬예측 모델을 진행할예정이다. "
   ]
  },
  {
   "cell_type": "code",
   "execution_count": 340,
   "id": "0e5e06aa",
   "metadata": {},
   "outputs": [],
   "source": [
    "selected_pokemon1_index0 = selected_pokemon1.iloc[0]\n",
    "selected_pokemon2_index0 = selected_pokemon2.iloc[0]\n",
    "selected_pokemon3_index0 = selected_pokemon3.iloc[0]\n",
    "selected_pokemon4_index0 = selected_pokemon4.iloc[0]\n",
    "selected_pokemon5_index0 = selected_pokemon5.iloc[0]\n",
    "\n",
    "# 각 데이터프레임의 인덱스 0을 모아서 새로운 데이터프레임을 생성합니다.\n",
    "df_index = pd.DataFrame([selected_pokemon1_index0, \n",
    "                          selected_pokemon2_index0, \n",
    "                          selected_pokemon3_index0, \n",
    "                          selected_pokemon4_index0, \n",
    "                          selected_pokemon5_index0])"
   ]
  },
  {
   "cell_type": "code",
   "execution_count": 341,
   "id": "b40e79f9",
   "metadata": {},
   "outputs": [
    {
     "data": {
      "text/html": [
       "<div>\n",
       "<style scoped>\n",
       "    .dataframe tbody tr th:only-of-type {\n",
       "        vertical-align: middle;\n",
       "    }\n",
       "\n",
       "    .dataframe tbody tr th {\n",
       "        vertical-align: top;\n",
       "    }\n",
       "\n",
       "    .dataframe thead th {\n",
       "        text-align: right;\n",
       "    }\n",
       "</style>\n",
       "<table border=\"1\" class=\"dataframe\">\n",
       "  <thead>\n",
       "    <tr style=\"text-align: right;\">\n",
       "      <th></th>\n",
       "      <th>0</th>\n",
       "    </tr>\n",
       "  </thead>\n",
       "  <tbody>\n",
       "    <tr>\n",
       "      <th>0</th>\n",
       "      <td>Blastoise</td>\n",
       "    </tr>\n",
       "    <tr>\n",
       "      <th>1</th>\n",
       "      <td>Scizor</td>\n",
       "    </tr>\n",
       "    <tr>\n",
       "      <th>2</th>\n",
       "      <td>Charizard</td>\n",
       "    </tr>\n",
       "    <tr>\n",
       "      <th>3</th>\n",
       "      <td>Metagross</td>\n",
       "    </tr>\n",
       "    <tr>\n",
       "      <th>4</th>\n",
       "      <td>Lucario</td>\n",
       "    </tr>\n",
       "  </tbody>\n",
       "</table>\n",
       "</div>"
      ],
      "text/plain": [
       "           0\n",
       "0  Blastoise\n",
       "1     Scizor\n",
       "2  Charizard\n",
       "3  Metagross\n",
       "4    Lucario"
      ]
     },
     "execution_count": 341,
     "metadata": {},
     "output_type": "execute_result"
    }
   ],
   "source": [
    "df_index"
   ]
  },
  {
   "cell_type": "code",
   "execution_count": null,
   "id": "6aeb5a48",
   "metadata": {},
   "outputs": [],
   "source": [
    "#최고 조합어때? "
   ]
  },
  {
   "cell_type": "code",
   "execution_count": 390,
   "id": "87620d8c",
   "metadata": {
    "scrolled": false
   },
   "outputs": [
    {
     "data": {
      "text/html": [
       "<div>\n",
       "<style scoped>\n",
       "    .dataframe tbody tr th:only-of-type {\n",
       "        vertical-align: middle;\n",
       "    }\n",
       "\n",
       "    .dataframe tbody tr th {\n",
       "        vertical-align: top;\n",
       "    }\n",
       "\n",
       "    .dataframe thead th {\n",
       "        text-align: right;\n",
       "    }\n",
       "</style>\n",
       "<table border=\"1\" class=\"dataframe\">\n",
       "  <thead>\n",
       "    <tr style=\"text-align: right;\">\n",
       "      <th></th>\n",
       "      <th>이름</th>\n",
       "      <th>타입1</th>\n",
       "      <th>타입2</th>\n",
       "      <th>공격</th>\n",
       "      <th>방어</th>\n",
       "      <th>체력</th>\n",
       "      <th>특수_공격</th>\n",
       "      <th>특수_방어</th>\n",
       "      <th>스피드</th>\n",
       "    </tr>\n",
       "  </thead>\n",
       "  <tbody>\n",
       "    <tr>\n",
       "      <th>5</th>\n",
       "      <td>Charizard</td>\n",
       "      <td>불</td>\n",
       "      <td>비행</td>\n",
       "      <td>104</td>\n",
       "      <td>78</td>\n",
       "      <td>78</td>\n",
       "      <td>159</td>\n",
       "      <td>115</td>\n",
       "      <td>100</td>\n",
       "    </tr>\n",
       "    <tr>\n",
       "      <th>8</th>\n",
       "      <td>Blastoise</td>\n",
       "      <td>물</td>\n",
       "      <td>없음</td>\n",
       "      <td>103</td>\n",
       "      <td>120</td>\n",
       "      <td>79</td>\n",
       "      <td>135</td>\n",
       "      <td>115</td>\n",
       "      <td>78</td>\n",
       "    </tr>\n",
       "    <tr>\n",
       "      <th>211</th>\n",
       "      <td>Scizor</td>\n",
       "      <td>벌레</td>\n",
       "      <td>강철</td>\n",
       "      <td>150</td>\n",
       "      <td>140</td>\n",
       "      <td>70</td>\n",
       "      <td>65</td>\n",
       "      <td>100</td>\n",
       "      <td>75</td>\n",
       "    </tr>\n",
       "    <tr>\n",
       "      <th>375</th>\n",
       "      <td>Metagross</td>\n",
       "      <td>강철</td>\n",
       "      <td>에스퍼</td>\n",
       "      <td>145</td>\n",
       "      <td>150</td>\n",
       "      <td>80</td>\n",
       "      <td>105</td>\n",
       "      <td>110</td>\n",
       "      <td>110</td>\n",
       "    </tr>\n",
       "    <tr>\n",
       "      <th>447</th>\n",
       "      <td>Lucario</td>\n",
       "      <td>격투</td>\n",
       "      <td>강철</td>\n",
       "      <td>145</td>\n",
       "      <td>88</td>\n",
       "      <td>70</td>\n",
       "      <td>140</td>\n",
       "      <td>70</td>\n",
       "      <td>112</td>\n",
       "    </tr>\n",
       "  </tbody>\n",
       "</table>\n",
       "</div>"
      ],
      "text/plain": [
       "            이름 타입1  타입2   공격   방어  체력  특수_공격  특수_방어  스피드\n",
       "5    Charizard   불   비행  104   78  78    159    115  100\n",
       "8    Blastoise   물   없음  103  120  79    135    115   78\n",
       "211     Scizor  벌레   강철  150  140  70     65    100   75\n",
       "375  Metagross  강철  에스퍼  145  150  80    105    110  110\n",
       "447    Lucario  격투   강철  145   88  70    140     70  112"
      ]
     },
     "execution_count": 390,
     "metadata": {},
     "output_type": "execute_result"
    }
   ],
   "source": [
    "# Assuming df1 is your DataFrame and it contains columns 'name', '타입1', and '타입2'\n",
    "selected_names = [\"Blastoise\", \"Scizor\", \"Charizard\", \"Metagross\", \"Lucario\"]\n",
    "df_index = df1[df1['이름'].isin(selected_names)][['이름','타입1', '타입2','공격','방어','체력','특수_공격','특수_방어','스피드']]\n",
    "df_index #리자몽, 거북왕, 핫삼, 메타그로스, 루카리오 "
   ]
  },
  {
   "cell_type": "code",
   "execution_count": null,
   "id": "0a18c4cd",
   "metadata": {
    "scrolled": false
   },
   "outputs": [],
   "source": []
  },
  {
   "cell_type": "code",
   "execution_count": null,
   "id": "b1fbec2b",
   "metadata": {},
   "outputs": [],
   "source": []
  }
 ],
 "metadata": {
  "kernelspec": {
   "display_name": "Python 3 (ipykernel)",
   "language": "python",
   "name": "python3"
  },
  "language_info": {
   "codemirror_mode": {
    "name": "ipython",
    "version": 3
   },
   "file_extension": ".py",
   "mimetype": "text/x-python",
   "name": "python",
   "nbconvert_exporter": "python",
   "pygments_lexer": "ipython3",
   "version": "3.11.5"
  }
 },
 "nbformat": 4,
 "nbformat_minor": 5
}
